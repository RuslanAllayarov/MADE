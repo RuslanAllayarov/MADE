{
 "cells": [
  {
   "cell_type": "code",
   "execution_count": 1,
   "id": "6c583559",
   "metadata": {},
   "outputs": [
    {
     "name": "stdout",
     "output_type": "stream",
     "text": [
      "root\n",
      " |-- car: struct (nullable = false)\n",
      " |    |-- brand: string (nullable = false)\n",
      " |    |-- model: string (nullable = false)\n",
      " |    |-- transmission: struct (nullable = false)\n",
      " |    |    |-- wheel_drive: string (nullable = false)\n",
      " |    |    |-- gear_box: string (nullable = false)\n",
      "\n",
      "+------------------------------+\n",
      "|car                           |\n",
      "+------------------------------+\n",
      "|[bmw, 220i, [rear, automatic]]|\n",
      "+------------------------------+\n",
      "\n"
     ]
    }
   ],
   "source": [
    "from pyspark.sql.functions import *\n",
    "\n",
    "input_df = \\\n",
    "    spark.range(0,1) \\\n",
    "        .select(\n",
    "            struct(\n",
    "                lit(\"bmw\").alias(\"brand\"),\n",
    "                lit(\"220i\").alias(\"model\"),\n",
    "                struct(\n",
    "                    lit(\"rear\").alias(\"wheel_drive\"),\n",
    "                    lit(\"automatic\").alias(\"gear_box\")\n",
    "                ).alias(\"transmission\")\n",
    "            ).alias(\"car\")\n",
    "        )\n",
    "\n",
    "input_df.printSchema()\n",
    "input_df.show(1, False)"
   ]
  },
  {
   "cell_type": "code",
   "execution_count": 2,
   "id": "5d780d82",
   "metadata": {},
   "outputs": [],
   "source": [
    "updates = {\n",
    "    \"car.brand\": lit(\"audi\"),\n",
    "    \"car.transmission.wheel_drive\": lit(\"all\"),\n",
    "    \"car.color\": lit(\"black\"),\n",
    "    \"owner.first_name\": lit(\"Ivan\"),\n",
    "    \"owner.last_name\": lit(\"Ivanov\"),\n",
    "}"
   ]
  },
  {
   "cell_type": "code",
   "execution_count": 3,
   "id": "242517d2",
   "metadata": {},
   "outputs": [],
   "source": [
    "def check_results(df):\n",
    "    assert set(df.columns) == set([\"car\", \"owner\"])\n",
    "    assert set(df.select(col(\"car.*\")).columns) == set([\"brand\", \"model\", \"transmission\", \"color\"])\n",
    "    assert set(df.select(col(\"owner.*\")).columns) == set([\"first_name\", \"last_name\"])\n",
    "    assert df.filter(col(\"`car`.`transmission`.`wheel_drive`\") == \"all\").count() == 1\n",
    "    assert df.filter(col(\"`car`.`transmission`.`gear_box`\") == \"automatic\").count() == 1\n",
    "    print(\"All tests passed!\")"
   ]
  },
  {
   "cell_type": "code",
   "execution_count": 4,
   "id": "96552f9d",
   "metadata": {},
   "outputs": [
    {
     "name": "stdout",
     "output_type": "stream",
     "text": [
      "root\n",
      " |-- car: struct (nullable = false)\n",
      " |    |-- brand: string (nullable = false)\n",
      " |    |-- model: string (nullable = false)\n",
      " |    |-- transmission: struct (nullable = false)\n",
      " |    |    |-- wheel_drive: string (nullable = false)\n",
      " |    |    |-- gear_box: string (nullable = false)\n",
      " |    |-- color: string (nullable = false)\n",
      " |-- owner: struct (nullable = false)\n",
      " |    |-- first_name: string (nullable = false)\n",
      " |    |-- last_name: string (nullable = false)\n",
      "\n",
      "All tests passed!\n"
     ]
    }
   ],
   "source": [
    "valid_results = \\\n",
    "    spark.range(0,1) \\\n",
    "        .select(\n",
    "            struct(\n",
    "                lit(\"audi\").alias(\"brand\"),\n",
    "                lit(\"220i\").alias(\"model\"),\n",
    "                struct(\n",
    "                    lit(\"all\").alias(\"wheel_drive\"),\n",
    "                    lit(\"automatic\").alias(\"gear_box\")\n",
    "                ).alias(\"transmission\"),\n",
    "                lit(\"black\").alias(\"color\")\n",
    "            ).alias(\"car\"),\n",
    "            struct(\n",
    "                lit(\"Ivan\").alias(\"first_name\"),\n",
    "                lit(\"Ivanov\").alias(\"last_name\")\n",
    "            ).alias(\"owner\")\n",
    "        )\n",
    "valid_results.printSchema()\n",
    "check_results(valid_results)"
   ]
  },
  {
   "cell_type": "code",
   "execution_count": 5,
   "id": "f2efcbb5",
   "metadata": {},
   "outputs": [],
   "source": [
    "from task_SparkNestedCRUD import update_df"
   ]
  },
  {
   "cell_type": "code",
   "execution_count": 6,
   "id": "5c1b1ea1",
   "metadata": {},
   "outputs": [
    {
     "name": "stdout",
     "output_type": "stream",
     "text": [
      "All tests passed!\n"
     ]
    }
   ],
   "source": [
    "check_results(update_df(input_df, updates))"
   ]
  }
 ],
 "metadata": {
  "kernelspec": {
   "display_name": "Python 3",
   "language": "python",
   "name": "python3"
  },
  "language_info": {
   "codemirror_mode": {
    "name": "ipython",
    "version": 3
   },
   "file_extension": ".py",
   "mimetype": "text/x-python",
   "name": "python",
   "nbconvert_exporter": "python",
   "pygments_lexer": "ipython3",
   "version": "3.6.9"
  }
 },
 "nbformat": 4,
 "nbformat_minor": 5
}
