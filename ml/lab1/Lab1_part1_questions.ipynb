{
  "nbformat": 4,
  "nbformat_minor": 0,
  "metadata": {
    "kernelspec": {
      "display_name": "mipt",
      "language": "python",
      "name": "mipt"
    },
    "language_info": {
      "codemirror_mode": {
        "name": "ipython",
        "version": 3
      },
      "file_extension": ".py",
      "mimetype": "text/x-python",
      "name": "python",
      "nbconvert_exporter": "python",
      "pygments_lexer": "ipython3",
      "version": "3.9.5"
    },
    "colab": {
      "name": "Lab1_part1_questions.ipynb",
      "provenance": []
    }
  },
  "cells": [
    {
      "cell_type": "markdown",
      "metadata": {
        "id": "6PMO3nlbIMNq"
      },
      "source": [
        "*Credits: materials from this notebook belong to YSDA [Practical DL](https://github.com/yandexdataschool/Practical_DL) course. Special thanks for making them available online.*"
      ]
    },
    {
      "cell_type": "markdown",
      "metadata": {
        "id": "ei8X5VyfIMN2"
      },
      "source": [
        "# Lab assignment №1, part 1\n",
        "\n",
        "This lab assignment consists of several parts. You are supposed to make some transformations, train some models, estimate the quality of the models and explain your results.\n",
        "\n",
        "Several comments:\n",
        "* Don't hesitate to ask questions, it's a good practice.\n",
        "* No private/public sharing, please. The copied assignments will be graded with 0 points.\n",
        "* Blocks of this lab will be graded separately."
      ]
    },
    {
      "cell_type": "markdown",
      "metadata": {
        "id": "cnaZ2ibPIMN6"
      },
      "source": [
        "## 1. Matrix differentiation"
      ]
    },
    {
      "cell_type": "markdown",
      "metadata": {
        "id": "71f5JnhGIMN9"
      },
      "source": [
        "Since it easy to google every task please please please try to undestand what's going on. The \"just answer\" thing will be not counted, make sure to present derivation of your solution. It is absolutely OK if you found an answer on web then just exercise in $\\LaTeX$ copying it into here."
      ]
    },
    {
      "cell_type": "markdown",
      "metadata": {
        "id": "cLJIMGIpIMN_"
      },
      "source": [
        "Useful links: \n",
        "[1](http://www.machinelearning.ru/wiki/images/2/2a/Matrix-Gauss.pdf)\n",
        "[2](http://www.atmos.washington.edu/~dennis/MatrixCalculus.pdf)"
      ]
    },
    {
      "cell_type": "markdown",
      "metadata": {
        "id": "3_pjY9bBIMOB"
      },
      "source": [
        "## ex. 1"
      ]
    },
    {
      "cell_type": "markdown",
      "metadata": {
        "id": "GidpokSfIMOE"
      },
      "source": [
        "$$  \n",
        "y = x^Tx,  \\quad x \\in \\mathbb{R}^N \n",
        "$$"
      ]
    },
    {
      "cell_type": "markdown",
      "metadata": {
        "id": "zr_vo9ZgIMOF"
      },
      "source": [
        "$$\n",
        "\\frac{dy}{dx} = \n",
        "$$ "
      ]
    },
    {
      "cell_type": "markdown",
      "metadata": {
        "id": "AW1HR5NWKHfb"
      },
      "source": [
        "$$\n",
        "x^Tx = \\sum_{i = 1}^N x_i^2, \\quad \\frac{d(x^Tx)}{dx_k} = 2x_k\n",
        "$$\n",
        "$$\n",
        "\\frac{dy}{dx} = 2x\n",
        "$$\n"
      ]
    },
    {
      "cell_type": "markdown",
      "metadata": {
        "id": "JZt7kD7GIMOK"
      },
      "source": [
        "## ex. 2"
      ]
    },
    {
      "cell_type": "markdown",
      "metadata": {
        "id": "1L-dBi_GIMOM"
      },
      "source": [
        "$$ y = tr(AB) \\quad A,B \\in \\mathbb{R}^{N \\times N} $$ "
      ]
    },
    {
      "cell_type": "markdown",
      "metadata": {
        "id": "GSlcUureIMOO"
      },
      "source": [
        "$$\n",
        "\\frac{dy}{dA} =\n",
        "$$"
      ]
    },
    {
      "cell_type": "markdown",
      "metadata": {
        "id": "bKMNgL3-KWYw"
      },
      "source": [
        "$$\n",
        "tr(AB) = \\sum_{i = 1}^N (AB)_{ii} = \\sum_{i = 1}^N \\sum_{j = 1}^N a_{ij} \\cdot b_{ji}\n",
        "$$\n",
        "$$\n",
        "\\frac{d(tr(AB))}{d a_{ij}} = b_{ji}, \\quad\n",
        "\\frac{dy}{dA} = B^T\n",
        "$$"
      ]
    },
    {
      "cell_type": "markdown",
      "metadata": {
        "id": "js0bPD_yIMOR"
      },
      "source": [
        "## ex. 3"
      ]
    },
    {
      "cell_type": "markdown",
      "metadata": {
        "id": "89DJfOVIIMOT"
      },
      "source": [
        "$$  \n",
        "y = x^TAc , \\quad A\\in \\mathbb{R}^{N \\times N}, x\\in \\mathbb{R}^{N}, c\\in \\mathbb{R}^{N} \n",
        "$$"
      ]
    },
    {
      "cell_type": "markdown",
      "metadata": {
        "id": "qi_bRqt6IMOU"
      },
      "source": [
        "$$\n",
        "\\frac{dy}{dx} =\n",
        "$$"
      ]
    },
    {
      "cell_type": "markdown",
      "metadata": {
        "id": "InFamh7NIMOV"
      },
      "source": [
        "$$\n",
        "\\frac{dy}{dA} =\n",
        "$$ "
      ]
    },
    {
      "cell_type": "markdown",
      "metadata": {
        "id": "UvWzf16LIMOW"
      },
      "source": [
        "Hint for the latter (one of the ways): use *ex. 2* result and the fact \n",
        "$$\n",
        "tr(ABC) = tr (CAB)\n",
        "$$"
      ]
    },
    {
      "cell_type": "markdown",
      "metadata": {
        "id": "6wmgYJZaK-Sb"
      },
      "source": [
        "$$\n",
        "y = \\sum_{i = 1}^N x_i \\cdot (Ac)_i, \\quad \\frac{d(x^TAc)}{x_i} = (Ac)_i\n",
        "$$\n",
        "$$\n",
        "\\frac{dy}{dx} = Ac\n",
        "$$\n",
        "$$\n",
        "y = \\sum_{i = 1}^N x_i \\sum_{j = 1}^N a_{ij} c_j, \\quad \\frac{d(x^TAc)}{d a_{ij}} = x_i c_j\n",
        "$$\n",
        "$$\n",
        "\\frac{dy}{dA} = xc^T\n",
        "$$"
      ]
    },
    {
      "cell_type": "markdown",
      "metadata": {
        "id": "cLYf8K1JIMOX"
      },
      "source": [
        "## ex. 4"
      ]
    },
    {
      "cell_type": "markdown",
      "metadata": {
        "id": "J43vvfU4IMOY"
      },
      "source": [
        "Classic matrix factorization example. Given matrix $X$ you need to find $A$, $S$ to approximate $X$. This can be done by simple gradient descent iteratively alternating $A$ and $S$ updates.\n",
        "$$\n",
        "J = || X - AS ||_F^2  , \\quad A\\in \\mathbb{R}^{N \\times R} , \\quad S\\in \\mathbb{R}^{R \\times M}\n",
        "$$\n",
        "$$\n",
        "\\frac{dJ}{dS} = ? \n",
        "$$\n",
        "\n",
        "You may use one of the following approaches:"
      ]
    },
    {
      "cell_type": "markdown",
      "metadata": {
        "id": "t9y4rWD-IMOY"
      },
      "source": [
        "#### First approach\n",
        "Using ex.2 and the fact:\n",
        "$$\n",
        "|| X ||_F^2 = tr(XX^T) \n",
        "$$ \n",
        "it is easy to derive gradients (you can find it in one of the refs). "
      ]
    },
    {
      "cell_type": "markdown",
      "metadata": {
        "id": "bH9z-dkWIMOZ"
      },
      "source": [
        "#### Second approach\n",
        "You can use *slightly different techniques* if they suits you. Take a look at this derivation:\n",
        "<img src=\"grad.png\">\n",
        "(excerpt from [Handbook of blind source separation, Jutten, page 517](https://books.google.ru/books?id=PTbj03bYH6kC&printsec=frontcover&dq=Handbook+of+Blind+Source+Separation&hl=en&sa=X&ved=0ahUKEwi-q_apiJDLAhULvXIKHVXJDWcQ6AEIHDAA#v=onepage&q=Handbook%20of%20Blind%20Source%20Separation&f=false), open for better picture)."
      ]
    },
    {
      "cell_type": "markdown",
      "metadata": {
        "id": "zb8ABk3dIMOa"
      },
      "source": [
        "#### Third approach\n",
        "And finally we can use chain rule! \n",
        "let $ F = AS $ \n",
        "\n",
        "**Find**\n",
        "$$\n",
        "\\frac{dJ}{dF} =  \n",
        "$$ \n",
        "and \n",
        "$$\n",
        "\\frac{dF}{dS} =  \n",
        "$$ \n",
        "(the shape should be $ NM \\times RM )$.\n",
        "\n",
        "Now it is easy do get desired gradients:\n",
        "$$\n",
        "\\frac{dJ}{dS} =  \n",
        "$$ "
      ]
    },
    {
      "cell_type": "markdown",
      "metadata": {
        "id": "DYHxRdFsNONC"
      },
      "source": [
        "$$\n",
        "J = || X - AS ||_F^2  , \\quad A\\in \\mathbb{R}^{N \\times R} , \\quad S\\in \\mathbb{R}^{R \\times M}\n",
        "$$\n",
        "$$ J = tr((X-AS)^T(X-AS)) $$\n",
        "$$ J = tr((X^T - S^T A^T)(X-AS)) $$\n",
        "$$ J = tr(X^TX - X^T AS - S^TA^TX + S^TA^TAS) $$\n",
        "$$ J = tr(X^TX) -2tr(S^TA^TX) + tr(S^TA^TAS) $$\n",
        "$$ \\frac{dJ}{dS} = 0 - 2 A^TX + A^TAS + (A^TA)^TS $$\n",
        "$$ \\frac{dJ}{dS} = -2 A^TX + 2A^TAS = -2A^T(X-AS)$$\n"
      ]
    },
    {
      "cell_type": "markdown",
      "metadata": {
        "collapsed": true,
        "jupyter": {
          "outputs_hidden": true
        },
        "id": "8QZM1d7eIMOb"
      },
      "source": [
        "## 2. kNN questions\n",
        "Here come the questions from the assignment0_01. Please, refer to the assignment0_01 to get the context of the questions."
      ]
    },
    {
      "cell_type": "markdown",
      "metadata": {
        "id": "7gdFT2CHIMOc"
      },
      "source": [
        "### Question 1\n",
        "\n",
        "Notice the structured patterns in the distance matrix, where some rows or columns are visible brighter. (Note that with the default color scheme black indicates low distances while white indicates high distances.)\n",
        "\n",
        "- What in the data is the cause behind the distinctly bright rows?\n",
        "- What causes the columns?\n",
        "\n",
        "*Your Answer:*\n",
        "\n",
        "- This is an observation that is very different from the observations in the training set or this is an observation from a class that was not included in the training set\n",
        "\n",
        "- This is an observation from the training set, which does not look like most of the observations from the test set\n",
        "\n"
      ]
    },
    {
      "cell_type": "markdown",
      "metadata": {
        "id": "OPlFoG6iIMOd"
      },
      "source": [
        "### Question 2\n",
        "\n",
        "We can also use other distance metrics such as L1 distance.\n",
        "For pixel values $p_{ij}^{(k)}$ at location $(i,j)$ of some image $I_k$, \n",
        "\n",
        "the mean $\\mu$ across all pixels over all images is $$\\mu=\\frac{1}{nhw}\\sum_{k=1}^n\\sum_{i=1}^{h}\\sum_{j=1}^{w}p_{ij}^{(k)}$$\n",
        "And the pixel-wise mean $\\mu_{ij}$ across all images is \n",
        "$$\\mu_{ij}=\\frac{1}{n}\\sum_{k=1}^np_{ij}^{(k)}.$$\n",
        "The general standard deviation $\\sigma$ and pixel-wise standard deviation $\\sigma_{ij}$ is defined similarly.\n",
        "\n",
        "Which of the following preprocessing steps will not change the performance of a Nearest Neighbor classifier that uses L1 distance? Select all that apply.\n",
        "1. Subtracting the mean $\\mu$ ($\\tilde{p}_{ij}^{(k)}=p_{ij}^{(k)}-\\mu$.)\n",
        "2. Subtracting the per pixel mean $\\mu_{ij}$  ($\\tilde{p}_{ij}^{(k)}=p_{ij}^{(k)}-\\mu_{ij}$.)\n",
        "3. Subtracting the mean $\\mu$ and dividing by the standard deviation $\\sigma$.\n",
        "4. Subtracting the pixel-wise mean $\\mu_{ij}$ and dividing by the pixel-wise standard deviation $\\sigma_{ij}$.\n",
        "5. Rotating the coordinate axes of the data.\n",
        "\n",
        "*Your Answer:* 1, 2, 3, 4\n",
        "\n",
        "\n",
        "*Your Explanation:*\n",
        "$ I_k \\in \\mathbb{R}^{h \\times w}, \\quad M = (\\mu_{ij})\\vert_{i=1:h, j=1:w} \\in \\mathbb{R}^{h \\times w}$\n",
        "1. $ || (I_k - \\mu) - (I_l - \\mu) ||_1 = || I_k - I_l ||_1 $\n",
        "2. $ || (I_k - M) - (I_l - M) ||_1 = || I_k - I_l ||_1 $\n",
        "3. $ || \\frac{I_k - \\mu}{\\sigma} - \\frac{I_l - \\mu}{\\sigma} ||_1 = \\frac{1}{\\sigma}|| I_k - I_l ||_1 > \\frac{1}{\\sigma}|| I_k - I_m ||_1 = || \\frac{I_k - \\mu}{\\sigma} - \\frac{I_m - \\mu}{\\sigma} ||_1$  \n",
        "The order relation remains the same\n",
        "4. $|| \\frac{I_k - M}{\\sigma} - \\frac{I_l - M}{\\sigma} ||_1 = \\sum\\limits_{i = 1}^h \\sum\\limits_{j = 1}^w |\\frac{p_{ij}^{(k)} - \\mu_{ij}}{\\sigma_{ij}} - \\frac{p_{ij}^{(l)} - \\mu_{ij}}{\\sigma_{ij}}| = \\sum\\limits_{i = 1}^h \\sum\\limits_{j = 1}^w \\frac{|p_{ij}^{(k)} - p_{ij}^{(l)}|}{\\sigma_{ij}} > \\sum\\limits_{i = 1}^h \\sum\\limits_{j = 1}^w \\frac{|p_{ij}^{(k)} - p_{ij}^{(m)}|}{\\sigma_{ij}} = $  $=\\sum\\limits_{i = 1}^h \\sum\\limits_{j = 1}^w |\\frac{p_{ij}^{(k)} - \\mu_{ij}}{\\sigma_{ij}} - \\frac{p_{ij}^{(m)} - \\mu_{ij}}{\\sigma_{ij}}| = || \\frac{I_k - M}{\\sigma} - \\frac{I_m - M}{\\sigma} ||_1$  \n",
        "The order relation remains the same\n",
        "5. No.\n",
        "$x = (0,1), \\; y = (1,0), \\; z = (1,2) $  \n",
        "$ ||x - y||_1 = 2, \\; ||x - z||_1 = 2 $  \n",
        "Let rotate the points 45 degrees  \n",
        "$ A = \\frac{\\sqrt{2}}{2} \\left( \\begin{matrix}\n",
        "1 & -1 \\\\ \n",
        "1 & 1\n",
        "\\end{matrix} \\right)$  \n",
        "$ x_0 = Ax = (-\\sqrt{2}/2, \\sqrt{2}/2), \\; y_0 = Ay = (\\sqrt{2}/2, \\sqrt{2}/2), \\; z_0 = Az = (-\\sqrt{2}/2, 3\\sqrt{2}/2)$\n",
        "$ ||x_0 - y_0||_1 = \\sqrt{2}, \\; ||y_0 - z_0||_1 = 2\\sqrt{2} $  \n",
        "Order relation changes"
      ]
    },
    {
      "cell_type": "markdown",
      "metadata": {
        "id": "bUX74aIcIMOf"
      },
      "source": [
        "## Question 3\n",
        "\n",
        "Which of the following statements about $k$-Nearest Neighbor ($k$-NN) are true in a classification setting, and for all $k$? Select all that apply.\n",
        "1. The decision boundary (hyperplane between classes in feature space) of the k-NN classifier is linear.\n",
        "2. The training error of a 1-NN will always be lower than that of 5-NN.\n",
        "3. The test error of a 1-NN will always be lower than that of a 5-NN.\n",
        "4. The time needed to classify a test example with the k-NN classifier grows with the size of the training set.\n",
        "5. None of the above.\n",
        "\n",
        "*Your Answer:* 2, 4\n",
        "\n",
        "\n",
        "*Your Explanation:*\n",
        "1. No. Let points of the first class be in a circle of radius 1, and points of another class are outside a circle of radius 5. Then knn constructs a nonlinear decision bondary\n",
        "2. Yes, because in the 1-NN case, for point x from the training set, the point x itself is the nearest neighbor. In the case of 5-NN, this is not guaranteed, since the remaining 4 neighbors may be from an another class\n",
        "3. No.   \n",
        "Let $ \\; x_{train} = [(0,0), (0,1), (0,2), (0,3), (3,1)], \\; y_{train} = [0,0,0,0,1]$  \n",
        "$x_{test} = (2,1), \\; y_{test} = 0 $  \n",
        "Then $ y_{pred}^{1-NN} = 1, \\; y_{pred}^{5-NN} = 0 $\n",
        "4. Yes. When testing knn, you need to calculate the distances to all objects from the training sample. The running time knn is estimated as O(NMK), where N - size of train set, M - size of test set, K - feature space dimension\n",
        "\n"
      ]
    }
  ]
}