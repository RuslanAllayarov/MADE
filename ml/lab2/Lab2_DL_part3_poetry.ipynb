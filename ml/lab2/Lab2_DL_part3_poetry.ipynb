{
  "nbformat": 4,
  "nbformat_minor": 0,
  "metadata": {
    "anaconda-cloud": {},
    "kernelspec": {
      "display_name": "Python 3",
      "language": "python",
      "name": "python3"
    },
    "language_info": {
      "codemirror_mode": {
        "name": "ipython",
        "version": 3
      },
      "file_extension": ".py",
      "mimetype": "text/x-python",
      "name": "python",
      "nbconvert_exporter": "python",
      "pygments_lexer": "ipython3",
      "version": "3.7.7"
    },
    "colab": {
      "name": "Lab2_DL_part3_poetry.ipynb",
      "provenance": []
    }
  },
  "cells": [
    {
      "cell_type": "markdown",
      "metadata": {
        "id": "JjS00yyes9EE"
      },
      "source": [
        "## Lab 2"
      ]
    },
    {
      "cell_type": "markdown",
      "metadata": {
        "id": "BaXETH8Qs9EK"
      },
      "source": [
        "### Part 3. Poetry generation\n",
        "\n",
        "Let's try to generate some poetry using RNNs. \n",
        "\n",
        "You have several choices here: \n",
        "\n",
        "* The Shakespeare sonnets, file `sonnets.txt` available in the notebook directory.\n",
        "\n",
        "* Роман в стихах \"Евгений Онегин\" Александра Сергеевича Пушкина. В предобработанном виде доступен по [ссылке](https://github.com/attatrol/data_sources/blob/master/onegin.txt).\n",
        "\n",
        "* Some other text source, if it will be approved by the course staff.\n",
        "\n",
        "Text generation can be designed in several steps:\n",
        "    \n",
        "1. Data loading.\n",
        "2. Dictionary generation.\n",
        "3. Data preprocessing.\n",
        "4. Model (neural network) training.\n",
        "5. Text generation (model evaluation).\n"
      ]
    },
    {
      "cell_type": "code",
      "metadata": {
        "id": "6TkvMPcbs9EM"
      },
      "source": [
        "from random import sample\n",
        "from IPython.display import clear_output\n",
        "from pprint import pprint\n",
        "import torch, torch.nn as nn\n",
        "import torch.nn.functional as F\n",
        "import matplotlib.pyplot as plt\n",
        "import numpy as np\n",
        "import string\n",
        "import os"
      ],
      "execution_count": 1,
      "outputs": []
    },
    {
      "cell_type": "markdown",
      "metadata": {
        "id": "F2CcjqsenTGd"
      },
      "source": [
        "Comment: the built models can work with both datasets"
      ]
    },
    {
      "cell_type": "markdown",
      "metadata": {
        "id": "YEVifYQ7s9EO"
      },
      "source": [
        "### Data loading: Shakespeare"
      ]
    },
    {
      "cell_type": "markdown",
      "metadata": {
        "id": "PRHrDKkds9EP"
      },
      "source": [
        "Shakespeare sonnets are awailable at this [link](http://www.gutenberg.org/ebooks/1041?msg=welcome_stranger). In addition, they are stored in the same directory as this notebook (`sonnetes.txt`). Simple preprocessing is already done for you in the next cell: all technical info is dropped."
      ]
    },
    {
      "cell_type": "markdown",
      "metadata": {
        "id": "_-SrHL-vs9EQ"
      },
      "source": [
        "In opposite to the in-class practice, this time we want to predict complex text. Let's reduce the complexity of the task and lowercase all the symbols.\n",
        "\n",
        "Now variable `text` is a list of strings. Join all the strings into one and lowercase it."
      ]
    },
    {
      "cell_type": "code",
      "metadata": {
        "colab": {
          "base_uri": "https://localhost:8080/"
        },
        "id": "U32kWH8J_cBg",
        "outputId": "b08b35fe-f9d8-47e5-893a-47c01e3972b5"
      },
      "source": [
        "if not os.path.exists('sonnets.txt'):\n",
        "    !wget https://raw.githubusercontent.com/girafe-ai/ml-mipt/21f_basic/homeworks_basic/lab02_deep_learning/sonnets.txt\n",
        "\n",
        "with open('sonnets.txt', 'r') as iofile:\n",
        "    text = iofile.readlines()\n",
        "    \n",
        "TEXT_START = 45\n",
        "TEXT_END = -368\n",
        "text = text[TEXT_START : TEXT_END]\n",
        "assert len(text) == 2616\n",
        "\n",
        "text = [x.lower() for x in text]\n",
        "text = ''.join(text)\n",
        "\n",
        "assert len(text) == 100225, 'Are you sure you have concatenated all the strings?'\n",
        "assert not any([x in set(text) for x in string.ascii_uppercase]), 'Uppercase letters are present'\n",
        "print('OK!')"
      ],
      "execution_count": 2,
      "outputs": [
        {
          "output_type": "stream",
          "name": "stdout",
          "text": [
            "--2021-12-20 03:36:25--  https://raw.githubusercontent.com/girafe-ai/ml-mipt/21f_basic/homeworks_basic/lab02_deep_learning/sonnets.txt\n",
            "Resolving raw.githubusercontent.com (raw.githubusercontent.com)... 185.199.108.133, 185.199.109.133, 185.199.110.133, ...\n",
            "Connecting to raw.githubusercontent.com (raw.githubusercontent.com)|185.199.108.133|:443... connected.\n",
            "HTTP request sent, awaiting response... 200 OK\n",
            "Length: 119748 (117K) [text/plain]\n",
            "Saving to: ‘sonnets.txt’\n",
            "\n",
            "\rsonnets.txt           0%[                    ]       0  --.-KB/s               \rsonnets.txt         100%[===================>] 116.94K  --.-KB/s    in 0.02s   \n",
            "\n",
            "2021-12-20 03:36:25 (5.56 MB/s) - ‘sonnets.txt’ saved [119748/119748]\n",
            "\n",
            "OK!\n"
          ]
        }
      ]
    },
    {
      "cell_type": "markdown",
      "metadata": {
        "id": "PRilrUF0s9ES"
      },
      "source": [
        "### Data loading: \"Евгений Онегин\"\n"
      ]
    },
    {
      "cell_type": "code",
      "metadata": {
        "colab": {
          "base_uri": "https://localhost:8080/"
        },
        "id": "OcivB9rTs9EU",
        "outputId": "04c84ae4-17af-4f7e-dc35-c9600e9f52ed"
      },
      "source": [
        "!wget https://raw.githubusercontent.com/attatrol/data_sources/master/onegin.txt\n",
        "    \n",
        "with open('onegin.txt', 'r') as iofile:\n",
        "    text = iofile.readlines()\n",
        "    \n",
        "text = [x.replace('\\t\\t', '') for x in text]\n",
        "\n",
        "text = [x.lower() for x in text]\n",
        "text = ''.join(text)"
      ],
      "execution_count": 2,
      "outputs": [
        {
          "output_type": "stream",
          "name": "stdout",
          "text": [
            "--2021-12-20 05:35:40--  https://raw.githubusercontent.com/attatrol/data_sources/master/onegin.txt\n",
            "Resolving raw.githubusercontent.com (raw.githubusercontent.com)... 185.199.109.133, 185.199.110.133, 185.199.108.133, ...\n",
            "Connecting to raw.githubusercontent.com (raw.githubusercontent.com)|185.199.109.133|:443... connected.\n",
            "HTTP request sent, awaiting response... 200 OK\n",
            "Length: 262521 (256K) [text/plain]\n",
            "Saving to: ‘onegin.txt.4’\n",
            "\n",
            "\ronegin.txt.4          0%[                    ]       0  --.-KB/s               \ronegin.txt.4        100%[===================>] 256.37K  --.-KB/s    in 0.02s   \n",
            "\n",
            "2021-12-20 05:35:40 (11.0 MB/s) - ‘onegin.txt.4’ saved [262521/262521]\n",
            "\n"
          ]
        }
      ]
    },
    {
      "cell_type": "markdown",
      "metadata": {
        "id": "BDihvo50s9EW"
      },
      "source": [
        "In opposite to the in-class practice, this time we want to predict complex text. Let's reduce the complexity of the task and lowercase all the symbols.\n",
        "\n",
        "Now variable `text` is a list of strings. Join all the strings into one and lowercase it."
      ]
    },
    {
      "cell_type": "markdown",
      "metadata": {
        "id": "rubTzdUzs9EX"
      },
      "source": [
        "Put all the characters, that you've seen in the text, into variable `tokens`."
      ]
    },
    {
      "cell_type": "markdown",
      "metadata": {
        "id": "CfZEiOuws9EY"
      },
      "source": [
        "Create dictionary `token_to_idx = {<char>: <index>}` and dictionary `idx_to_token = {<index>: <char>}`"
      ]
    },
    {
      "cell_type": "code",
      "metadata": {
        "collapsed": true,
        "id": "KlGwUKLAs9EY",
        "colab": {
          "base_uri": "https://localhost:8080/"
        },
        "outputId": "0e477273-34b3-4aaa-873d-87ebbd0c1043"
      },
      "source": [
        "tokens = sorted(set(text))\n",
        "tokens.append('|')\n",
        "\n",
        "token_to_idx = {token: idx for idx, token in enumerate(tokens)}\n",
        "idx_to_token = {idx: token for token, idx in token_to_idx.items()}\n",
        "\n",
        "def to_matrix(data, max_len=None, pad=token_to_idx['|'], dtype='int32', batch_first = True):\n",
        "\n",
        "    max_len = max_len or max(map(len, data))\n",
        "    data_ix = np.zeros([len(data), max_len], dtype) + pad\n",
        "\n",
        "    for i in range(len(data)):\n",
        "        line_ix = [token_to_idx[c] for c in data[i]]\n",
        "        data_ix[i, :len(line_ix)] = line_ix\n",
        "        \n",
        "    if not batch_first:\n",
        "        data_ix = np.transpose(data_ix)\n",
        "\n",
        "    return data_ix\n",
        "\n",
        "train_dataset = []\n",
        "for x in text.split('\\n'):\n",
        "  if len(x) > 10:\n",
        "    train_dataset.append(x)\n",
        "\n",
        "print(f'Size of train dataset: {len(train_dataset)} \\n')\n",
        "\n",
        "print('\\n'.join(train_dataset[:5]))\n",
        "print(to_matrix(train_dataset[:5]))"
      ],
      "execution_count": 3,
      "outputs": [
        {
          "output_type": "stream",
          "name": "stdout",
          "text": [
            "Size of train dataset: 5254 \n",
            "\n",
            "«мой дядя самых честных правил,\n",
            "когда не в шутку занемог,\n",
            "он уважать себя заставил\n",
            "и лучше выдумать не мог.\n",
            "его пример другим наука;\n",
            "[[43 57 59 54  1 49 76 49 76  1 62 45 57 72 66  1 68 50 62 63 58 72 66  1\n",
            "  60 61 45 47 53 56  5]\n",
            " [55 59 48 49 45  1 58 50  1 47  1 69 64 63 55 64  1 52 45 58 50 57 59 48\n",
            "   5 83 83 83 83 83 83]\n",
            " [59 58  1 64 47 45 51 45 63 73  1 62 50 46 76  1 52 45 62 63 45 47 53 56\n",
            "  83 83 83 83 83 83 83]\n",
            " [53  1 56 64 68 69 50  1 47 72 49 64 57 45 63 73  1 58 50  1 57 59 48  7\n",
            "  83 83 83 83 83 83 83]\n",
            " [50 48 59  1 60 61 53 57 50 61  1 49 61 64 48 53 57  1 58 45 64 55 45 13\n",
            "  83 83 83 83 83 83 83]]\n"
          ]
        }
      ]
    },
    {
      "cell_type": "markdown",
      "metadata": {
        "id": "RwajcAjbs9EZ"
      },
      "source": [
        "*Comment: in this task we have only 38 different tokens, so let's use one-hot encoding.*"
      ]
    },
    {
      "cell_type": "markdown",
      "metadata": {
        "id": "HAM0kqlVs9Ea"
      },
      "source": [
        "### Building the model"
      ]
    },
    {
      "cell_type": "markdown",
      "metadata": {
        "id": "wDV2e9XGs9Ea"
      },
      "source": [
        "Now we want to build and train recurrent neural net which would be able to something similar to Shakespeare's poetry.\n",
        "\n",
        "Let's use vanilla RNN, similar to the one created during the lesson."
      ]
    },
    {
      "cell_type": "code",
      "metadata": {
        "id": "TW_qd2TU1CNk"
      },
      "source": [
        "class CharRNNCell(nn.Module):\n",
        "\n",
        "    def __init__(self, num_tokens=len(tokens), embedding_size=64, rnn_num_units=256):\n",
        "        super(self.__class__,self).__init__()\n",
        "        self.num_units = rnn_num_units\n",
        "        self.num_tokens = num_tokens\n",
        "        self.embedding = nn.Embedding(num_tokens, embedding_size)\n",
        "        self.rnn_update = nn.Linear(embedding_size + rnn_num_units, rnn_num_units)\n",
        "        self.rnn_to_logits = nn.Linear(rnn_num_units, num_tokens)\n",
        "        \n",
        "    def forward(self, x, h_prev):\n",
        "        x_emb = self.embedding(x)\n",
        "        x_and_h = torch.cat([x_emb, h_prev], dim=-1)\n",
        "        h_next = self.rnn_update(x_and_h)\n",
        "        \n",
        "        h_next = torch.tanh(h_next)\n",
        "        \n",
        "        logits = self.rnn_to_logits(h_next)\n",
        "        \n",
        "        return h_next, F.log_softmax(logits, -1)\n",
        "    \n",
        "    def initial_state(self, batch_size):\n",
        "        return torch.zeros(batch_size, self.num_units, requires_grad=True)\n",
        "\n",
        "    def rnn_loop(self, batch_ix):\n",
        "        batch_size, max_length = batch_ix.size()\n",
        "        hid_state = self.initial_state(batch_size)\n",
        "        logprobs = []\n",
        "\n",
        "        for x_t in batch_ix.transpose(0,1):\n",
        "            hid_state, logp_next = self.forward(x_t, hid_state)\n",
        "            logprobs.append(logp_next)\n",
        "        \n",
        "        return torch.stack(logprobs, dim=1)\n",
        "\n",
        "    def fit(self, train_dataset, num_iter=1000, plot_loss=False):\n",
        "        self.MAX_LENGTH = max(map(len, train_dataset))\n",
        "        opt = torch.optim.Adam(self.parameters())\n",
        "        history = []\n",
        "\n",
        "        for i in range(num_iter):\n",
        "            batch_ix = to_matrix(sample(train_dataset, 32), max_len=self.MAX_LENGTH)\n",
        "            batch_ix = torch.tensor(batch_ix, dtype=torch.int64)\n",
        "            \n",
        "            logp_seq = self.rnn_loop(batch_ix)\n",
        "            \n",
        "            predictions_logp = logp_seq[:, :-1]\n",
        "            actual_next_tokens = batch_ix[:, 1:]\n",
        "\n",
        "            loss = -torch.mean(torch.gather(predictions_logp, dim=2, index=actual_next_tokens[:,:,None]))\n",
        "\n",
        "            opt.zero_grad()\n",
        "            loss.backward()\n",
        "            opt.step()\n",
        "            \n",
        "            if plot_loss:\n",
        "              history.append(loss.data.numpy())\n",
        "              if (i+1)%(num_iter//100)==0:\n",
        "                  clear_output(True)\n",
        "                  plt.plot(history,label='loss')\n",
        "                  plt.title('Fit CharRNNCell')\n",
        "                  plt.legend()\n",
        "                  plt.show()\n",
        "                  print(f'loss: {loss.data.numpy()}')\n",
        "\n",
        "    def generate_sample(self, seed_phrase=' ', max_length=None, temperature=1.0):\n",
        "        assert self.MAX_LENGTH, \"You should fit model before generate sample\"\n",
        "        max_length = max_length if max_length else self.MAX_LENGTH\n",
        "\n",
        "        x_sequence = [token_to_idx[token.lower()] for token in seed_phrase]\n",
        "        x_sequence = torch.tensor([x_sequence], dtype=torch.int64)\n",
        "        hid_state = self.initial_state(batch_size=1)\n",
        "        \n",
        "        for i in range(len(seed_phrase) - 1):\n",
        "            hid_state, _ = self.forward(x_sequence[:, i], hid_state)\n",
        "\n",
        "        for _ in range(max_length - len(seed_phrase)):\n",
        "            hid_state, logp_next = self.forward(x_sequence[:, -1], hid_state)\n",
        "            p_next = F.softmax(logp_next / temperature, dim=-1).data.numpy()[0]\n",
        "\n",
        "            next_ix = np.random.choice(self.num_tokens, p=p_next)\n",
        "            next_ix = torch.tensor([[next_ix]], dtype=torch.int64)\n",
        "            x_sequence = torch.cat([x_sequence, next_ix], dim=1)\n",
        "            \n",
        "        return ''.join([idx_to_token[ix] for ix in x_sequence.data.numpy()[0]]).split('|')[0]"
      ],
      "execution_count": 4,
      "outputs": []
    },
    {
      "cell_type": "markdown",
      "metadata": {
        "id": "z1FIztzds9Ec"
      },
      "source": [
        "Plot the loss function (axis X: number of epochs, axis Y: loss function)."
      ]
    },
    {
      "cell_type": "code",
      "metadata": {
        "collapsed": true,
        "colab": {
          "base_uri": "https://localhost:8080/",
          "height": 298
        },
        "id": "0X7y0Zgds9Ec",
        "outputId": "56ad3756-6750-407a-e992-5615605b6036"
      },
      "source": [
        "char_rnn_cell = CharRNNCell()\n",
        "char_rnn_cell.fit(train_dataset, num_iter=4000, plot_loss=True)"
      ],
      "execution_count": 5,
      "outputs": [
        {
          "output_type": "display_data",
          "data": {
            "image/png": "[encoded data removed]",
            "text/plain": [
              "<Figure size 432x288 with 1 Axes>"
            ]
          },
          "metadata": {
            "needs_background": "light"
          }
        },
        {
          "output_type": "stream",
          "name": "stdout",
          "text": [
            "loss: 0.26812446117401123\n"
          ]
        }
      ]
    },
    {
      "cell_type": "code",
      "metadata": {
        "colab": {
          "base_uri": "https://localhost:8080/"
        },
        "id": "cyrd2HHP3Zad",
        "outputId": "9daa95ab-0b11-4be8-e927-83b150817256"
      },
      "source": [
        "for t in [0.1, 0.2, 0.5, 1.0, 2.0]:\n",
        "  print(f\"temperature = {t}:\")\n",
        "  for _ in range(3):\n",
        "    print('\\t', char_rnn_cell.generate_sample(temperature=t))"
      ],
      "execution_count": 6,
      "outputs": [
        {
          "output_type": "stream",
          "name": "stdout",
          "text": [
            "temperature = 0.1:\n",
            "\t  такой в сада молодой,\n",
            "\t  нет был первый картиной страда,\n",
            "\t  него не нас очень мил.\n",
            "temperature = 0.2:\n",
            "\t  нет часто в саду полной\n",
            "\t  не вот он очень меж терев,\n",
            "\t  невольно в перед ней нежной\n",
            "temperature = 0.5:\n",
            "\t  это бы в первых муж тот;\n",
            "\t  татьяна в первый разделой\n",
            "\t  вердечно, в как сердца порадей\n",
            "temperature = 1.0:\n",
            "\t  ней печалье напевет —\n",
            "\t  жесно высогою муток.\n",
            "\t  бегот жажен разврагем:\n",
            "temperature = 2.0:\n",
            "\t  пчет бщаям; трифлуедезгу.\n",
            "\t  оро ввал, сей, скровопотные,:\n",
            "\t  фмилечкй, ннзиглихом еmу.),\n"
          ]
        }
      ]
    },
    {
      "cell_type": "markdown",
      "metadata": {
        "id": "9DbXjsTRs9Ed"
      },
      "source": [
        "### More poetic model\n",
        "\n",
        "Let's use LSTM instead of vanilla RNN and compare the results."
      ]
    },
    {
      "cell_type": "markdown",
      "metadata": {
        "id": "78e3Zf4ps9Ee"
      },
      "source": [
        "Plot the loss function of the number of epochs. Does the final loss become better?"
      ]
    },
    {
      "cell_type": "code",
      "metadata": {
        "collapsed": true,
        "id": "xo5AYGK8s9Ee"
      },
      "source": [
        "class CharRNNLoop(nn.Module):\n",
        "    def __init__(self, num_tokens=len(tokens), emb_size=64, rnn_num_units=256):\n",
        "        super(self.__class__, self).__init__()\n",
        "        self.num_tokens = num_tokens\n",
        "        self.MAX_LENGTH = None\n",
        "        self.emb = nn.Embedding(num_tokens, emb_size)\n",
        "        self.rnn = nn.LSTM(emb_size, rnn_num_units, batch_first=True)\n",
        "        self.hid_to_logits = nn.Linear(rnn_num_units, num_tokens)\n",
        "        self.rnn_num_units = rnn_num_units\n",
        "        \n",
        "    def forward(self, x):\n",
        "        h_seq, _ = self.rnn(self.emb(x))\n",
        "        next_logits = self.hid_to_logits(h_seq)\n",
        "        next_logp = F.log_softmax(next_logits, dim=-1)\n",
        "        return next_logp\n",
        "\n",
        "    def fit(self, train_dataset, num_iter=1000, plot_loss=False):\n",
        "        self.MAX_LENGTH = max(map(len, train_dataset))\n",
        "        opt = torch.optim.Adam(self.parameters())\n",
        "        history = []\n",
        "\n",
        "        for i in range(num_iter):\n",
        "            batch_ix = to_matrix(sample(train_dataset, 32), max_len=self.MAX_LENGTH)\n",
        "            batch_ix = torch.tensor(batch_ix, dtype=torch.int64)\n",
        "            \n",
        "            logp_seq = self.forward(batch_ix)\n",
        "            \n",
        "            predictions_logp = logp_seq[:, :-1]\n",
        "            actual_next_tokens = batch_ix[:, 1:]\n",
        "\n",
        "            loss = -torch.mean(torch.gather(predictions_logp, dim=2, index=actual_next_tokens[:,:,None]))\n",
        "            \n",
        "            opt.zero_grad()\n",
        "            loss.backward()\n",
        "            opt.step()\n",
        "            \n",
        "            history.append(loss.data.numpy())\n",
        "            if plot_loss:\n",
        "              if (i+1)%(num_iter//100)==0:\n",
        "                  clear_output(True)\n",
        "                  plt.plot(history,label='loss')\n",
        "                  plt.title('Fit CharRNNLoop')\n",
        "                  plt.legend()\n",
        "                  plt.show()\n",
        "                  print(f'loss: {loss.data.numpy()}')\n",
        "\n",
        "    def generate_sample(self, seed_phrase=' ', max_length=None, temperature=1.0):\n",
        "        assert self.MAX_LENGTH, \"You should fit model before generate sample\"\n",
        "        max_length = max_length if max_length else self.MAX_LENGTH\n",
        "\n",
        "        x_sequence = [token_to_idx[token.lower()] for token in seed_phrase]\n",
        "        x_sequence = torch.tensor([x_sequence], dtype=torch.int64)\n",
        "        \n",
        "        logp_next = self.forward(x_sequence[:, :len(seed_phrase)])\n",
        "\n",
        "        for _ in range(max_length - len(seed_phrase)):\n",
        "            logp_next = self.forward(x_sequence[:, :])\n",
        "            p_next = F.softmax(logp_next / temperature, dim=-1).data.numpy()[0]\n",
        "            next_ix = np.random.choice(self.num_tokens, p=p_next[-1, :])\n",
        "            next_ix = torch.tensor([[next_ix]], dtype=torch.int64)\n",
        "            x_sequence = torch.cat([x_sequence, next_ix], dim=1)\n",
        "            \n",
        "        return ''.join([tokens[ix] for ix in x_sequence.data.numpy()[0]]).split('|')[0]"
      ],
      "execution_count": 7,
      "outputs": []
    },
    {
      "cell_type": "code",
      "metadata": {
        "colab": {
          "base_uri": "https://localhost:8080/",
          "height": 298
        },
        "id": "Pg-6NoXMOW1t",
        "outputId": "df3e8d2f-bb9b-4187-c9e6-48643879dcef"
      },
      "source": [
        "char_rnn_loop = CharRNNLoop()\n",
        "char_rnn_loop.fit(train_dataset, num_iter=4000, plot_loss=True)"
      ],
      "execution_count": 8,
      "outputs": [
        {
          "output_type": "display_data",
          "data": {
            "image/png": "[encoded data removed]",
            "text/plain": [
              "<Figure size 432x288 with 1 Axes>"
            ]
          },
          "metadata": {
            "needs_background": "light"
          }
        },
        {
          "output_type": "stream",
          "name": "stdout",
          "text": [
            "loss: 0.22776798903942108\n"
          ]
        }
      ]
    },
    {
      "cell_type": "markdown",
      "metadata": {
        "id": "xx_EFDyamnls"
      },
      "source": [
        "Answer: Yes, loss become better (Cell ~ 0.27, Loop ~ 0.23)"
      ]
    },
    {
      "cell_type": "markdown",
      "metadata": {
        "id": "NC0tpXlLs9Ee"
      },
      "source": [
        "Generate text using the trained net with different `temperature` parameter: `[0.1, 0.2, 0.5, 1.0, 2.0]`.\n",
        "\n",
        "Evaluate the results visually, try to interpret them."
      ]
    },
    {
      "cell_type": "code",
      "metadata": {
        "colab": {
          "base_uri": "https://localhost:8080/"
        },
        "id": "yVwsECIDs9Ee",
        "outputId": "284482a6-e4bf-4dfc-94b2-0194c981ebdf"
      },
      "source": [
        "for t in [0.1, 0.2, 0.5, 1.0, 2.0]:\n",
        "  print(f\"temperature = {t}:\")\n",
        "  for _ in range(3):\n",
        "    print('\\t', char_rnn_loop.generate_sample(temperature=t))"
      ],
      "execution_count": 9,
      "outputs": [
        {
          "output_type": "stream",
          "name": "stdout",
          "text": [
            "temperature = 0.1:\n",
            "\t  не так ли было, и все грустья,\n",
            "\t  не потомушным обезами,\n",
            "\t  не так и страсть и под ней поря,\n",
            "temperature = 0.2:\n",
            "\t  не там в гором он всегда сон,\n",
            "\t  не простой и в самом душей.\n",
            "\t  не постели в том не видит;\n",
            "temperature = 0.5:\n",
            "\t  но нашей столь ее разговой,\n",
            "\t  страшной кажете не замети,\n",
            "\t  любви дели дом не открылась:\n",
            "temperature = 1.0:\n",
            "\t  не скучал тишин чисть прелест,\n",
            "\t  bсидет она всё гостей поткой\n",
            "\t  усоб вер, не она с блестит.\n",
            "temperature = 2.0:\n",
            "\t  оглпет. хокшу-he\n",
            "\t  .rz\n",
            "ымец ищумни, сросце.\n",
            "\t  чарой пусдивцомых с»льi?.\n"
          ]
        }
      ]
    },
    {
      "cell_type": "markdown",
      "metadata": {
        "id": "janOUa0cmrtb"
      },
      "source": [
        "Answer: the lower the temperature, the more the model generates popular combinations of symbols. The higher the temperature, the more diverse characters are selected, but the text turns out to be less meaningful. The ideal temperature is around 0.5"
      ]
    },
    {
      "cell_type": "markdown",
      "metadata": {
        "id": "9mgVLfj6s9Ef"
      },
      "source": [
        "### Saving and loading models"
      ]
    },
    {
      "cell_type": "markdown",
      "metadata": {
        "id": "CSXE8PZZs9Ef"
      },
      "source": [
        "Save the model to the disk, then load it and generate text. Examples are available [here](https://pytorch.org/tutorials/beginner/saving_loading_models.html])."
      ]
    },
    {
      "cell_type": "code",
      "metadata": {
        "id": "i7weWD72s9Ef",
        "colab": {
          "base_uri": "https://localhost:8080/",
          "height": 35
        },
        "outputId": "aa2bae07-baa4-4b84-f73d-b384a2e54f8d"
      },
      "source": [
        "torch.save(char_rnn_loop, 'model')\n",
        "model = torch.load('model')\n",
        "model.generate_sample(temperature=0.5)"
      ],
      "execution_count": 10,
      "outputs": [
        {
          "output_type": "execute_result",
          "data": {
            "application/vnd.google.colaboratory.intrinsic+json": {
              "type": "string"
            },
            "text/plain": [
              "' но тайный все умеренный'"
            ]
          },
          "metadata": {},
          "execution_count": 10
        }
      ]
    },
    {
      "cell_type": "markdown",
      "metadata": {
        "id": "qSO8ue_js9Ef"
      },
      "source": [
        "### References\n",
        "1. <a href='http://karpathy.github.io/2015/05/21/rnn-effectiveness/'> Andrew Karpathy blog post about RNN. </a> \n",
        "There are several examples of genration: Shakespeare texts, Latex formulas, Linux Sourse Code and children names.\n",
        "2. <a href='https://github.com/karpathy/char-rnn'> Repo with char-rnn code </a>\n",
        "3. Cool repo with PyTorch examples: [link](https://github.com/spro/practical-pytorch`)"
      ]
    }
  ]
}