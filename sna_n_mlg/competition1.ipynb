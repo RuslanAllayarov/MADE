{
  "nbformat": 4,
  "nbformat_minor": 0,
  "metadata": {
    "colab": {
      "name": "competition1.ipynb",
      "provenance": [],
      "collapsed_sections": []
    },
    "kernelspec": {
      "name": "python3",
      "display_name": "Python 3"
    },
    "language_info": {
      "name": "python"
    }
  },
  "cells": [
    {
      "cell_type": "markdown",
      "source": [
        "# Challenge Overview\n",
        "Your goal is to generate an undirected network that is as close as possible to the original real network. You do not have the original network in the explicit view, but you know some of its statistics. All statistics are in stats.txt file that contains a dictionary of the form\n",
        "- number_nodes (number of nodes): value\n",
        "- number_cc (number of connected components): value, sigma\n",
        "- radius (radius of giant component): value, sigma\n",
        "- diameter (diameter of giant component): value, sigma\n",
        "- average_clustering (average clustering coefficient): value, sigma\n",
        "- average_path_length (average path length): value, sigma\n",
        "- degree_cdf (empirical CDF of degree distribution): values, probabilities\n",
        "\n",
        "Meaning of all these sigmas is described in Evaluation section. "
      ],
      "metadata": {
        "id": "nKxeLzomGewo"
      }
    },
    {
      "cell_type": "markdown",
      "source": [
        "# Evaluation Criteria\n",
        "\n",
        "Your total score is calculated as weighted sum of 6 scores — similarities between statistics of original and generated networks. Each score takes values from the interval [0, 1], where 1 — absolute similarity with the original network. The scores are\n",
        "- \"KS\"\n",
        "  + **1 - KS_dist**\n",
        "  + where **KS_dist** is Kolmogorov-Smirnov distance between degree distributions of real and generated networks\n",
        "- \"Radius\"\n",
        "  + $GK(r, r', \\sigma_r) = \\exp \\left[ -\\frac{(r - r')^2}{2 \\sigma_r^2} \\right]$\n",
        "  + where **GK** is Gaussian Kernel, **r** is a radius of a gigantic connected component (GCC) of the original network, **r'** is a radius of a generated network, **sigma_r** is a sigma of a radius from stats.txt file\n",
        "- \"Diameter\" (GCC), \"Av. clustering\", \"Av. path length\" (GCC), \"Number of CC\" are calculated by Gaussian Kernel in the same way.\n",
        "\n",
        "- \"Total\"\n",
        "1/6 * KS + 1/6 * Radius + 1/6 * Diameter + 1/6 * Av. clustering + 1/6 * Av. path length + 1/6 * Number of CC\n",
        "\n",
        "All scores immediately take value 0 if a generated network has incorrect number of nodes. All scores are multiplied by 100 on the leaderboard."
      ],
      "metadata": {
        "id": "4gERXvENGmyI"
      }
    },
    {
      "cell_type": "code",
      "execution_count": 1,
      "metadata": {
        "id": "WP2gLqJXFKIZ"
      },
      "outputs": [],
      "source": [
        "import matplotlib.pyplot as plt\n",
        "import networkx as nx\n",
        "import numpy as np\n",
        "import requests\n",
        "import json\n",
        "from scipy.stats import ks_2samp\n",
        "from collections import Counter\n",
        "from pprint import pprint"
      ]
    },
    {
      "cell_type": "code",
      "source": [
        "url = 'https://raw.githubusercontent.com/netspractice/network-science/made-2022/competition_network_generation/stats.txt'\n",
        "open('stats.txt', 'wb').write(requests.get(url).content)\n",
        "with open('stats.txt', 'r') as f:\n",
        "   stats = json.loads(str(f.read()))"
      ],
      "metadata": {
        "id": "f2KLZ7J7FNXW"
      },
      "execution_count": 2,
      "outputs": []
    },
    {
      "cell_type": "code",
      "source": [
        "pprint(stats)"
      ],
      "metadata": {
        "colab": {
          "base_uri": "https://localhost:8080/"
        },
        "id": "qWXO2CO-F2Jg",
        "outputId": "8df2b5e4-5971-4171-e576-4252485f6c6c"
      },
      "execution_count": 3,
      "outputs": [
        {
          "output_type": "stream",
          "name": "stdout",
          "text": [
            "{'average_clustering': [0.005066798238955518, 0.001],\n",
            " 'average_path_length': [11.748410823170731, 2],\n",
            " 'degree_cdf': [[0,\n",
            "                 1,\n",
            "                 2,\n",
            "                 3,\n",
            "                 4,\n",
            "                 5,\n",
            "                 6,\n",
            "                 7,\n",
            "                 8,\n",
            "                 9,\n",
            "                 10,\n",
            "                 11,\n",
            "                 12,\n",
            "                 13,\n",
            "                 14,\n",
            "                 15,\n",
            "                 16,\n",
            "                 17,\n",
            "                 19,\n",
            "                 21,\n",
            "                 24,\n",
            "                 46],\n",
            "                [0.0,\n",
            "                 0.6902231668437833,\n",
            "                 0.8517534537725824,\n",
            "                 0.9086078639744952,\n",
            "                 0.9378320935175345,\n",
            "                 0.9516471838469713,\n",
            "                 0.9654622741764081,\n",
            "                 0.9723698193411264,\n",
            "                 0.9776833156216791,\n",
            "                 0.9808714133900106,\n",
            "                 0.9845908607863975,\n",
            "                 0.9888416578108395,\n",
            "                 0.9893730074388948,\n",
            "                 0.9925611052072264,\n",
            "                 0.9936238044633369,\n",
            "                 0.9952178533475027,\n",
            "                 0.9957492029755579,\n",
            "                 0.9968119022316685,\n",
            "                 0.997874601487779,\n",
            "                 0.9989373007438895,\n",
            "                 0.9994686503719448,\n",
            "                 1.0]],\n",
            " 'diameter': [28, 4],\n",
            " 'number_cc': [168, 32],\n",
            " 'number_nodes': 1882,\n",
            " 'radius': [15, 2]}\n"
          ]
        }
      ]
    },
    {
      "cell_type": "code",
      "source": [
        "q_seq, p_seq = stats['degree_cdf']\n",
        "plt.plot(\n",
        "    np.append(np.repeat(q_seq, 2)[1:], q_seq[-1]), \n",
        "    np.repeat(p_seq, 2)\n",
        ")\n",
        "plt.show()"
      ],
      "metadata": {
        "colab": {
          "base_uri": "https://localhost:8080/",
          "height": 265
        },
        "id": "WwVrX8oFGHSa",
        "outputId": "92b5f4d7-45f0-4e1c-c704-3cab2943d528"
      },
      "execution_count": 4,
      "outputs": [
        {
          "output_type": "display_data",
          "data": {
            "image/png": "[encoded data removed]",
            "text/plain": [
              "<Figure size 432x288 with 1 Axes>"
            ]
          },
          "metadata": {
            "needs_background": "light"
          }
        }
      ]
    },
    {
      "cell_type": "code",
      "source": [
        "degrees = np.array(np.diff(stats['number_nodes'] * np.array(stats['degree_cdf'][1])), dtype=np.int64)\n",
        "ind = stats['degree_cdf'][0][1:]\n",
        "plt.figure(figsize=(8, 8))\n",
        "plt.bar(ind, degrees)\n",
        "plt.xticks(ind)\n",
        "plt.show()"
      ],
      "metadata": {
        "colab": {
          "base_uri": "https://localhost:8080/",
          "height": 483
        },
        "id": "1leOV5KNKMLX",
        "outputId": "ca13c602-8896-4f10-e3e4-175cb84ea614"
      },
      "execution_count": 5,
      "outputs": [
        {
          "output_type": "display_data",
          "data": {
            "image/png": "[encoded data removed]",
            "text/plain": [
              "<Figure size 576x576 with 1 Axes>"
            ]
          },
          "metadata": {
            "needs_background": "light"
          }
        }
      ]
    },
    {
      "cell_type": "code",
      "source": [
        "degrees_ = np.array(np.diff(stats['number_nodes'] * np.array(stats['degree_cdf'][1])), dtype=np.int64)[:-1]\n",
        "ind_ = stats['degree_cdf'][0][1:-1]\n",
        "plt.figure(figsize=(8, 8))\n",
        "plt.bar(ind_, degrees_)\n",
        "plt.xticks(ind_)\n",
        "plt.show()"
      ],
      "metadata": {
        "colab": {
          "base_uri": "https://localhost:8080/",
          "height": 483
        },
        "id": "Q8gjcgWxQeMs",
        "outputId": "12e7f354-bf22-42d7-fa40-a59a54e77c73"
      },
      "execution_count": 6,
      "outputs": [
        {
          "output_type": "display_data",
          "data": {
            "image/png": "[encoded data removed]",
            "text/plain": [
              "<Figure size 576x576 with 1 Axes>"
            ]
          },
          "metadata": {
            "needs_background": "light"
          }
        }
      ]
    },
    {
      "cell_type": "markdown",
      "source": [
        "Видно, что в графе находится много вершин степени 1, и мало вершин с большой степенью. Можно попробовать это смоделировать \"звёздами\""
      ],
      "metadata": {
        "id": "sjewkvd23bEs"
      }
    },
    {
      "cell_type": "code",
      "source": [
        "def ks_dist(stats, G):\n",
        "\n",
        "    cdf_1, cdf_2 = np.zeros(50), np.zeros(50)\n",
        "\n",
        "    degrees_stats = np.array(np.diff(stats['number_nodes'] * np.array(stats['degree_cdf'][1])), dtype=np.int64)\n",
        "    ind = stats['degree_cdf'][0][1:]\n",
        "    degree_seq = [x[1] for x in G.degree]\n",
        "\n",
        "    for x in zip(stats['degree_cdf'][0][1:], degrees_stats):\n",
        "        cdf_1[x[0]] = x[1]\n",
        "    for x in Counter(degree_seq).items():\n",
        "        cdf_2[x[0]] = x[1]\n",
        "\n",
        "    return 1 - ks_2samp(cdf_1, cdf_2).statistic\n",
        "\n",
        "def GK(stats, x):\n",
        "    return np.exp(-np.square(stats[0] - x) / stats[1] ** 2 / 2)\n",
        "\n",
        "def score(G):\n",
        "    GCC = sorted(nx.connected_components(G), key=len)[::-1]\n",
        "    G_max = G.subgraph(GCC[0])\n",
        "    ks = ks_dist(stats, G)\n",
        "    radius = GK(stats['radius'], nx.radius(G_max))\n",
        "    diameter = GK(stats['diameter'], nx.diameter(G_max))\n",
        "    avg_cluster = GK(stats['average_clustering'], nx.average_clustering(G))\n",
        "    avg_path_len = GK(stats['average_path_length'], nx.average_shortest_path_length(G_max))\n",
        "    num_cc = GK(stats['number_cc'], len(GCC)) \n",
        "    print(f'KS: {ks}')\n",
        "    print(f'Radius: {radius}')\n",
        "    print(f'Diameter: {diameter}')\n",
        "    print(f'Avg clustering: {avg_cluster}')\n",
        "    print(f'Avg Path Len: {avg_path_len}')\n",
        "    print(f'Num CC: {num_cc}')\n",
        "    print(f'Sum score: {np.mean([ks, radius, diameter, avg_cluster, avg_path_len, num_cc])}')"
      ],
      "metadata": {
        "id": "50phtruFinja"
      },
      "execution_count": 7,
      "outputs": []
    },
    {
      "cell_type": "markdown",
      "source": [
        "Но для начала попробуем baseline, сгенеривовав граф по последовательности степеней вершин"
      ],
      "metadata": {
        "id": "4Oq-SqRx3yhz"
      }
    },
    {
      "cell_type": "code",
      "source": [
        "degree_seq = []\n",
        "for i, d in zip(ind, degrees):\n",
        "    degree_seq += [i] * d\n",
        "\n",
        "G = nx.configuration_model(degree_seq)\n",
        "G = nx.Graph(G)\n",
        "G.remove_edges_from(nx.selfloop_edges(G))"
      ],
      "metadata": {
        "id": "DLRAJC69RtVf"
      },
      "execution_count": 8,
      "outputs": []
    },
    {
      "cell_type": "code",
      "source": [
        "score(G)"
      ],
      "metadata": {
        "colab": {
          "base_uri": "https://localhost:8080/"
        },
        "id": "33ecC301LnZI",
        "outputId": "fb45dc42-72b7-44a1-92b1-ebf8657d55c9"
      },
      "execution_count": 9,
      "outputs": [
        {
          "output_type": "stream",
          "name": "stdout",
          "text": [
            "KS: 0.96\n",
            "Radius: 0.04393693362340742\n",
            "Diameter: 0.04393693362340742\n",
            "Avg clustering: 0.009500961669425923\n",
            "Avg Path Len: 0.037978897125959483\n",
            "Num CC: 4.006529739295107e-05\n",
            "Sum score: 0.18256563188993222\n"
          ]
        }
      ]
    },
    {
      "cell_type": "markdown",
      "source": [
        "Score довольно маловат, экспериментируем дальше"
      ],
      "metadata": {
        "id": "ONzMv2oRjE5W"
      }
    },
    {
      "cell_type": "markdown",
      "source": [
        "Для начала попробуем создать большую компоненту связности, которая удовлетворяет условию на радиус, диаметр и средний путь"
      ],
      "metadata": {
        "id": "a6swgdnK39-J"
      }
    },
    {
      "cell_type": "code",
      "source": [
        "n, m = 30, 43\n",
        "G = nx.cycle_graph(n)\n",
        "\n",
        "for i in range(n + 1, m):\n",
        "    G.add_edge(i - 1, i)\n",
        "\n",
        "G.add_edge(m - 1, 0)\n",
        "nx.draw(G)\n",
        "\n",
        "print(f'Radius: {nx.radius(G)}, etalon: {stats[\"radius\"][0]}')\n",
        "print(f'Diameter: {nx.diameter(G)}, etalon: {stats[\"diameter\"][0]}')\n",
        "print(f'Av path length: {nx.average_shortest_path_length(G)}, etalon: {stats[\"average_path_length\"][0]}')"
      ],
      "metadata": {
        "colab": {
          "base_uri": "https://localhost:8080/",
          "height": 371
        },
        "id": "LssB19rQfMrD",
        "outputId": "473a5410-968d-4879-bb17-0719cb5cbcff"
      },
      "execution_count": 10,
      "outputs": [
        {
          "output_type": "stream",
          "name": "stdout",
          "text": [
            "Radius: 15, etalon: 15\n",
            "Diameter: 28, etalon: 28\n",
            "Av path length: 10.4031007751938, etalon: 11.748410823170731\n"
          ]
        },
        {
          "output_type": "display_data",
          "data": {
            "image/png": "[encoded data removed]",
            "text/plain": [
              "<Figure size 432x288 with 1 Axes>"
            ]
          },
          "metadata": {}
        }
      ]
    },
    {
      "cell_type": "markdown",
      "source": [
        "По радиусу и диаметру четкое попадание в яблочко, но хотелось бы улучшить средний путь"
      ],
      "metadata": {
        "id": "yCzQjGBw4HyQ"
      }
    },
    {
      "cell_type": "markdown",
      "source": [
        "Запустим поиск по сетке для поиска параметров, которые генерируют графы с таким же радиусом и диаметром"
      ],
      "metadata": {
        "id": "-xg9rx_t4OE9"
      }
    },
    {
      "cell_type": "code",
      "source": [
        "max_n, max_m = 100, 100\n",
        "\n",
        "for n in range(1, max_n):\n",
        "    for m in range(max_m):\n",
        "        G = nx.cycle_graph(n)\n",
        "\n",
        "        for i in range(n + 1, m):\n",
        "            G.add_edge(i - 1, i)\n",
        "\n",
        "        G.add_edge(m - 1, 0)\n",
        "\n",
        "        if nx.radius(G) == stats[\"radius\"][0] and nx.diameter(G) == stats[\"diameter\"][0]:\n",
        "            print(f'n = {n}, m = {m}')"
      ],
      "metadata": {
        "colab": {
          "base_uri": "https://localhost:8080/"
        },
        "id": "F33Ouo-VfGGQ",
        "outputId": "d732b85b-6613-450a-98bc-4ef03343f7bf"
      },
      "execution_count": 11,
      "outputs": [
        {
          "output_type": "stream",
          "name": "stdout",
          "text": [
            "n = 30, m = 43\n",
            "n = 31, m = 44\n",
            "n = 56, m = 27\n",
            "n = 56, m = 28\n",
            "n = 56, m = 30\n",
            "n = 56, m = 31\n",
            "n = 57, m = 28\n",
            "n = 57, m = 29\n",
            "n = 57, m = 30\n",
            "n = 57, m = 31\n"
          ]
        }
      ]
    },
    {
      "cell_type": "markdown",
      "source": [
        "Забыл ввести ограничение на то, что $m < n$, но эта ошибка привела к лучшему результату)"
      ],
      "metadata": {
        "id": "FsrCzkfk4bkR"
      }
    },
    {
      "cell_type": "code",
      "source": [
        "n, m = 57, 31\n",
        "G = nx.cycle_graph(n)\n",
        "\n",
        "#for i in range(n + 1, m):\n",
        "#    G.add_edge(i - 1, i)\n",
        "\n",
        "G.add_edge(m - 1, 0)\n",
        "nx.draw_circular(G)\n",
        "nx.set_node_attributes(G, \"GCC\", name=\"type\")\n",
        "\n",
        "print(f'Radius: {nx.radius(G)}, etalon: {stats[\"radius\"][0]}')\n",
        "print(f'Diameter: {nx.diameter(G)}, etalon: {stats[\"diameter\"][0]}')\n",
        "print(f'Av path length: {nx.average_shortest_path_length(G)}, etalon: {stats[\"average_path_length\"][0]}')"
      ],
      "metadata": {
        "colab": {
          "base_uri": "https://localhost:8080/",
          "height": 371
        },
        "id": "GGarqM-BT-da",
        "outputId": "ba2b0961-09da-4976-d9de-37da3d4f9c1a"
      },
      "execution_count": 12,
      "outputs": [
        {
          "output_type": "stream",
          "name": "stdout",
          "text": [
            "Radius: 15, etalon: 15\n",
            "Diameter: 28, etalon: 28\n",
            "Av path length: 11.25, etalon: 11.748410823170731\n"
          ]
        },
        {
          "output_type": "display_data",
          "data": {
            "image/png": "[encoded data removed]",
            "text/plain": [
              "<Figure size 432x288 with 1 Axes>"
            ]
          },
          "metadata": {}
        }
      ]
    },
    {
      "cell_type": "markdown",
      "source": [
        "Получается, что вот такой цикличный граф с одной проведенной \"хордой\" довольно хорошо подходит под самую большую компоненту связности нашего графа.\n",
        "\n",
        "Запомним, что теперь мы не должны генерировать компоненты связности с числом вершим > 57"
      ],
      "metadata": {
        "id": "b5Z8yLTy4kVK"
      }
    },
    {
      "cell_type": "markdown",
      "source": [
        "Добавим в граф звёзды, чтобы полностью описать степени большие 4 (ограничение на размер компоненты связности выполняется, т.к. самая большая звезда будет генерироваться на 46 вершинах)"
      ],
      "metadata": {
        "id": "ZmvW8yPU448d"
      }
    },
    {
      "cell_type": "code",
      "source": [
        "for deg, num_stars in zip(ind[4:], degrees[4:]):\n",
        "    for _ in range(num_stars):\n",
        "        G1 = nx.star_graph(deg)\n",
        "        nx.set_node_attributes(G1, \"star\", name=\"type\")\n",
        "        G = nx.disjoint_union(G, G1)"
      ],
      "metadata": {
        "id": "0QEgTyUnxevD"
      },
      "execution_count": 13,
      "outputs": []
    },
    {
      "cell_type": "markdown",
      "source": [
        "Введем вспомогательную функцию для сравнения характеристик"
      ],
      "metadata": {
        "id": "TIeJpO-j8XY1"
      }
    },
    {
      "cell_type": "code",
      "source": [
        "def diff_stats(G, stats=stats):\n",
        "    print('Number nodes:')\n",
        "    G_nodes = len(G)\n",
        "    stats_nodes = stats[\"number_nodes\"]\n",
        "    diff_nodes = stats_nodes - G_nodes\n",
        "    print(f'G: {G_nodes}, stats: {stats_nodes}, diff: {diff_nodes}')\n",
        "\n",
        "    print('Number connected components:')\n",
        "    G_cc = nx.number_connected_components(G)\n",
        "    stats_cc = stats[\"number_cc\"][0]\n",
        "    diff_cc = stats_cc - G_cc\n",
        "    print(f'G: {G_cc}, stats: {stats_cc}, diff: {diff_cc}')\n",
        "\n",
        "    print('Degree cdf:')\n",
        "    degrees_stats = np.array(np.diff(stats_nodes * np.array(stats['degree_cdf'][1])), dtype=np.int64)\n",
        "    ind = stats['degree_cdf'][0][1:]\n",
        "    degree_seq = [x[1] for x in G.degree]\n",
        "    degrees_G = []\n",
        "    for x in ind:\n",
        "        degrees_G.append(degree_seq.count(x))\n",
        "    print('x \\t d_stats \\t d_G \\t diff')\n",
        "    for x, d_stats, d_G in zip(ind, degrees_stats, degrees_G):\n",
        "        print(f'{x} \\t {d_stats} \\t\\t {d_G} \\t {d_stats - d_G}')\n",
        "\n",
        "    print(f'Length of max connected component: {len(max(nx.connected_components(G), key=len))}')"
      ],
      "metadata": {
        "id": "0-PVSB5BhVAr"
      },
      "execution_count": 14,
      "outputs": []
    },
    {
      "cell_type": "code",
      "source": [
        "diff_stats(G)"
      ],
      "metadata": {
        "colab": {
          "base_uri": "https://localhost:8080/"
        },
        "id": "rm_56XQT7vds",
        "outputId": "3facb48a-db75-4a49-c8e1-7d90006e2959"
      },
      "execution_count": 15,
      "outputs": [
        {
          "output_type": "stream",
          "name": "stdout",
          "text": [
            "Number nodes:\n",
            "G: 1206, stats: 1882, diff: 676\n",
            "Number connected components:\n",
            "G: 118, stats: 168, diff: 50\n",
            "Degree cdf:\n",
            "x \t d_stats \t d_G \t diff\n",
            "1 \t 1299 \t\t 1032 \t 267\n",
            "2 \t 304 \t\t 55 \t 249\n",
            "3 \t 107 \t\t 2 \t 105\n",
            "4 \t 55 \t\t 0 \t 55\n",
            "5 \t 26 \t\t 26 \t 0\n",
            "6 \t 26 \t\t 26 \t 0\n",
            "7 \t 13 \t\t 13 \t 0\n",
            "8 \t 10 \t\t 10 \t 0\n",
            "9 \t 6 \t\t 6 \t 0\n",
            "10 \t 7 \t\t 7 \t 0\n",
            "11 \t 8 \t\t 8 \t 0\n",
            "12 \t 1 \t\t 1 \t 0\n",
            "13 \t 6 \t\t 6 \t 0\n",
            "14 \t 2 \t\t 2 \t 0\n",
            "15 \t 3 \t\t 3 \t 0\n",
            "16 \t 1 \t\t 1 \t 0\n",
            "17 \t 2 \t\t 2 \t 0\n",
            "19 \t 2 \t\t 2 \t 0\n",
            "21 \t 2 \t\t 2 \t 0\n",
            "24 \t 1 \t\t 1 \t 0\n",
            "46 \t 1 \t\t 1 \t 0\n",
            "Length of max connected component: 57\n"
          ]
        }
      ]
    },
    {
      "cell_type": "markdown",
      "source": [
        "Добавим 4-регулярный граф на 55 вершинах, чтобы покрыть в распределении вершин степень равную 4"
      ],
      "metadata": {
        "id": "gNNuWJpR81WD"
      }
    },
    {
      "cell_type": "code",
      "source": [
        "seed = 42"
      ],
      "metadata": {
        "id": "zJhs4j4V8QRD"
      },
      "execution_count": 16,
      "outputs": []
    },
    {
      "cell_type": "code",
      "source": [
        "G1 = nx.random_regular_graph(4, 55, seed=seed)\n",
        "nx.set_node_attributes(G1, \"4-regular\", name=\"type\")\n",
        "G = nx.disjoint_union(G, G1)"
      ],
      "metadata": {
        "id": "A3-ymFqNzLuc"
      },
      "execution_count": 17,
      "outputs": []
    },
    {
      "cell_type": "code",
      "source": [
        "diff_stats(G)"
      ],
      "metadata": {
        "colab": {
          "base_uri": "https://localhost:8080/"
        },
        "id": "9FyJqsUM9Asc",
        "outputId": "5ab93579-a9ea-4163-d6ca-6399157258bb"
      },
      "execution_count": 18,
      "outputs": [
        {
          "output_type": "stream",
          "name": "stdout",
          "text": [
            "Number nodes:\n",
            "G: 1261, stats: 1882, diff: 621\n",
            "Number connected components:\n",
            "G: 119, stats: 168, diff: 49\n",
            "Degree cdf:\n",
            "x \t d_stats \t d_G \t diff\n",
            "1 \t 1299 \t\t 1032 \t 267\n",
            "2 \t 304 \t\t 55 \t 249\n",
            "3 \t 107 \t\t 2 \t 105\n",
            "4 \t 55 \t\t 55 \t 0\n",
            "5 \t 26 \t\t 26 \t 0\n",
            "6 \t 26 \t\t 26 \t 0\n",
            "7 \t 13 \t\t 13 \t 0\n",
            "8 \t 10 \t\t 10 \t 0\n",
            "9 \t 6 \t\t 6 \t 0\n",
            "10 \t 7 \t\t 7 \t 0\n",
            "11 \t 8 \t\t 8 \t 0\n",
            "12 \t 1 \t\t 1 \t 0\n",
            "13 \t 6 \t\t 6 \t 0\n",
            "14 \t 2 \t\t 2 \t 0\n",
            "15 \t 3 \t\t 3 \t 0\n",
            "16 \t 1 \t\t 1 \t 0\n",
            "17 \t 2 \t\t 2 \t 0\n",
            "19 \t 2 \t\t 2 \t 0\n",
            "21 \t 2 \t\t 2 \t 0\n",
            "24 \t 1 \t\t 1 \t 0\n",
            "46 \t 1 \t\t 1 \t 0\n",
            "Length of max connected component: 57\n"
          ]
        }
      ]
    },
    {
      "cell_type": "markdown",
      "source": [
        "Повторим примерно тоже самое для степени 3, но добавим несколько графов, чтобы увеличивалось количество компонент связности. Также регулярным графом не выйдет покрыть все вершины степени 3, т.к. $n \\cdot d$ нечётно "
      ],
      "metadata": {
        "id": "bSYNwo-P9EOQ"
      }
    },
    {
      "cell_type": "code",
      "source": [
        "for _ in range(5):\n",
        "    G1 = nx.random_regular_graph(3, 20, seed=seed)\n",
        "    nx.set_node_attributes(G1, \"3-regular\", name=\"type\")\n",
        "    G = nx.disjoint_union(G, G1)"
      ],
      "metadata": {
        "id": "-D7pezto0GFK"
      },
      "execution_count": 19,
      "outputs": []
    },
    {
      "cell_type": "code",
      "source": [
        "diff_stats(G)"
      ],
      "metadata": {
        "colab": {
          "base_uri": "https://localhost:8080/"
        },
        "id": "Fc0Wnh3U9Yw8",
        "outputId": "52cda6d6-c2a6-473c-c278-e5ff2d16e4da"
      },
      "execution_count": 20,
      "outputs": [
        {
          "output_type": "stream",
          "name": "stdout",
          "text": [
            "Number nodes:\n",
            "G: 1361, stats: 1882, diff: 521\n",
            "Number connected components:\n",
            "G: 124, stats: 168, diff: 44\n",
            "Degree cdf:\n",
            "x \t d_stats \t d_G \t diff\n",
            "1 \t 1299 \t\t 1032 \t 267\n",
            "2 \t 304 \t\t 55 \t 249\n",
            "3 \t 107 \t\t 102 \t 5\n",
            "4 \t 55 \t\t 55 \t 0\n",
            "5 \t 26 \t\t 26 \t 0\n",
            "6 \t 26 \t\t 26 \t 0\n",
            "7 \t 13 \t\t 13 \t 0\n",
            "8 \t 10 \t\t 10 \t 0\n",
            "9 \t 6 \t\t 6 \t 0\n",
            "10 \t 7 \t\t 7 \t 0\n",
            "11 \t 8 \t\t 8 \t 0\n",
            "12 \t 1 \t\t 1 \t 0\n",
            "13 \t 6 \t\t 6 \t 0\n",
            "14 \t 2 \t\t 2 \t 0\n",
            "15 \t 3 \t\t 3 \t 0\n",
            "16 \t 1 \t\t 1 \t 0\n",
            "17 \t 2 \t\t 2 \t 0\n",
            "19 \t 2 \t\t 2 \t 0\n",
            "21 \t 2 \t\t 2 \t 0\n",
            "24 \t 1 \t\t 1 \t 0\n",
            "46 \t 1 \t\t 1 \t 0\n",
            "Length of max connected component: 57\n"
          ]
        }
      ]
    },
    {
      "cell_type": "markdown",
      "source": [
        "Повторим для степени два (в целом, это значит что надо добавлять циклические графы)"
      ],
      "metadata": {
        "id": "5gmcZFyR9d51"
      }
    },
    {
      "cell_type": "code",
      "source": [
        "for _ in range(25):\n",
        "    G1 = nx.cycle_graph(10)\n",
        "    nx.set_node_attributes(G1, \"cycle\", name=\"type\")\n",
        "    G = nx.disjoint_union(G, G1)"
      ],
      "metadata": {
        "id": "Q8dyRH6B0cti"
      },
      "execution_count": 21,
      "outputs": []
    },
    {
      "cell_type": "code",
      "source": [
        "diff_stats(G)"
      ],
      "metadata": {
        "colab": {
          "base_uri": "https://localhost:8080/"
        },
        "id": "wG_RJuiJ9q2R",
        "outputId": "cd54ba46-a972-4c01-f5e5-b2b35a05383d"
      },
      "execution_count": 22,
      "outputs": [
        {
          "output_type": "stream",
          "name": "stdout",
          "text": [
            "Number nodes:\n",
            "G: 1611, stats: 1882, diff: 271\n",
            "Number connected components:\n",
            "G: 149, stats: 168, diff: 19\n",
            "Degree cdf:\n",
            "x \t d_stats \t d_G \t diff\n",
            "1 \t 1299 \t\t 1032 \t 267\n",
            "2 \t 304 \t\t 305 \t -1\n",
            "3 \t 107 \t\t 102 \t 5\n",
            "4 \t 55 \t\t 55 \t 0\n",
            "5 \t 26 \t\t 26 \t 0\n",
            "6 \t 26 \t\t 26 \t 0\n",
            "7 \t 13 \t\t 13 \t 0\n",
            "8 \t 10 \t\t 10 \t 0\n",
            "9 \t 6 \t\t 6 \t 0\n",
            "10 \t 7 \t\t 7 \t 0\n",
            "11 \t 8 \t\t 8 \t 0\n",
            "12 \t 1 \t\t 1 \t 0\n",
            "13 \t 6 \t\t 6 \t 0\n",
            "14 \t 2 \t\t 2 \t 0\n",
            "15 \t 3 \t\t 3 \t 0\n",
            "16 \t 1 \t\t 1 \t 0\n",
            "17 \t 2 \t\t 2 \t 0\n",
            "19 \t 2 \t\t 2 \t 0\n",
            "21 \t 2 \t\t 2 \t 0\n",
            "24 \t 1 \t\t 1 \t 0\n",
            "46 \t 1 \t\t 1 \t 0\n",
            "Length of max connected component: 57\n"
          ]
        }
      ]
    },
    {
      "cell_type": "markdown",
      "source": [
        "Аккуратно добавим звёзд, чтобы:\n",
        "- максимально покрыть степени равные 1 (при этом слегка попортится статистика на больших степенях)\n",
        "- покрыть необходимое число вершин\n",
        "- покрыть необходимое число компонент связности"
      ],
      "metadata": {
        "id": "G0H_HETn-cYm"
      }
    },
    {
      "cell_type": "code",
      "source": [
        "for _ in range(18):\n",
        "    G1 = nx.star_graph(13)\n",
        "    nx.set_node_attributes(G1, \"star\", name=\"type\")\n",
        "    G = nx.disjoint_union(G, G1)"
      ],
      "metadata": {
        "id": "29zhCS2201f2"
      },
      "execution_count": 23,
      "outputs": []
    },
    {
      "cell_type": "code",
      "source": [
        "diff_stats(G)"
      ],
      "metadata": {
        "colab": {
          "base_uri": "https://localhost:8080/"
        },
        "id": "CRQU2zAD-k3J",
        "outputId": "927371d3-f7a7-42e2-b7ab-83cd9a7713ab"
      },
      "execution_count": 24,
      "outputs": [
        {
          "output_type": "stream",
          "name": "stdout",
          "text": [
            "Number nodes:\n",
            "G: 1863, stats: 1882, diff: 19\n",
            "Number connected components:\n",
            "G: 167, stats: 168, diff: 1\n",
            "Degree cdf:\n",
            "x \t d_stats \t d_G \t diff\n",
            "1 \t 1299 \t\t 1266 \t 33\n",
            "2 \t 304 \t\t 305 \t -1\n",
            "3 \t 107 \t\t 102 \t 5\n",
            "4 \t 55 \t\t 55 \t 0\n",
            "5 \t 26 \t\t 26 \t 0\n",
            "6 \t 26 \t\t 26 \t 0\n",
            "7 \t 13 \t\t 13 \t 0\n",
            "8 \t 10 \t\t 10 \t 0\n",
            "9 \t 6 \t\t 6 \t 0\n",
            "10 \t 7 \t\t 7 \t 0\n",
            "11 \t 8 \t\t 8 \t 0\n",
            "12 \t 1 \t\t 1 \t 0\n",
            "13 \t 6 \t\t 24 \t -18\n",
            "14 \t 2 \t\t 2 \t 0\n",
            "15 \t 3 \t\t 3 \t 0\n",
            "16 \t 1 \t\t 1 \t 0\n",
            "17 \t 2 \t\t 2 \t 0\n",
            "19 \t 2 \t\t 2 \t 0\n",
            "21 \t 2 \t\t 2 \t 0\n",
            "24 \t 1 \t\t 1 \t 0\n",
            "46 \t 1 \t\t 1 \t 0\n",
            "Length of max connected component: 57\n"
          ]
        }
      ]
    },
    {
      "cell_type": "code",
      "source": [
        "G1 = nx.star_graph(18)\n",
        "nx.set_node_attributes(G1, \"star\", name=\"type\")\n",
        "G = nx.disjoint_union(G, G1)"
      ],
      "metadata": {
        "id": "1rZ-P8fc-0l6"
      },
      "execution_count": 25,
      "outputs": []
    },
    {
      "cell_type": "code",
      "source": [
        "diff_stats(G)"
      ],
      "metadata": {
        "colab": {
          "base_uri": "https://localhost:8080/"
        },
        "id": "E78v1McD-3t1",
        "outputId": "cac43e48-c514-4fed-d711-9b9a0f800cc6"
      },
      "execution_count": 26,
      "outputs": [
        {
          "output_type": "stream",
          "name": "stdout",
          "text": [
            "Number nodes:\n",
            "G: 1882, stats: 1882, diff: 0\n",
            "Number connected components:\n",
            "G: 168, stats: 168, diff: 0\n",
            "Degree cdf:\n",
            "x \t d_stats \t d_G \t diff\n",
            "1 \t 1299 \t\t 1284 \t 15\n",
            "2 \t 304 \t\t 305 \t -1\n",
            "3 \t 107 \t\t 102 \t 5\n",
            "4 \t 55 \t\t 55 \t 0\n",
            "5 \t 26 \t\t 26 \t 0\n",
            "6 \t 26 \t\t 26 \t 0\n",
            "7 \t 13 \t\t 13 \t 0\n",
            "8 \t 10 \t\t 10 \t 0\n",
            "9 \t 6 \t\t 6 \t 0\n",
            "10 \t 7 \t\t 7 \t 0\n",
            "11 \t 8 \t\t 8 \t 0\n",
            "12 \t 1 \t\t 1 \t 0\n",
            "13 \t 6 \t\t 24 \t -18\n",
            "14 \t 2 \t\t 2 \t 0\n",
            "15 \t 3 \t\t 3 \t 0\n",
            "16 \t 1 \t\t 1 \t 0\n",
            "17 \t 2 \t\t 2 \t 0\n",
            "19 \t 2 \t\t 2 \t 0\n",
            "21 \t 2 \t\t 2 \t 0\n",
            "24 \t 1 \t\t 1 \t 0\n",
            "46 \t 1 \t\t 1 \t 0\n",
            "Length of max connected component: 57\n"
          ]
        }
      ]
    },
    {
      "cell_type": "code",
      "source": [
        "score(G)"
      ],
      "metadata": {
        "colab": {
          "base_uri": "https://localhost:8080/"
        },
        "id": "bi-NDegcXXpf",
        "outputId": "ffc31d23-5a44-4cd4-b441-30a01c699887"
      },
      "execution_count": 27,
      "outputs": [
        {
          "output_type": "stream",
          "name": "stdout",
          "text": [
            "KS: 0.98\n",
            "Radius: 1.0\n",
            "Diameter: 1.0\n",
            "Avg clustering: 0.10877146241653772\n",
            "Avg Path Len: 0.9694254829422113\n",
            "Num CC: 1.0\n",
            "Sum score: 0.8430328242264582\n"
          ]
        }
      ]
    },
    {
      "cell_type": "markdown",
      "source": [
        "Этим способом удалось добиться $score=84\\%$"
      ],
      "metadata": {
        "id": "X2caK6g1_KfE"
      }
    },
    {
      "cell_type": "markdown",
      "source": [
        "Ниже представлен полный пайплайн"
      ],
      "metadata": {
        "id": "aLJwrIdT_QB0"
      }
    },
    {
      "cell_type": "code",
      "source": [
        "seed = 42\n",
        "degrees = np.array(np.diff(stats['number_nodes'] * np.array(stats['degree_cdf'][1])), dtype=np.int64)\n",
        "ind = stats['degree_cdf'][0][1:]\n",
        "\n",
        "n, m = 57, 31\n",
        "G = nx.cycle_graph(n)\n",
        "G.add_edge(m - 1, 0)\n",
        "nx.set_node_attributes(G, \"GCC\", name=\"type\")\n",
        "\n",
        "for deg, num_stars in zip(ind[4:], degrees[4:]):\n",
        "    for _ in range(num_stars):\n",
        "        G1 = nx.star_graph(deg)\n",
        "        nx.set_node_attributes(G1, \"star\", name=\"type\")\n",
        "        G = nx.disjoint_union(G, G1)\n",
        "\n",
        "G1 = nx.random_regular_graph(4, 55, seed=seed)\n",
        "nx.set_node_attributes(G1, \"4-regular\", name=\"type\")\n",
        "G = nx.disjoint_union(G, G1)\n",
        "\n",
        "for _ in range(5):\n",
        "    G1 = nx.random_regular_graph(3, 20, seed=seed)\n",
        "    nx.set_node_attributes(G1, \"3-regular\", name=\"type\")\n",
        "    G = nx.disjoint_union(G, G1)\n",
        "\n",
        "for _ in range(25):\n",
        "    G1 = nx.cycle_graph(10)\n",
        "    nx.set_node_attributes(G1, \"cycle\", name=\"type\")\n",
        "    G = nx.disjoint_union(G, G1)\n",
        "\n",
        "for _ in range(18):\n",
        "    G1 = nx.star_graph(13)\n",
        "    nx.set_node_attributes(G1, \"star\", name=\"type\")\n",
        "    G = nx.disjoint_union(G, G1)\n",
        "\n",
        "G1 = nx.star_graph(18)\n",
        "nx.set_node_attributes(G1, \"star\", name=\"type\")\n",
        "G = nx.disjoint_union(G, G1)"
      ],
      "metadata": {
        "id": "LnPGa3ri_TFZ"
      },
      "execution_count": 28,
      "outputs": []
    },
    {
      "cell_type": "code",
      "source": [
        "score(G)"
      ],
      "metadata": {
        "colab": {
          "base_uri": "https://localhost:8080/"
        },
        "id": "_VY5IP64_5QD",
        "outputId": "17626472-6878-4f53-d47e-0532d84a36aa"
      },
      "execution_count": 29,
      "outputs": [
        {
          "output_type": "stream",
          "name": "stdout",
          "text": [
            "KS: 0.98\n",
            "Radius: 1.0\n",
            "Diameter: 1.0\n",
            "Avg clustering: 0.10877146241653772\n",
            "Avg Path Len: 0.9694254829422113\n",
            "Num CC: 1.0\n",
            "Sum score: 0.8430328242264582\n"
          ]
        }
      ]
    },
    {
      "cell_type": "markdown",
      "source": [
        "Нарисуем получившийся граф"
      ],
      "metadata": {
        "id": "9dGQ1qQ2wZyT"
      }
    },
    {
      "cell_type": "code",
      "source": [
        "colors = {\n",
        "    \"GCC\": 'black',\n",
        "    \"star\": 'red',\n",
        "    \"4-regular\": 'orange',\n",
        "    \"3-regular\": 'blue',\n",
        "    \"cycle\": 'lightblue'\n",
        "}\n",
        "\n",
        "color_attr = {node: colors[t] for node, t in nx.get_node_attributes(G, 'type').items()}\n",
        "nx.set_node_attributes(G, color_attr, 'color')\n",
        "node_color = list(nx.get_node_attributes(G, 'color').values())\n",
        "\n",
        "f = plt.figure(figsize=(12, 12))\n",
        "ax = f.add_subplot(1, 1, 1)\n",
        "for label, color in colors.items():\n",
        "    ax.plot([0], [0], color=color, label=label)\n",
        "\n",
        "nx.draw(G,\n",
        "        node_size=30,\n",
        "        pos=nx.spring_layout(G, k=2e-2),\n",
        "        node_color=node_color,\n",
        "        edgecolors='black',\n",
        "        linewidths=1)\n",
        "\n",
        "plt.legend();"
      ],
      "metadata": {
        "colab": {
          "base_uri": "https://localhost:8080/",
          "height": 683
        },
        "id": "A3PXPqAnvbz1",
        "outputId": "70e29db1-a93c-4174-9b59-f0bc40233304"
      },
      "execution_count": 30,
      "outputs": [
        {
          "output_type": "display_data",
          "data": {
            "image/png": "[encoded data removed]",
            "text/plain": [
              "<Figure size 864x864 with 1 Axes>"
            ]
          },
          "metadata": {}
        }
      ]
    },
    {
      "cell_type": "markdown",
      "source": [
        "Сохраним этот граф в файл"
      ],
      "metadata": {
        "id": "-McqNIGPwcf5"
      }
    },
    {
      "cell_type": "code",
      "source": [
        "nx.write_edgelist(G, 'submit.txt', data=False)"
      ],
      "metadata": {
        "id": "SSywu95Pj-2t"
      },
      "execution_count": 31,
      "outputs": []
    }
  ]
}