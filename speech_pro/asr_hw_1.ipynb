{
  "nbformat": 4,
  "nbformat_minor": 0,
  "metadata": {
    "colab": {
      "name": "Untitled22.ipynb",
      "provenance": []
    },
    "kernelspec": {
      "name": "python3",
      "display_name": "Python 3"
    },
    "language_info": {
      "name": "python"
    }
  },
  "cells": [
    {
      "cell_type": "markdown",
      "source": [
        "**В первом задании вам нужно будет воспользоваться телеграм-ботом \"Голос в текст\" от компании ЦРТ (@Speechpro_ASR_bot). Перед использованием нажмите на иконку меню и выберите пункт /language_menu (или наберите /language_menu текстом), после чего в меню выберите русский язык (или наберите /lang ru). Для распознавания зажмите иконку микрофона, произнесите фразу, после чего отпустите иконку микрофона и дождитесь появления результата.**"
      ],
      "metadata": {
        "id": "bRiWy_5kV4_I"
      }
    },
    {
      "cell_type": "markdown",
      "source": [
        "## Задание 1 (4 балла)\n",
        "Вспомните какую-нибудь фразу из известного/любимого стихотворения, длиной не менее 10 слов.\n",
        "\n",
        "Произнесите эту фразу в телеграм-бот \"Голос в текст\".\n",
        "\n",
        "Если со стихотворениями туго, можете сказать следующее: \n",
        "\"Домашнее задание к первому занятию по распознаванию речи курса по обработке речевых сигналов, студент ФИО\" (вместо ФИО скажите свою фамилию, имя и отчество.\n",
        "\n",
        "Сравните результат распознавания и вычислите пословную ошибку (WER) в процентах, округлите до 2 знаков после запятой"
      ],
      "metadata": {
        "id": "HgK24JT1V8c_"
      }
    },
    {
      "cell_type": "markdown",
      "source": [
        "_Произнесенная фраза:_"
      ],
      "metadata": {
        "id": "jWgKb_lxWQtt"
      }
    },
    {
      "cell_type": "code",
      "execution_count": 1,
      "metadata": {
        "id": "nPH67AInVojh"
      },
      "outputs": [],
      "source": [
        "etalon = \"\"\"\n",
        "    Я вас любил: любовь еще, быть может,\n",
        "    В душе моей угасла не совсем;\n",
        "    Но пусть она вас больше не тревожит;\n",
        "    Я не хочу печалить вас ничем.\n",
        "    Я вас любил безмолвно, безнадежно,\n",
        "    То робостью, то ревностью томим;\n",
        "    Я вас любил так искренно, так нежно,\n",
        "    Как дай вам Бог любимой быть другим.\n",
        "\"\"\""
      ]
    },
    {
      "cell_type": "markdown",
      "source": [
        "*Распознанный текст:*"
      ],
      "metadata": {
        "id": "fG3gJtQDYAvQ"
      }
    },
    {
      "cell_type": "code",
      "source": [
        "recognized = \"\"\"\n",
        "    Я вас любил, любовь еще, быть может,\n",
        "    В душе моей угасла. Не совсем,\n",
        "    Но пусть она вас больше не тревожить.\n",
        "    Я не хочу печалить вас ничем.\n",
        "    Я вас любил безмолвно, безнадежно\n",
        "    То робостью Виктория в институтами\n",
        "    Я вас любил так искренно, так нежно,\n",
        "    Как я вам Бог любимой быть другим.\n",
        "\"\"\""
      ],
      "metadata": {
        "id": "zQeCYuylYFP9"
      },
      "execution_count": 2,
      "outputs": []
    },
    {
      "cell_type": "markdown",
      "source": [
        "*Число замен:* 5\n",
        "\n",
        "\\\\\n",
        "\n",
        "тревожить $\\to$ тревожит,\n",
        "\n",
        "Виктория $\\to$ то\n",
        "\n",
        "в $\\to$ ревностью\n",
        "\n",
        "институтами $\\to$ томим\n",
        "\n",
        "я $\\to$ дай"
      ],
      "metadata": {
        "id": "MHf2eBqEYUYf"
      }
    },
    {
      "cell_type": "code",
      "source": [
        "num_repr = 5"
      ],
      "metadata": {
        "id": "IH906wxAZW6l"
      },
      "execution_count": 3,
      "outputs": []
    },
    {
      "cell_type": "markdown",
      "source": [
        "*Число вставок:* 0"
      ],
      "metadata": {
        "id": "SCqUPPozYgFr"
      }
    },
    {
      "cell_type": "code",
      "source": [
        "num_insert = 0"
      ],
      "metadata": {
        "id": "Tah8wkdQZYob"
      },
      "execution_count": 4,
      "outputs": []
    },
    {
      "cell_type": "markdown",
      "source": [
        "*Число удалений:* 0"
      ],
      "metadata": {
        "id": "_ynsFKx6YkEZ"
      }
    },
    {
      "cell_type": "code",
      "source": [
        "num_delete = 0"
      ],
      "metadata": {
        "id": "ePApF5rOZeZW"
      },
      "execution_count": 5,
      "outputs": []
    },
    {
      "cell_type": "markdown",
      "source": [
        "*Пословная ошибка (WER):*"
      ],
      "metadata": {
        "id": "1obaSuTYYpxz"
      }
    },
    {
      "cell_type": "code",
      "source": [
        "WER = (num_repr + num_insert + num_delete) / len(etalon.split()) * 100\n",
        "print(WER)"
      ],
      "metadata": {
        "colab": {
          "base_uri": "https://localhost:8080/"
        },
        "id": "uEG8ELERZThV",
        "outputId": "2020c4d9-ceec-43bc-f91f-7ffc6204ba85"
      },
      "execution_count": 6,
      "outputs": [
        {
          "output_type": "stream",
          "name": "stdout",
          "text": [
            "10.0\n"
          ]
        }
      ]
    },
    {
      "cell_type": "markdown",
      "source": [
        "## Задание 2 (4 балла)\n",
        "Возьмите свой номер телефона и запишите его последние 7 цифр.\n",
        "\n",
        "Возьмите калькулятор и умножьте это число на 2.\n",
        "\n",
        "Вычислите DTW-расстояние между этими двумя последовательностями цифр, считая расстоянием между двумя цифрами модуль их разности."
      ],
      "metadata": {
        "id": "RBD-gVfDa5wP"
      }
    },
    {
      "cell_type": "markdown",
      "source": [
        "*Исходный номер телефона:*"
      ],
      "metadata": {
        "id": "eYolEKNGbCUW"
      }
    },
    {
      "cell_type": "code",
      "source": [
        "phone_number = 6458961"
      ],
      "metadata": {
        "id": "fde8hF1Ra9Qt"
      },
      "execution_count": 7,
      "outputs": []
    },
    {
      "cell_type": "markdown",
      "source": [
        "*Удвоенный номер телефона:*"
      ],
      "metadata": {
        "id": "mBYXZmglbOFK"
      }
    },
    {
      "cell_type": "code",
      "source": [
        "double_phone_number = 2 * phone_number\n",
        "print(double_phone_number)"
      ],
      "metadata": {
        "colab": {
          "base_uri": "https://localhost:8080/"
        },
        "id": "r4R86ZmSbRlJ",
        "outputId": "5e2b1dc8-d87a-4b5d-e0c5-57ef5dfaace2"
      },
      "execution_count": 8,
      "outputs": [
        {
          "output_type": "stream",
          "name": "stdout",
          "text": [
            "12917922\n"
          ]
        }
      ]
    },
    {
      "cell_type": "markdown",
      "source": [
        "*DTW-расстояние:*"
      ],
      "metadata": {
        "id": "RhqAcbbSbb88"
      }
    },
    {
      "cell_type": "code",
      "source": [
        "def abs_dist(a, b):\n",
        "    return abs(int(a) - int(b))\n",
        "\n",
        "def DTW_dist(a, b):\n",
        "    D = [[0] * len(b) for _ in a]\n",
        "\n",
        "    D[0][0] = abs_dist(a[0], b[0])\n",
        "    for i in range(1, len(a)):\n",
        "        D[i][0] = D[i - 1][0] + abs_dist(a[i], b[0])\n",
        "    for j in range(1, len(b)):\n",
        "        D[0][j] = D[0][j - 1] + abs_dist(a[0], b[j])\n",
        "\n",
        "    for i in range(1, len(a)):\n",
        "        for j in range(1, len(b)):\n",
        "            D[i][j] = min(D[i - 1][j], D[i][j - 1], D[i - 1][j - 1]) + abs_dist(a[i], b[j])\n",
        "    \n",
        "    return D"
      ],
      "metadata": {
        "id": "7wxwYPzjbbZj"
      },
      "execution_count": 9,
      "outputs": []
    },
    {
      "cell_type": "markdown",
      "source": [
        "Проверим корректность на примере из лекции"
      ],
      "metadata": {
        "id": "xgBz1opFdQ9r"
      }
    },
    {
      "cell_type": "code",
      "source": [
        "DTW_dist([3, -13, 14, -7, 9, -2],\n",
        "         [-2, 10, -10, 15, -13, 20, -5, 14, 2])"
      ],
      "metadata": {
        "colab": {
          "base_uri": "https://localhost:8080/"
        },
        "id": "6Cq2oqjhdCz_",
        "outputId": "82b66c92-cd2a-4c03-ca8c-aa2defabea2c"
      },
      "execution_count": 10,
      "outputs": [
        {
          "output_type": "execute_result",
          "data": {
            "text/plain": [
              "[[5, 12, 25, 37, 53, 70, 78, 89, 90],\n",
              " [16, 28, 15, 43, 37, 70, 78, 105, 104],\n",
              " [32, 20, 39, 16, 43, 43, 62, 62, 74],\n",
              " [37, 37, 23, 38, 22, 49, 45, 66, 71],\n",
              " [48, 38, 42, 29, 44, 33, 47, 50, 57],\n",
              " [48, 50, 46, 46, 40, 55, 36, 52, 54]]"
            ]
          },
          "metadata": {},
          "execution_count": 10
        }
      ]
    },
    {
      "cell_type": "code",
      "source": [
        "DTW_dist(list(str(phone_number)),\n",
        "         list(str(double_phone_number)))"
      ],
      "metadata": {
        "colab": {
          "base_uri": "https://localhost:8080/"
        },
        "id": "6B0YWiNvc1ap",
        "outputId": "2f46110e-c497-460b-cddf-fa47c90644ea"
      },
      "execution_count": 11,
      "outputs": [
        {
          "output_type": "execute_result",
          "data": {
            "text/plain": [
              "[[5, 9, 12, 17, 18, 21, 25, 29],\n",
              " [8, 7, 12, 15, 18, 23, 23, 25],\n",
              " [12, 10, 11, 15, 17, 21, 24, 26],\n",
              " [19, 16, 11, 18, 16, 17, 23, 29],\n",
              " [27, 23, 11, 19, 18, 16, 23, 30],\n",
              " [32, 27, 14, 16, 17, 19, 20, 24],\n",
              " [32, 28, 22, 14, 20, 25, 20, 21]]"
            ]
          },
          "metadata": {},
          "execution_count": 11
        }
      ]
    },
    {
      "cell_type": "markdown",
      "source": [
        "Само расстояние:"
      ],
      "metadata": {
        "id": "q-4bumqqd2bD"
      }
    },
    {
      "cell_type": "code",
      "source": [
        "DTW_dist(list(str(phone_number)),\n",
        "         list(str(double_phone_number)))[-1][-1]"
      ],
      "metadata": {
        "colab": {
          "base_uri": "https://localhost:8080/"
        },
        "id": "qEyd2l2vd0_2",
        "outputId": "fadddb96-f953-4071-fb6f-38321a2c10e3"
      },
      "execution_count": 12,
      "outputs": [
        {
          "output_type": "execute_result",
          "data": {
            "text/plain": [
              "21"
            ]
          },
          "metadata": {},
          "execution_count": 12
        }
      ]
    },
    {
      "cell_type": "markdown",
      "source": [
        "## Задание 3 (не обязательное, дополнительные 2 балла)\n",
        "Алгоритм token-passing в варианте, описанном в лекции (без pruning'а), может находить не оптимальное решение, в отличие от исходного алгоритма DTW. Поймите, из-за чего это происходит и объясните своими словами."
      ],
      "metadata": {
        "id": "DTIXxGxLeD8v"
      }
    },
    {
      "cell_type": "markdown",
      "source": [
        "В случае с DTW возможно как растягивание, так и сжатие распознаваемой фразы относительно эталона, в token-passing же возможно только растягивание (засчет того, что токен может оставаться некоторое время в одной и той же вершине графа)"
      ],
      "metadata": {
        "id": "eulQkKKWmpi4"
      }
    }
  ]
}