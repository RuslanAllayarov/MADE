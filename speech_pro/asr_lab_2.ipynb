{
  "nbformat": 4,
  "nbformat_minor": 0,
  "metadata": {
    "colab": {
      "name": "asr_lab_2.ipynb",
      "provenance": [],
      "collapsed_sections": []
    },
    "kernelspec": {
      "name": "python3",
      "display_name": "Python 3"
    },
    "widgets": {
      "application/vnd.jupyter.widget-state+json": {
        "e29510ab35f046d7a6e87bf52d6683f0": {
          "model_module": "@jupyter-widgets/controls",
          "model_name": "HBoxModel",
          "model_module_version": "1.5.0",
          "state": {
            "_dom_classes": [],
            "_model_module": "@jupyter-widgets/controls",
            "_model_module_version": "1.5.0",
            "_model_name": "HBoxModel",
            "_view_count": null,
            "_view_module": "@jupyter-widgets/controls",
            "_view_module_version": "1.5.0",
            "_view_name": "HBoxView",
            "box_style": "",
            "children": [
              "IPY_MODEL_e4d39dc3c8a840e6be8ee8a5046292b0",
              "IPY_MODEL_3a330197c4fe4f02bb8c96c06677018c",
              "IPY_MODEL_33efdf88ce9344d2ab7e12cf0fa4899c"
            ],
            "layout": "IPY_MODEL_daa8d0c67c034de5b6cca4a7466796ef"
          }
        },
        "e4d39dc3c8a840e6be8ee8a5046292b0": {
          "model_module": "@jupyter-widgets/controls",
          "model_name": "HTMLModel",
          "model_module_version": "1.5.0",
          "state": {
            "_dom_classes": [],
            "_model_module": "@jupyter-widgets/controls",
            "_model_module_version": "1.5.0",
            "_model_name": "HTMLModel",
            "_view_count": null,
            "_view_module": "@jupyter-widgets/controls",
            "_view_module_version": "1.5.0",
            "_view_name": "HTMLView",
            "description": "",
            "description_tooltip": null,
            "layout": "IPY_MODEL_e3c3490e16f8453da578a96e179c072e",
            "placeholder": "​",
            "style": "IPY_MODEL_c46740159f2f4f198fa414e33aef9570",
            "value": ""
          }
        },
        "3a330197c4fe4f02bb8c96c06677018c": {
          "model_module": "@jupyter-widgets/controls",
          "model_name": "FloatProgressModel",
          "model_module_version": "1.5.0",
          "state": {
            "_dom_classes": [],
            "_model_module": "@jupyter-widgets/controls",
            "_model_module_version": "1.5.0",
            "_model_name": "FloatProgressModel",
            "_view_count": null,
            "_view_module": "@jupyter-widgets/controls",
            "_view_module_version": "1.5.0",
            "_view_name": "ProgressView",
            "bar_style": "danger",
            "description": "",
            "description_tooltip": null,
            "layout": "IPY_MODEL_b835a5b252c7457f8a5d2a0bc13d7293",
            "max": 1,
            "min": 0,
            "orientation": "horizontal",
            "style": "IPY_MODEL_5af9cf577072403a8489d348908c721a",
            "value": 1
          }
        },
        "33efdf88ce9344d2ab7e12cf0fa4899c": {
          "model_module": "@jupyter-widgets/controls",
          "model_name": "HTMLModel",
          "model_module_version": "1.5.0",
          "state": {
            "_dom_classes": [],
            "_model_module": "@jupyter-widgets/controls",
            "_model_module_version": "1.5.0",
            "_model_name": "HTMLModel",
            "_view_count": null,
            "_view_module": "@jupyter-widgets/controls",
            "_view_module_version": "1.5.0",
            "_view_name": "HTMLView",
            "description": "",
            "description_tooltip": null,
            "layout": "IPY_MODEL_36dc7867223f48949160b0f2b1eca1c6",
            "placeholder": "​",
            "style": "IPY_MODEL_730b6a8c84b8474b8f0c8ca731f6a15f",
            "value": " 100/? [00:03&lt;00:00, 26.57it/s]"
          }
        },
        "daa8d0c67c034de5b6cca4a7466796ef": {
          "model_module": "@jupyter-widgets/base",
          "model_name": "LayoutModel",
          "model_module_version": "1.2.0",
          "state": {
            "_model_module": "@jupyter-widgets/base",
            "_model_module_version": "1.2.0",
            "_model_name": "LayoutModel",
            "_view_count": null,
            "_view_module": "@jupyter-widgets/base",
            "_view_module_version": "1.2.0",
            "_view_name": "LayoutView",
            "align_content": null,
            "align_items": null,
            "align_self": null,
            "border": null,
            "bottom": null,
            "display": null,
            "flex": null,
            "flex_flow": null,
            "grid_area": null,
            "grid_auto_columns": null,
            "grid_auto_flow": null,
            "grid_auto_rows": null,
            "grid_column": null,
            "grid_gap": null,
            "grid_row": null,
            "grid_template_areas": null,
            "grid_template_columns": null,
            "grid_template_rows": null,
            "height": null,
            "justify_content": null,
            "justify_items": null,
            "left": null,
            "margin": null,
            "max_height": null,
            "max_width": null,
            "min_height": null,
            "min_width": null,
            "object_fit": null,
            "object_position": null,
            "order": null,
            "overflow": null,
            "overflow_x": null,
            "overflow_y": null,
            "padding": null,
            "right": null,
            "top": null,
            "visibility": null,
            "width": null
          }
        },
        "e3c3490e16f8453da578a96e179c072e": {
          "model_module": "@jupyter-widgets/base",
          "model_name": "LayoutModel",
          "model_module_version": "1.2.0",
          "state": {
            "_model_module": "@jupyter-widgets/base",
            "_model_module_version": "1.2.0",
            "_model_name": "LayoutModel",
            "_view_count": null,
            "_view_module": "@jupyter-widgets/base",
            "_view_module_version": "1.2.0",
            "_view_name": "LayoutView",
            "align_content": null,
            "align_items": null,
            "align_self": null,
            "border": null,
            "bottom": null,
            "display": null,
            "flex": null,
            "flex_flow": null,
            "grid_area": null,
            "grid_auto_columns": null,
            "grid_auto_flow": null,
            "grid_auto_rows": null,
            "grid_column": null,
            "grid_gap": null,
            "grid_row": null,
            "grid_template_areas": null,
            "grid_template_columns": null,
            "grid_template_rows": null,
            "height": null,
            "justify_content": null,
            "justify_items": null,
            "left": null,
            "margin": null,
            "max_height": null,
            "max_width": null,
            "min_height": null,
            "min_width": null,
            "object_fit": null,
            "object_position": null,
            "order": null,
            "overflow": null,
            "overflow_x": null,
            "overflow_y": null,
            "padding": null,
            "right": null,
            "top": null,
            "visibility": null,
            "width": null
          }
        },
        "c46740159f2f4f198fa414e33aef9570": {
          "model_module": "@jupyter-widgets/controls",
          "model_name": "DescriptionStyleModel",
          "model_module_version": "1.5.0",
          "state": {
            "_model_module": "@jupyter-widgets/controls",
            "_model_module_version": "1.5.0",
            "_model_name": "DescriptionStyleModel",
            "_view_count": null,
            "_view_module": "@jupyter-widgets/base",
            "_view_module_version": "1.2.0",
            "_view_name": "StyleView",
            "description_width": ""
          }
        },
        "b835a5b252c7457f8a5d2a0bc13d7293": {
          "model_module": "@jupyter-widgets/base",
          "model_name": "LayoutModel",
          "model_module_version": "1.2.0",
          "state": {
            "_model_module": "@jupyter-widgets/base",
            "_model_module_version": "1.2.0",
            "_model_name": "LayoutModel",
            "_view_count": null,
            "_view_module": "@jupyter-widgets/base",
            "_view_module_version": "1.2.0",
            "_view_name": "LayoutView",
            "align_content": null,
            "align_items": null,
            "align_self": null,
            "border": null,
            "bottom": null,
            "display": null,
            "flex": null,
            "flex_flow": null,
            "grid_area": null,
            "grid_auto_columns": null,
            "grid_auto_flow": null,
            "grid_auto_rows": null,
            "grid_column": null,
            "grid_gap": null,
            "grid_row": null,
            "grid_template_areas": null,
            "grid_template_columns": null,
            "grid_template_rows": null,
            "height": null,
            "justify_content": null,
            "justify_items": null,
            "left": null,
            "margin": null,
            "max_height": null,
            "max_width": null,
            "min_height": null,
            "min_width": null,
            "object_fit": null,
            "object_position": null,
            "order": null,
            "overflow": null,
            "overflow_x": null,
            "overflow_y": null,
            "padding": null,
            "right": null,
            "top": null,
            "visibility": null,
            "width": "20px"
          }
        },
        "5af9cf577072403a8489d348908c721a": {
          "model_module": "@jupyter-widgets/controls",
          "model_name": "ProgressStyleModel",
          "model_module_version": "1.5.0",
          "state": {
            "_model_module": "@jupyter-widgets/controls",
            "_model_module_version": "1.5.0",
            "_model_name": "ProgressStyleModel",
            "_view_count": null,
            "_view_module": "@jupyter-widgets/base",
            "_view_module_version": "1.2.0",
            "_view_name": "StyleView",
            "bar_color": null,
            "description_width": ""
          }
        },
        "36dc7867223f48949160b0f2b1eca1c6": {
          "model_module": "@jupyter-widgets/base",
          "model_name": "LayoutModel",
          "model_module_version": "1.2.0",
          "state": {
            "_model_module": "@jupyter-widgets/base",
            "_model_module_version": "1.2.0",
            "_model_name": "LayoutModel",
            "_view_count": null,
            "_view_module": "@jupyter-widgets/base",
            "_view_module_version": "1.2.0",
            "_view_name": "LayoutView",
            "align_content": null,
            "align_items": null,
            "align_self": null,
            "border": null,
            "bottom": null,
            "display": null,
            "flex": null,
            "flex_flow": null,
            "grid_area": null,
            "grid_auto_columns": null,
            "grid_auto_flow": null,
            "grid_auto_rows": null,
            "grid_column": null,
            "grid_gap": null,
            "grid_row": null,
            "grid_template_areas": null,
            "grid_template_columns": null,
            "grid_template_rows": null,
            "height": null,
            "justify_content": null,
            "justify_items": null,
            "left": null,
            "margin": null,
            "max_height": null,
            "max_width": null,
            "min_height": null,
            "min_width": null,
            "object_fit": null,
            "object_position": null,
            "order": null,
            "overflow": null,
            "overflow_x": null,
            "overflow_y": null,
            "padding": null,
            "right": null,
            "top": null,
            "visibility": null,
            "width": null
          }
        },
        "730b6a8c84b8474b8f0c8ca731f6a15f": {
          "model_module": "@jupyter-widgets/controls",
          "model_name": "DescriptionStyleModel",
          "model_module_version": "1.5.0",
          "state": {
            "_model_module": "@jupyter-widgets/controls",
            "_model_module_version": "1.5.0",
            "_model_name": "DescriptionStyleModel",
            "_view_count": null,
            "_view_module": "@jupyter-widgets/base",
            "_view_module_version": "1.2.0",
            "_view_name": "StyleView",
            "description_width": ""
          }
        },
        "527c372afe044bddbec2ea1391c32272": {
          "model_module": "@jupyter-widgets/controls",
          "model_name": "HBoxModel",
          "model_module_version": "1.5.0",
          "state": {
            "_dom_classes": [],
            "_model_module": "@jupyter-widgets/controls",
            "_model_module_version": "1.5.0",
            "_model_name": "HBoxModel",
            "_view_count": null,
            "_view_module": "@jupyter-widgets/controls",
            "_view_module_version": "1.5.0",
            "_view_name": "HBoxView",
            "box_style": "",
            "children": [
              "IPY_MODEL_9c102618de6743a0ab4ba05c6c85574b",
              "IPY_MODEL_990ea551deb342ac990382af2d04bb77",
              "IPY_MODEL_40eb1dd338cc47498c1e959b1cfb1cf1"
            ],
            "layout": "IPY_MODEL_76af17706fc64dfd9bab86e40faaaafa"
          }
        },
        "9c102618de6743a0ab4ba05c6c85574b": {
          "model_module": "@jupyter-widgets/controls",
          "model_name": "HTMLModel",
          "model_module_version": "1.5.0",
          "state": {
            "_dom_classes": [],
            "_model_module": "@jupyter-widgets/controls",
            "_model_module_version": "1.5.0",
            "_model_name": "HTMLModel",
            "_view_count": null,
            "_view_module": "@jupyter-widgets/controls",
            "_view_module_version": "1.5.0",
            "_view_name": "HTMLView",
            "description": "",
            "description_tooltip": null,
            "layout": "IPY_MODEL_0930b9c8ffc14ee9a1413421676d3b6e",
            "placeholder": "​",
            "style": "IPY_MODEL_5427f0e21e47485691ca1ab976c0edaa",
            "value": ""
          }
        },
        "990ea551deb342ac990382af2d04bb77": {
          "model_module": "@jupyter-widgets/controls",
          "model_name": "FloatProgressModel",
          "model_module_version": "1.5.0",
          "state": {
            "_dom_classes": [],
            "_model_module": "@jupyter-widgets/controls",
            "_model_module_version": "1.5.0",
            "_model_name": "FloatProgressModel",
            "_view_count": null,
            "_view_module": "@jupyter-widgets/controls",
            "_view_module_version": "1.5.0",
            "_view_name": "ProgressView",
            "bar_style": "success",
            "description": "",
            "description_tooltip": null,
            "layout": "IPY_MODEL_c5f8ce59f497410a9e552746faf39ea6",
            "max": 1,
            "min": 0,
            "orientation": "horizontal",
            "style": "IPY_MODEL_2379da6a9ddd49a6888ae7c31c732497",
            "value": 1
          }
        },
        "40eb1dd338cc47498c1e959b1cfb1cf1": {
          "model_module": "@jupyter-widgets/controls",
          "model_name": "HTMLModel",
          "model_module_version": "1.5.0",
          "state": {
            "_dom_classes": [],
            "_model_module": "@jupyter-widgets/controls",
            "_model_module_version": "1.5.0",
            "_model_name": "HTMLModel",
            "_view_count": null,
            "_view_module": "@jupyter-widgets/controls",
            "_view_module_version": "1.5.0",
            "_view_name": "HTMLView",
            "description": "",
            "description_tooltip": null,
            "layout": "IPY_MODEL_794847c678e44204b9b4d38e2ffe1150",
            "placeholder": "​",
            "style": "IPY_MODEL_5546021615454b39a11c20cb1f850b29",
            "value": " 10/? [00:00&lt;00:00, 69.44it/s]"
          }
        },
        "76af17706fc64dfd9bab86e40faaaafa": {
          "model_module": "@jupyter-widgets/base",
          "model_name": "LayoutModel",
          "model_module_version": "1.2.0",
          "state": {
            "_model_module": "@jupyter-widgets/base",
            "_model_module_version": "1.2.0",
            "_model_name": "LayoutModel",
            "_view_count": null,
            "_view_module": "@jupyter-widgets/base",
            "_view_module_version": "1.2.0",
            "_view_name": "LayoutView",
            "align_content": null,
            "align_items": null,
            "align_self": null,
            "border": null,
            "bottom": null,
            "display": null,
            "flex": null,
            "flex_flow": null,
            "grid_area": null,
            "grid_auto_columns": null,
            "grid_auto_flow": null,
            "grid_auto_rows": null,
            "grid_column": null,
            "grid_gap": null,
            "grid_row": null,
            "grid_template_areas": null,
            "grid_template_columns": null,
            "grid_template_rows": null,
            "height": null,
            "justify_content": null,
            "justify_items": null,
            "left": null,
            "margin": null,
            "max_height": null,
            "max_width": null,
            "min_height": null,
            "min_width": null,
            "object_fit": null,
            "object_position": null,
            "order": null,
            "overflow": null,
            "overflow_x": null,
            "overflow_y": null,
            "padding": null,
            "right": null,
            "top": null,
            "visibility": null,
            "width": null
          }
        },
        "0930b9c8ffc14ee9a1413421676d3b6e": {
          "model_module": "@jupyter-widgets/base",
          "model_name": "LayoutModel",
          "model_module_version": "1.2.0",
          "state": {
            "_model_module": "@jupyter-widgets/base",
            "_model_module_version": "1.2.0",
            "_model_name": "LayoutModel",
            "_view_count": null,
            "_view_module": "@jupyter-widgets/base",
            "_view_module_version": "1.2.0",
            "_view_name": "LayoutView",
            "align_content": null,
            "align_items": null,
            "align_self": null,
            "border": null,
            "bottom": null,
            "display": null,
            "flex": null,
            "flex_flow": null,
            "grid_area": null,
            "grid_auto_columns": null,
            "grid_auto_flow": null,
            "grid_auto_rows": null,
            "grid_column": null,
            "grid_gap": null,
            "grid_row": null,
            "grid_template_areas": null,
            "grid_template_columns": null,
            "grid_template_rows": null,
            "height": null,
            "justify_content": null,
            "justify_items": null,
            "left": null,
            "margin": null,
            "max_height": null,
            "max_width": null,
            "min_height": null,
            "min_width": null,
            "object_fit": null,
            "object_position": null,
            "order": null,
            "overflow": null,
            "overflow_x": null,
            "overflow_y": null,
            "padding": null,
            "right": null,
            "top": null,
            "visibility": null,
            "width": null
          }
        },
        "5427f0e21e47485691ca1ab976c0edaa": {
          "model_module": "@jupyter-widgets/controls",
          "model_name": "DescriptionStyleModel",
          "model_module_version": "1.5.0",
          "state": {
            "_model_module": "@jupyter-widgets/controls",
            "_model_module_version": "1.5.0",
            "_model_name": "DescriptionStyleModel",
            "_view_count": null,
            "_view_module": "@jupyter-widgets/base",
            "_view_module_version": "1.2.0",
            "_view_name": "StyleView",
            "description_width": ""
          }
        },
        "c5f8ce59f497410a9e552746faf39ea6": {
          "model_module": "@jupyter-widgets/base",
          "model_name": "LayoutModel",
          "model_module_version": "1.2.0",
          "state": {
            "_model_module": "@jupyter-widgets/base",
            "_model_module_version": "1.2.0",
            "_model_name": "LayoutModel",
            "_view_count": null,
            "_view_module": "@jupyter-widgets/base",
            "_view_module_version": "1.2.0",
            "_view_name": "LayoutView",
            "align_content": null,
            "align_items": null,
            "align_self": null,
            "border": null,
            "bottom": null,
            "display": null,
            "flex": null,
            "flex_flow": null,
            "grid_area": null,
            "grid_auto_columns": null,
            "grid_auto_flow": null,
            "grid_auto_rows": null,
            "grid_column": null,
            "grid_gap": null,
            "grid_row": null,
            "grid_template_areas": null,
            "grid_template_columns": null,
            "grid_template_rows": null,
            "height": null,
            "justify_content": null,
            "justify_items": null,
            "left": null,
            "margin": null,
            "max_height": null,
            "max_width": null,
            "min_height": null,
            "min_width": null,
            "object_fit": null,
            "object_position": null,
            "order": null,
            "overflow": null,
            "overflow_x": null,
            "overflow_y": null,
            "padding": null,
            "right": null,
            "top": null,
            "visibility": null,
            "width": "20px"
          }
        },
        "2379da6a9ddd49a6888ae7c31c732497": {
          "model_module": "@jupyter-widgets/controls",
          "model_name": "ProgressStyleModel",
          "model_module_version": "1.5.0",
          "state": {
            "_model_module": "@jupyter-widgets/controls",
            "_model_module_version": "1.5.0",
            "_model_name": "ProgressStyleModel",
            "_view_count": null,
            "_view_module": "@jupyter-widgets/base",
            "_view_module_version": "1.2.0",
            "_view_name": "StyleView",
            "bar_color": null,
            "description_width": ""
          }
        },
        "794847c678e44204b9b4d38e2ffe1150": {
          "model_module": "@jupyter-widgets/base",
          "model_name": "LayoutModel",
          "model_module_version": "1.2.0",
          "state": {
            "_model_module": "@jupyter-widgets/base",
            "_model_module_version": "1.2.0",
            "_model_name": "LayoutModel",
            "_view_count": null,
            "_view_module": "@jupyter-widgets/base",
            "_view_module_version": "1.2.0",
            "_view_name": "LayoutView",
            "align_content": null,
            "align_items": null,
            "align_self": null,
            "border": null,
            "bottom": null,
            "display": null,
            "flex": null,
            "flex_flow": null,
            "grid_area": null,
            "grid_auto_columns": null,
            "grid_auto_flow": null,
            "grid_auto_rows": null,
            "grid_column": null,
            "grid_gap": null,
            "grid_row": null,
            "grid_template_areas": null,
            "grid_template_columns": null,
            "grid_template_rows": null,
            "height": null,
            "justify_content": null,
            "justify_items": null,
            "left": null,
            "margin": null,
            "max_height": null,
            "max_width": null,
            "min_height": null,
            "min_width": null,
            "object_fit": null,
            "object_position": null,
            "order": null,
            "overflow": null,
            "overflow_x": null,
            "overflow_y": null,
            "padding": null,
            "right": null,
            "top": null,
            "visibility": null,
            "width": null
          }
        },
        "5546021615454b39a11c20cb1f850b29": {
          "model_module": "@jupyter-widgets/controls",
          "model_name": "DescriptionStyleModel",
          "model_module_version": "1.5.0",
          "state": {
            "_model_module": "@jupyter-widgets/controls",
            "_model_module_version": "1.5.0",
            "_model_name": "DescriptionStyleModel",
            "_view_count": null,
            "_view_module": "@jupyter-widgets/base",
            "_view_module_version": "1.2.0",
            "_view_name": "StyleView",
            "description_width": ""
          }
        },
        "baa29a42ca12418aa041ca846eb19ba3": {
          "model_module": "@jupyter-widgets/controls",
          "model_name": "HBoxModel",
          "model_module_version": "1.5.0",
          "state": {
            "_dom_classes": [],
            "_model_module": "@jupyter-widgets/controls",
            "_model_module_version": "1.5.0",
            "_model_name": "HBoxModel",
            "_view_count": null,
            "_view_module": "@jupyter-widgets/controls",
            "_view_module_version": "1.5.0",
            "_view_name": "HBoxView",
            "box_style": "",
            "children": [
              "IPY_MODEL_9ced10c1a84d4989adaa32cea66c6eee",
              "IPY_MODEL_46bb16ddb2394bbfaa8df86d93ad3991",
              "IPY_MODEL_9ee0a044d0b24ed2b6bd99f9575f6a3d"
            ],
            "layout": "IPY_MODEL_75057e2204e34b73aee905789f57b8f4"
          }
        },
        "9ced10c1a84d4989adaa32cea66c6eee": {
          "model_module": "@jupyter-widgets/controls",
          "model_name": "HTMLModel",
          "model_module_version": "1.5.0",
          "state": {
            "_dom_classes": [],
            "_model_module": "@jupyter-widgets/controls",
            "_model_module_version": "1.5.0",
            "_model_name": "HTMLModel",
            "_view_count": null,
            "_view_module": "@jupyter-widgets/controls",
            "_view_module_version": "1.5.0",
            "_view_name": "HTMLView",
            "description": "",
            "description_tooltip": null,
            "layout": "IPY_MODEL_621d1ede50934215b82f24df942c73a8",
            "placeholder": "​",
            "style": "IPY_MODEL_ebd4f8ee44b042b7b4025097941cd730",
            "value": ""
          }
        },
        "46bb16ddb2394bbfaa8df86d93ad3991": {
          "model_module": "@jupyter-widgets/controls",
          "model_name": "FloatProgressModel",
          "model_module_version": "1.5.0",
          "state": {
            "_dom_classes": [],
            "_model_module": "@jupyter-widgets/controls",
            "_model_module_version": "1.5.0",
            "_model_name": "FloatProgressModel",
            "_view_count": null,
            "_view_module": "@jupyter-widgets/controls",
            "_view_module_version": "1.5.0",
            "_view_name": "ProgressView",
            "bar_style": "success",
            "description": "",
            "description_tooltip": null,
            "layout": "IPY_MODEL_035f842c3a6743ffa20f33bf7f1ef70b",
            "max": 1,
            "min": 0,
            "orientation": "horizontal",
            "style": "IPY_MODEL_ed55779be6d44702a2ff137f8d967c76",
            "value": 1
          }
        },
        "9ee0a044d0b24ed2b6bd99f9575f6a3d": {
          "model_module": "@jupyter-widgets/controls",
          "model_name": "HTMLModel",
          "model_module_version": "1.5.0",
          "state": {
            "_dom_classes": [],
            "_model_module": "@jupyter-widgets/controls",
            "_model_module_version": "1.5.0",
            "_model_name": "HTMLModel",
            "_view_count": null,
            "_view_module": "@jupyter-widgets/controls",
            "_view_module_version": "1.5.0",
            "_view_name": "HTMLView",
            "description": "",
            "description_tooltip": null,
            "layout": "IPY_MODEL_6b0ab0de29374d94b6a283e70de52faf",
            "placeholder": "​",
            "style": "IPY_MODEL_2def0711327746798643315c5e908f4f",
            "value": " 20/? [00:00&lt;00:00, 73.85it/s]"
          }
        },
        "75057e2204e34b73aee905789f57b8f4": {
          "model_module": "@jupyter-widgets/base",
          "model_name": "LayoutModel",
          "model_module_version": "1.2.0",
          "state": {
            "_model_module": "@jupyter-widgets/base",
            "_model_module_version": "1.2.0",
            "_model_name": "LayoutModel",
            "_view_count": null,
            "_view_module": "@jupyter-widgets/base",
            "_view_module_version": "1.2.0",
            "_view_name": "LayoutView",
            "align_content": null,
            "align_items": null,
            "align_self": null,
            "border": null,
            "bottom": null,
            "display": null,
            "flex": null,
            "flex_flow": null,
            "grid_area": null,
            "grid_auto_columns": null,
            "grid_auto_flow": null,
            "grid_auto_rows": null,
            "grid_column": null,
            "grid_gap": null,
            "grid_row": null,
            "grid_template_areas": null,
            "grid_template_columns": null,
            "grid_template_rows": null,
            "height": null,
            "justify_content": null,
            "justify_items": null,
            "left": null,
            "margin": null,
            "max_height": null,
            "max_width": null,
            "min_height": null,
            "min_width": null,
            "object_fit": null,
            "object_position": null,
            "order": null,
            "overflow": null,
            "overflow_x": null,
            "overflow_y": null,
            "padding": null,
            "right": null,
            "top": null,
            "visibility": null,
            "width": null
          }
        },
        "621d1ede50934215b82f24df942c73a8": {
          "model_module": "@jupyter-widgets/base",
          "model_name": "LayoutModel",
          "model_module_version": "1.2.0",
          "state": {
            "_model_module": "@jupyter-widgets/base",
            "_model_module_version": "1.2.0",
            "_model_name": "LayoutModel",
            "_view_count": null,
            "_view_module": "@jupyter-widgets/base",
            "_view_module_version": "1.2.0",
            "_view_name": "LayoutView",
            "align_content": null,
            "align_items": null,
            "align_self": null,
            "border": null,
            "bottom": null,
            "display": null,
            "flex": null,
            "flex_flow": null,
            "grid_area": null,
            "grid_auto_columns": null,
            "grid_auto_flow": null,
            "grid_auto_rows": null,
            "grid_column": null,
            "grid_gap": null,
            "grid_row": null,
            "grid_template_areas": null,
            "grid_template_columns": null,
            "grid_template_rows": null,
            "height": null,
            "justify_content": null,
            "justify_items": null,
            "left": null,
            "margin": null,
            "max_height": null,
            "max_width": null,
            "min_height": null,
            "min_width": null,
            "object_fit": null,
            "object_position": null,
            "order": null,
            "overflow": null,
            "overflow_x": null,
            "overflow_y": null,
            "padding": null,
            "right": null,
            "top": null,
            "visibility": null,
            "width": null
          }
        },
        "ebd4f8ee44b042b7b4025097941cd730": {
          "model_module": "@jupyter-widgets/controls",
          "model_name": "DescriptionStyleModel",
          "model_module_version": "1.5.0",
          "state": {
            "_model_module": "@jupyter-widgets/controls",
            "_model_module_version": "1.5.0",
            "_model_name": "DescriptionStyleModel",
            "_view_count": null,
            "_view_module": "@jupyter-widgets/base",
            "_view_module_version": "1.2.0",
            "_view_name": "StyleView",
            "description_width": ""
          }
        },
        "035f842c3a6743ffa20f33bf7f1ef70b": {
          "model_module": "@jupyter-widgets/base",
          "model_name": "LayoutModel",
          "model_module_version": "1.2.0",
          "state": {
            "_model_module": "@jupyter-widgets/base",
            "_model_module_version": "1.2.0",
            "_model_name": "LayoutModel",
            "_view_count": null,
            "_view_module": "@jupyter-widgets/base",
            "_view_module_version": "1.2.0",
            "_view_name": "LayoutView",
            "align_content": null,
            "align_items": null,
            "align_self": null,
            "border": null,
            "bottom": null,
            "display": null,
            "flex": null,
            "flex_flow": null,
            "grid_area": null,
            "grid_auto_columns": null,
            "grid_auto_flow": null,
            "grid_auto_rows": null,
            "grid_column": null,
            "grid_gap": null,
            "grid_row": null,
            "grid_template_areas": null,
            "grid_template_columns": null,
            "grid_template_rows": null,
            "height": null,
            "justify_content": null,
            "justify_items": null,
            "left": null,
            "margin": null,
            "max_height": null,
            "max_width": null,
            "min_height": null,
            "min_width": null,
            "object_fit": null,
            "object_position": null,
            "order": null,
            "overflow": null,
            "overflow_x": null,
            "overflow_y": null,
            "padding": null,
            "right": null,
            "top": null,
            "visibility": null,
            "width": "20px"
          }
        },
        "ed55779be6d44702a2ff137f8d967c76": {
          "model_module": "@jupyter-widgets/controls",
          "model_name": "ProgressStyleModel",
          "model_module_version": "1.5.0",
          "state": {
            "_model_module": "@jupyter-widgets/controls",
            "_model_module_version": "1.5.0",
            "_model_name": "ProgressStyleModel",
            "_view_count": null,
            "_view_module": "@jupyter-widgets/base",
            "_view_module_version": "1.2.0",
            "_view_name": "StyleView",
            "bar_color": null,
            "description_width": ""
          }
        },
        "6b0ab0de29374d94b6a283e70de52faf": {
          "model_module": "@jupyter-widgets/base",
          "model_name": "LayoutModel",
          "model_module_version": "1.2.0",
          "state": {
            "_model_module": "@jupyter-widgets/base",
            "_model_module_version": "1.2.0",
            "_model_name": "LayoutModel",
            "_view_count": null,
            "_view_module": "@jupyter-widgets/base",
            "_view_module_version": "1.2.0",
            "_view_name": "LayoutView",
            "align_content": null,
            "align_items": null,
            "align_self": null,
            "border": null,
            "bottom": null,
            "display": null,
            "flex": null,
            "flex_flow": null,
            "grid_area": null,
            "grid_auto_columns": null,
            "grid_auto_flow": null,
            "grid_auto_rows": null,
            "grid_column": null,
            "grid_gap": null,
            "grid_row": null,
            "grid_template_areas": null,
            "grid_template_columns": null,
            "grid_template_rows": null,
            "height": null,
            "justify_content": null,
            "justify_items": null,
            "left": null,
            "margin": null,
            "max_height": null,
            "max_width": null,
            "min_height": null,
            "min_width": null,
            "object_fit": null,
            "object_position": null,
            "order": null,
            "overflow": null,
            "overflow_x": null,
            "overflow_y": null,
            "padding": null,
            "right": null,
            "top": null,
            "visibility": null,
            "width": null
          }
        },
        "2def0711327746798643315c5e908f4f": {
          "model_module": "@jupyter-widgets/controls",
          "model_name": "DescriptionStyleModel",
          "model_module_version": "1.5.0",
          "state": {
            "_model_module": "@jupyter-widgets/controls",
            "_model_module_version": "1.5.0",
            "_model_name": "DescriptionStyleModel",
            "_view_count": null,
            "_view_module": "@jupyter-widgets/base",
            "_view_module_version": "1.2.0",
            "_view_name": "StyleView",
            "description_width": ""
          }
        },
        "bb57ad5c54684cc0bb05bea6b16ffd1e": {
          "model_module": "@jupyter-widgets/controls",
          "model_name": "HBoxModel",
          "model_module_version": "1.5.0",
          "state": {
            "_dom_classes": [],
            "_model_module": "@jupyter-widgets/controls",
            "_model_module_version": "1.5.0",
            "_model_name": "HBoxModel",
            "_view_count": null,
            "_view_module": "@jupyter-widgets/controls",
            "_view_module_version": "1.5.0",
            "_view_name": "HBoxView",
            "box_style": "",
            "children": [
              "IPY_MODEL_cca416c844a3404490c1694278b8e3d9",
              "IPY_MODEL_f394bb7a383b4b3a8a8c2fb8c330782a",
              "IPY_MODEL_0e1fd36861c049e8ad9c6c4be606dfbb"
            ],
            "layout": "IPY_MODEL_a6a874cfd99a40b1879aa2c43dd532c1"
          }
        },
        "cca416c844a3404490c1694278b8e3d9": {
          "model_module": "@jupyter-widgets/controls",
          "model_name": "HTMLModel",
          "model_module_version": "1.5.0",
          "state": {
            "_dom_classes": [],
            "_model_module": "@jupyter-widgets/controls",
            "_model_module_version": "1.5.0",
            "_model_name": "HTMLModel",
            "_view_count": null,
            "_view_module": "@jupyter-widgets/controls",
            "_view_module_version": "1.5.0",
            "_view_name": "HTMLView",
            "description": "",
            "description_tooltip": null,
            "layout": "IPY_MODEL_0c98fd983606429d8bb538ea0f9de6cb",
            "placeholder": "​",
            "style": "IPY_MODEL_c6af8764d258415592736457c287078f",
            "value": ""
          }
        },
        "f394bb7a383b4b3a8a8c2fb8c330782a": {
          "model_module": "@jupyter-widgets/controls",
          "model_name": "FloatProgressModel",
          "model_module_version": "1.5.0",
          "state": {
            "_dom_classes": [],
            "_model_module": "@jupyter-widgets/controls",
            "_model_module_version": "1.5.0",
            "_model_name": "FloatProgressModel",
            "_view_count": null,
            "_view_module": "@jupyter-widgets/controls",
            "_view_module_version": "1.5.0",
            "_view_name": "ProgressView",
            "bar_style": "danger",
            "description": "",
            "description_tooltip": null,
            "layout": "IPY_MODEL_3e4e237da39a41b185336a389404316a",
            "max": 1,
            "min": 0,
            "orientation": "horizontal",
            "style": "IPY_MODEL_9ebf68aff9224896bbf99b5090adb5e2",
            "value": 1
          }
        },
        "0e1fd36861c049e8ad9c6c4be606dfbb": {
          "model_module": "@jupyter-widgets/controls",
          "model_name": "HTMLModel",
          "model_module_version": "1.5.0",
          "state": {
            "_dom_classes": [],
            "_model_module": "@jupyter-widgets/controls",
            "_model_module_version": "1.5.0",
            "_model_name": "HTMLModel",
            "_view_count": null,
            "_view_module": "@jupyter-widgets/controls",
            "_view_module_version": "1.5.0",
            "_view_name": "HTMLView",
            "description": "",
            "description_tooltip": null,
            "layout": "IPY_MODEL_2753694756344cefb8d9416c27ee650d",
            "placeholder": "​",
            "style": "IPY_MODEL_0cd35107e7404c7994e5cb7747d96e5f",
            "value": " 100/? [00:03&lt;00:00, 26.91it/s]"
          }
        },
        "a6a874cfd99a40b1879aa2c43dd532c1": {
          "model_module": "@jupyter-widgets/base",
          "model_name": "LayoutModel",
          "model_module_version": "1.2.0",
          "state": {
            "_model_module": "@jupyter-widgets/base",
            "_model_module_version": "1.2.0",
            "_model_name": "LayoutModel",
            "_view_count": null,
            "_view_module": "@jupyter-widgets/base",
            "_view_module_version": "1.2.0",
            "_view_name": "LayoutView",
            "align_content": null,
            "align_items": null,
            "align_self": null,
            "border": null,
            "bottom": null,
            "display": null,
            "flex": null,
            "flex_flow": null,
            "grid_area": null,
            "grid_auto_columns": null,
            "grid_auto_flow": null,
            "grid_auto_rows": null,
            "grid_column": null,
            "grid_gap": null,
            "grid_row": null,
            "grid_template_areas": null,
            "grid_template_columns": null,
            "grid_template_rows": null,
            "height": null,
            "justify_content": null,
            "justify_items": null,
            "left": null,
            "margin": null,
            "max_height": null,
            "max_width": null,
            "min_height": null,
            "min_width": null,
            "object_fit": null,
            "object_position": null,
            "order": null,
            "overflow": null,
            "overflow_x": null,
            "overflow_y": null,
            "padding": null,
            "right": null,
            "top": null,
            "visibility": null,
            "width": null
          }
        },
        "0c98fd983606429d8bb538ea0f9de6cb": {
          "model_module": "@jupyter-widgets/base",
          "model_name": "LayoutModel",
          "model_module_version": "1.2.0",
          "state": {
            "_model_module": "@jupyter-widgets/base",
            "_model_module_version": "1.2.0",
            "_model_name": "LayoutModel",
            "_view_count": null,
            "_view_module": "@jupyter-widgets/base",
            "_view_module_version": "1.2.0",
            "_view_name": "LayoutView",
            "align_content": null,
            "align_items": null,
            "align_self": null,
            "border": null,
            "bottom": null,
            "display": null,
            "flex": null,
            "flex_flow": null,
            "grid_area": null,
            "grid_auto_columns": null,
            "grid_auto_flow": null,
            "grid_auto_rows": null,
            "grid_column": null,
            "grid_gap": null,
            "grid_row": null,
            "grid_template_areas": null,
            "grid_template_columns": null,
            "grid_template_rows": null,
            "height": null,
            "justify_content": null,
            "justify_items": null,
            "left": null,
            "margin": null,
            "max_height": null,
            "max_width": null,
            "min_height": null,
            "min_width": null,
            "object_fit": null,
            "object_position": null,
            "order": null,
            "overflow": null,
            "overflow_x": null,
            "overflow_y": null,
            "padding": null,
            "right": null,
            "top": null,
            "visibility": null,
            "width": null
          }
        },
        "c6af8764d258415592736457c287078f": {
          "model_module": "@jupyter-widgets/controls",
          "model_name": "DescriptionStyleModel",
          "model_module_version": "1.5.0",
          "state": {
            "_model_module": "@jupyter-widgets/controls",
            "_model_module_version": "1.5.0",
            "_model_name": "DescriptionStyleModel",
            "_view_count": null,
            "_view_module": "@jupyter-widgets/base",
            "_view_module_version": "1.2.0",
            "_view_name": "StyleView",
            "description_width": ""
          }
        },
        "3e4e237da39a41b185336a389404316a": {
          "model_module": "@jupyter-widgets/base",
          "model_name": "LayoutModel",
          "model_module_version": "1.2.0",
          "state": {
            "_model_module": "@jupyter-widgets/base",
            "_model_module_version": "1.2.0",
            "_model_name": "LayoutModel",
            "_view_count": null,
            "_view_module": "@jupyter-widgets/base",
            "_view_module_version": "1.2.0",
            "_view_name": "LayoutView",
            "align_content": null,
            "align_items": null,
            "align_self": null,
            "border": null,
            "bottom": null,
            "display": null,
            "flex": null,
            "flex_flow": null,
            "grid_area": null,
            "grid_auto_columns": null,
            "grid_auto_flow": null,
            "grid_auto_rows": null,
            "grid_column": null,
            "grid_gap": null,
            "grid_row": null,
            "grid_template_areas": null,
            "grid_template_columns": null,
            "grid_template_rows": null,
            "height": null,
            "justify_content": null,
            "justify_items": null,
            "left": null,
            "margin": null,
            "max_height": null,
            "max_width": null,
            "min_height": null,
            "min_width": null,
            "object_fit": null,
            "object_position": null,
            "order": null,
            "overflow": null,
            "overflow_x": null,
            "overflow_y": null,
            "padding": null,
            "right": null,
            "top": null,
            "visibility": null,
            "width": "20px"
          }
        },
        "9ebf68aff9224896bbf99b5090adb5e2": {
          "model_module": "@jupyter-widgets/controls",
          "model_name": "ProgressStyleModel",
          "model_module_version": "1.5.0",
          "state": {
            "_model_module": "@jupyter-widgets/controls",
            "_model_module_version": "1.5.0",
            "_model_name": "ProgressStyleModel",
            "_view_count": null,
            "_view_module": "@jupyter-widgets/base",
            "_view_module_version": "1.2.0",
            "_view_name": "StyleView",
            "bar_color": null,
            "description_width": ""
          }
        },
        "2753694756344cefb8d9416c27ee650d": {
          "model_module": "@jupyter-widgets/base",
          "model_name": "LayoutModel",
          "model_module_version": "1.2.0",
          "state": {
            "_model_module": "@jupyter-widgets/base",
            "_model_module_version": "1.2.0",
            "_model_name": "LayoutModel",
            "_view_count": null,
            "_view_module": "@jupyter-widgets/base",
            "_view_module_version": "1.2.0",
            "_view_name": "LayoutView",
            "align_content": null,
            "align_items": null,
            "align_self": null,
            "border": null,
            "bottom": null,
            "display": null,
            "flex": null,
            "flex_flow": null,
            "grid_area": null,
            "grid_auto_columns": null,
            "grid_auto_flow": null,
            "grid_auto_rows": null,
            "grid_column": null,
            "grid_gap": null,
            "grid_row": null,
            "grid_template_areas": null,
            "grid_template_columns": null,
            "grid_template_rows": null,
            "height": null,
            "justify_content": null,
            "justify_items": null,
            "left": null,
            "margin": null,
            "max_height": null,
            "max_width": null,
            "min_height": null,
            "min_width": null,
            "object_fit": null,
            "object_position": null,
            "order": null,
            "overflow": null,
            "overflow_x": null,
            "overflow_y": null,
            "padding": null,
            "right": null,
            "top": null,
            "visibility": null,
            "width": null
          }
        },
        "0cd35107e7404c7994e5cb7747d96e5f": {
          "model_module": "@jupyter-widgets/controls",
          "model_name": "DescriptionStyleModel",
          "model_module_version": "1.5.0",
          "state": {
            "_model_module": "@jupyter-widgets/controls",
            "_model_module_version": "1.5.0",
            "_model_name": "DescriptionStyleModel",
            "_view_count": null,
            "_view_module": "@jupyter-widgets/base",
            "_view_module_version": "1.2.0",
            "_view_name": "StyleView",
            "description_width": ""
          }
        },
        "d060bce81dfc403e83361474762f02e4": {
          "model_module": "@jupyter-widgets/controls",
          "model_name": "HBoxModel",
          "model_module_version": "1.5.0",
          "state": {
            "_dom_classes": [],
            "_model_module": "@jupyter-widgets/controls",
            "_model_module_version": "1.5.0",
            "_model_name": "HBoxModel",
            "_view_count": null,
            "_view_module": "@jupyter-widgets/controls",
            "_view_module_version": "1.5.0",
            "_view_name": "HBoxView",
            "box_style": "",
            "children": [
              "IPY_MODEL_26135e16d67746eb9a45a98cb9e51eb6",
              "IPY_MODEL_1e312035063c4a8296cfc53ae3dd9e77",
              "IPY_MODEL_baf6c892f2f74fa3a282cd239e7424e6"
            ],
            "layout": "IPY_MODEL_e8b2d2d6c39d4676b01a2180e5e9ff1d"
          }
        },
        "26135e16d67746eb9a45a98cb9e51eb6": {
          "model_module": "@jupyter-widgets/controls",
          "model_name": "HTMLModel",
          "model_module_version": "1.5.0",
          "state": {
            "_dom_classes": [],
            "_model_module": "@jupyter-widgets/controls",
            "_model_module_version": "1.5.0",
            "_model_name": "HTMLModel",
            "_view_count": null,
            "_view_module": "@jupyter-widgets/controls",
            "_view_module_version": "1.5.0",
            "_view_name": "HTMLView",
            "description": "",
            "description_tooltip": null,
            "layout": "IPY_MODEL_d876d360e0f543f99dada0ce3c9cea2c",
            "placeholder": "​",
            "style": "IPY_MODEL_f33ca36c8ef44a6eac5d57b869460f74",
            "value": ""
          }
        },
        "1e312035063c4a8296cfc53ae3dd9e77": {
          "model_module": "@jupyter-widgets/controls",
          "model_name": "FloatProgressModel",
          "model_module_version": "1.5.0",
          "state": {
            "_dom_classes": [],
            "_model_module": "@jupyter-widgets/controls",
            "_model_module_version": "1.5.0",
            "_model_name": "FloatProgressModel",
            "_view_count": null,
            "_view_module": "@jupyter-widgets/controls",
            "_view_module_version": "1.5.0",
            "_view_name": "ProgressView",
            "bar_style": "danger",
            "description": "",
            "description_tooltip": null,
            "layout": "IPY_MODEL_ebfcacaaea3946819b743811c41a2dc1",
            "max": 1,
            "min": 0,
            "orientation": "horizontal",
            "style": "IPY_MODEL_9bb9c8904e8d4eaa873fde8803701395",
            "value": 1
          }
        },
        "baf6c892f2f74fa3a282cd239e7424e6": {
          "model_module": "@jupyter-widgets/controls",
          "model_name": "HTMLModel",
          "model_module_version": "1.5.0",
          "state": {
            "_dom_classes": [],
            "_model_module": "@jupyter-widgets/controls",
            "_model_module_version": "1.5.0",
            "_model_name": "HTMLModel",
            "_view_count": null,
            "_view_module": "@jupyter-widgets/controls",
            "_view_module_version": "1.5.0",
            "_view_name": "HTMLView",
            "description": "",
            "description_tooltip": null,
            "layout": "IPY_MODEL_37c5893c5e9a46b2bf3fd534079a8be4",
            "placeholder": "​",
            "style": "IPY_MODEL_e86cca984c084309b9315dcfff701a5d",
            "value": " 100/? [00:03&lt;00:00, 27.87it/s]"
          }
        },
        "e8b2d2d6c39d4676b01a2180e5e9ff1d": {
          "model_module": "@jupyter-widgets/base",
          "model_name": "LayoutModel",
          "model_module_version": "1.2.0",
          "state": {
            "_model_module": "@jupyter-widgets/base",
            "_model_module_version": "1.2.0",
            "_model_name": "LayoutModel",
            "_view_count": null,
            "_view_module": "@jupyter-widgets/base",
            "_view_module_version": "1.2.0",
            "_view_name": "LayoutView",
            "align_content": null,
            "align_items": null,
            "align_self": null,
            "border": null,
            "bottom": null,
            "display": null,
            "flex": null,
            "flex_flow": null,
            "grid_area": null,
            "grid_auto_columns": null,
            "grid_auto_flow": null,
            "grid_auto_rows": null,
            "grid_column": null,
            "grid_gap": null,
            "grid_row": null,
            "grid_template_areas": null,
            "grid_template_columns": null,
            "grid_template_rows": null,
            "height": null,
            "justify_content": null,
            "justify_items": null,
            "left": null,
            "margin": null,
            "max_height": null,
            "max_width": null,
            "min_height": null,
            "min_width": null,
            "object_fit": null,
            "object_position": null,
            "order": null,
            "overflow": null,
            "overflow_x": null,
            "overflow_y": null,
            "padding": null,
            "right": null,
            "top": null,
            "visibility": null,
            "width": null
          }
        },
        "d876d360e0f543f99dada0ce3c9cea2c": {
          "model_module": "@jupyter-widgets/base",
          "model_name": "LayoutModel",
          "model_module_version": "1.2.0",
          "state": {
            "_model_module": "@jupyter-widgets/base",
            "_model_module_version": "1.2.0",
            "_model_name": "LayoutModel",
            "_view_count": null,
            "_view_module": "@jupyter-widgets/base",
            "_view_module_version": "1.2.0",
            "_view_name": "LayoutView",
            "align_content": null,
            "align_items": null,
            "align_self": null,
            "border": null,
            "bottom": null,
            "display": null,
            "flex": null,
            "flex_flow": null,
            "grid_area": null,
            "grid_auto_columns": null,
            "grid_auto_flow": null,
            "grid_auto_rows": null,
            "grid_column": null,
            "grid_gap": null,
            "grid_row": null,
            "grid_template_areas": null,
            "grid_template_columns": null,
            "grid_template_rows": null,
            "height": null,
            "justify_content": null,
            "justify_items": null,
            "left": null,
            "margin": null,
            "max_height": null,
            "max_width": null,
            "min_height": null,
            "min_width": null,
            "object_fit": null,
            "object_position": null,
            "order": null,
            "overflow": null,
            "overflow_x": null,
            "overflow_y": null,
            "padding": null,
            "right": null,
            "top": null,
            "visibility": null,
            "width": null
          }
        },
        "f33ca36c8ef44a6eac5d57b869460f74": {
          "model_module": "@jupyter-widgets/controls",
          "model_name": "DescriptionStyleModel",
          "model_module_version": "1.5.0",
          "state": {
            "_model_module": "@jupyter-widgets/controls",
            "_model_module_version": "1.5.0",
            "_model_name": "DescriptionStyleModel",
            "_view_count": null,
            "_view_module": "@jupyter-widgets/base",
            "_view_module_version": "1.2.0",
            "_view_name": "StyleView",
            "description_width": ""
          }
        },
        "ebfcacaaea3946819b743811c41a2dc1": {
          "model_module": "@jupyter-widgets/base",
          "model_name": "LayoutModel",
          "model_module_version": "1.2.0",
          "state": {
            "_model_module": "@jupyter-widgets/base",
            "_model_module_version": "1.2.0",
            "_model_name": "LayoutModel",
            "_view_count": null,
            "_view_module": "@jupyter-widgets/base",
            "_view_module_version": "1.2.0",
            "_view_name": "LayoutView",
            "align_content": null,
            "align_items": null,
            "align_self": null,
            "border": null,
            "bottom": null,
            "display": null,
            "flex": null,
            "flex_flow": null,
            "grid_area": null,
            "grid_auto_columns": null,
            "grid_auto_flow": null,
            "grid_auto_rows": null,
            "grid_column": null,
            "grid_gap": null,
            "grid_row": null,
            "grid_template_areas": null,
            "grid_template_columns": null,
            "grid_template_rows": null,
            "height": null,
            "justify_content": null,
            "justify_items": null,
            "left": null,
            "margin": null,
            "max_height": null,
            "max_width": null,
            "min_height": null,
            "min_width": null,
            "object_fit": null,
            "object_position": null,
            "order": null,
            "overflow": null,
            "overflow_x": null,
            "overflow_y": null,
            "padding": null,
            "right": null,
            "top": null,
            "visibility": null,
            "width": "20px"
          }
        },
        "9bb9c8904e8d4eaa873fde8803701395": {
          "model_module": "@jupyter-widgets/controls",
          "model_name": "ProgressStyleModel",
          "model_module_version": "1.5.0",
          "state": {
            "_model_module": "@jupyter-widgets/controls",
            "_model_module_version": "1.5.0",
            "_model_name": "ProgressStyleModel",
            "_view_count": null,
            "_view_module": "@jupyter-widgets/base",
            "_view_module_version": "1.2.0",
            "_view_name": "StyleView",
            "bar_color": null,
            "description_width": ""
          }
        },
        "37c5893c5e9a46b2bf3fd534079a8be4": {
          "model_module": "@jupyter-widgets/base",
          "model_name": "LayoutModel",
          "model_module_version": "1.2.0",
          "state": {
            "_model_module": "@jupyter-widgets/base",
            "_model_module_version": "1.2.0",
            "_model_name": "LayoutModel",
            "_view_count": null,
            "_view_module": "@jupyter-widgets/base",
            "_view_module_version": "1.2.0",
            "_view_name": "LayoutView",
            "align_content": null,
            "align_items": null,
            "align_self": null,
            "border": null,
            "bottom": null,
            "display": null,
            "flex": null,
            "flex_flow": null,
            "grid_area": null,
            "grid_auto_columns": null,
            "grid_auto_flow": null,
            "grid_auto_rows": null,
            "grid_column": null,
            "grid_gap": null,
            "grid_row": null,
            "grid_template_areas": null,
            "grid_template_columns": null,
            "grid_template_rows": null,
            "height": null,
            "justify_content": null,
            "justify_items": null,
            "left": null,
            "margin": null,
            "max_height": null,
            "max_width": null,
            "min_height": null,
            "min_width": null,
            "object_fit": null,
            "object_position": null,
            "order": null,
            "overflow": null,
            "overflow_x": null,
            "overflow_y": null,
            "padding": null,
            "right": null,
            "top": null,
            "visibility": null,
            "width": null
          }
        },
        "e86cca984c084309b9315dcfff701a5d": {
          "model_module": "@jupyter-widgets/controls",
          "model_name": "DescriptionStyleModel",
          "model_module_version": "1.5.0",
          "state": {
            "_model_module": "@jupyter-widgets/controls",
            "_model_module_version": "1.5.0",
            "_model_name": "DescriptionStyleModel",
            "_view_count": null,
            "_view_module": "@jupyter-widgets/base",
            "_view_module_version": "1.2.0",
            "_view_name": "StyleView",
            "description_width": ""
          }
        },
        "ecfe688ae5454107a0898fbc17ebfde0": {
          "model_module": "@jupyter-widgets/controls",
          "model_name": "HBoxModel",
          "model_module_version": "1.5.0",
          "state": {
            "_dom_classes": [],
            "_model_module": "@jupyter-widgets/controls",
            "_model_module_version": "1.5.0",
            "_model_name": "HBoxModel",
            "_view_count": null,
            "_view_module": "@jupyter-widgets/controls",
            "_view_module_version": "1.5.0",
            "_view_name": "HBoxView",
            "box_style": "",
            "children": [
              "IPY_MODEL_5dddfc79f7d148c3a92bf8e515cd6ef0",
              "IPY_MODEL_828985c0cad44693bef0ea66a59f7736",
              "IPY_MODEL_d7eb16c302b745479bf32dcf97a6dd82"
            ],
            "layout": "IPY_MODEL_754f624530804dd0943787e0c9d0a903"
          }
        },
        "5dddfc79f7d148c3a92bf8e515cd6ef0": {
          "model_module": "@jupyter-widgets/controls",
          "model_name": "HTMLModel",
          "model_module_version": "1.5.0",
          "state": {
            "_dom_classes": [],
            "_model_module": "@jupyter-widgets/controls",
            "_model_module_version": "1.5.0",
            "_model_name": "HTMLModel",
            "_view_count": null,
            "_view_module": "@jupyter-widgets/controls",
            "_view_module_version": "1.5.0",
            "_view_name": "HTMLView",
            "description": "",
            "description_tooltip": null,
            "layout": "IPY_MODEL_10119ca9b58e4faf90f4d61d76bc24d4",
            "placeholder": "​",
            "style": "IPY_MODEL_7662305497b341b28e9c0559381ec585",
            "value": ""
          }
        },
        "828985c0cad44693bef0ea66a59f7736": {
          "model_module": "@jupyter-widgets/controls",
          "model_name": "FloatProgressModel",
          "model_module_version": "1.5.0",
          "state": {
            "_dom_classes": [],
            "_model_module": "@jupyter-widgets/controls",
            "_model_module_version": "1.5.0",
            "_model_name": "FloatProgressModel",
            "_view_count": null,
            "_view_module": "@jupyter-widgets/controls",
            "_view_module_version": "1.5.0",
            "_view_name": "ProgressView",
            "bar_style": "success",
            "description": "",
            "description_tooltip": null,
            "layout": "IPY_MODEL_7dc7141a64554149bbd094dc52fd84ea",
            "max": 1,
            "min": 0,
            "orientation": "horizontal",
            "style": "IPY_MODEL_9bf952349f8840de856d0fdbec06da90",
            "value": 1
          }
        },
        "d7eb16c302b745479bf32dcf97a6dd82": {
          "model_module": "@jupyter-widgets/controls",
          "model_name": "HTMLModel",
          "model_module_version": "1.5.0",
          "state": {
            "_dom_classes": [],
            "_model_module": "@jupyter-widgets/controls",
            "_model_module_version": "1.5.0",
            "_model_name": "HTMLModel",
            "_view_count": null,
            "_view_module": "@jupyter-widgets/controls",
            "_view_module_version": "1.5.0",
            "_view_name": "HTMLView",
            "description": "",
            "description_tooltip": null,
            "layout": "IPY_MODEL_9d7500484b224870a0f573bb2a46355f",
            "placeholder": "​",
            "style": "IPY_MODEL_d8d8477db0e24349b8aa996050189bb0",
            "value": " 10/? [00:00&lt;00:00, 55.02it/s]"
          }
        },
        "754f624530804dd0943787e0c9d0a903": {
          "model_module": "@jupyter-widgets/base",
          "model_name": "LayoutModel",
          "model_module_version": "1.2.0",
          "state": {
            "_model_module": "@jupyter-widgets/base",
            "_model_module_version": "1.2.0",
            "_model_name": "LayoutModel",
            "_view_count": null,
            "_view_module": "@jupyter-widgets/base",
            "_view_module_version": "1.2.0",
            "_view_name": "LayoutView",
            "align_content": null,
            "align_items": null,
            "align_self": null,
            "border": null,
            "bottom": null,
            "display": null,
            "flex": null,
            "flex_flow": null,
            "grid_area": null,
            "grid_auto_columns": null,
            "grid_auto_flow": null,
            "grid_auto_rows": null,
            "grid_column": null,
            "grid_gap": null,
            "grid_row": null,
            "grid_template_areas": null,
            "grid_template_columns": null,
            "grid_template_rows": null,
            "height": null,
            "justify_content": null,
            "justify_items": null,
            "left": null,
            "margin": null,
            "max_height": null,
            "max_width": null,
            "min_height": null,
            "min_width": null,
            "object_fit": null,
            "object_position": null,
            "order": null,
            "overflow": null,
            "overflow_x": null,
            "overflow_y": null,
            "padding": null,
            "right": null,
            "top": null,
            "visibility": null,
            "width": null
          }
        },
        "10119ca9b58e4faf90f4d61d76bc24d4": {
          "model_module": "@jupyter-widgets/base",
          "model_name": "LayoutModel",
          "model_module_version": "1.2.0",
          "state": {
            "_model_module": "@jupyter-widgets/base",
            "_model_module_version": "1.2.0",
            "_model_name": "LayoutModel",
            "_view_count": null,
            "_view_module": "@jupyter-widgets/base",
            "_view_module_version": "1.2.0",
            "_view_name": "LayoutView",
            "align_content": null,
            "align_items": null,
            "align_self": null,
            "border": null,
            "bottom": null,
            "display": null,
            "flex": null,
            "flex_flow": null,
            "grid_area": null,
            "grid_auto_columns": null,
            "grid_auto_flow": null,
            "grid_auto_rows": null,
            "grid_column": null,
            "grid_gap": null,
            "grid_row": null,
            "grid_template_areas": null,
            "grid_template_columns": null,
            "grid_template_rows": null,
            "height": null,
            "justify_content": null,
            "justify_items": null,
            "left": null,
            "margin": null,
            "max_height": null,
            "max_width": null,
            "min_height": null,
            "min_width": null,
            "object_fit": null,
            "object_position": null,
            "order": null,
            "overflow": null,
            "overflow_x": null,
            "overflow_y": null,
            "padding": null,
            "right": null,
            "top": null,
            "visibility": null,
            "width": null
          }
        },
        "7662305497b341b28e9c0559381ec585": {
          "model_module": "@jupyter-widgets/controls",
          "model_name": "DescriptionStyleModel",
          "model_module_version": "1.5.0",
          "state": {
            "_model_module": "@jupyter-widgets/controls",
            "_model_module_version": "1.5.0",
            "_model_name": "DescriptionStyleModel",
            "_view_count": null,
            "_view_module": "@jupyter-widgets/base",
            "_view_module_version": "1.2.0",
            "_view_name": "StyleView",
            "description_width": ""
          }
        },
        "7dc7141a64554149bbd094dc52fd84ea": {
          "model_module": "@jupyter-widgets/base",
          "model_name": "LayoutModel",
          "model_module_version": "1.2.0",
          "state": {
            "_model_module": "@jupyter-widgets/base",
            "_model_module_version": "1.2.0",
            "_model_name": "LayoutModel",
            "_view_count": null,
            "_view_module": "@jupyter-widgets/base",
            "_view_module_version": "1.2.0",
            "_view_name": "LayoutView",
            "align_content": null,
            "align_items": null,
            "align_self": null,
            "border": null,
            "bottom": null,
            "display": null,
            "flex": null,
            "flex_flow": null,
            "grid_area": null,
            "grid_auto_columns": null,
            "grid_auto_flow": null,
            "grid_auto_rows": null,
            "grid_column": null,
            "grid_gap": null,
            "grid_row": null,
            "grid_template_areas": null,
            "grid_template_columns": null,
            "grid_template_rows": null,
            "height": null,
            "justify_content": null,
            "justify_items": null,
            "left": null,
            "margin": null,
            "max_height": null,
            "max_width": null,
            "min_height": null,
            "min_width": null,
            "object_fit": null,
            "object_position": null,
            "order": null,
            "overflow": null,
            "overflow_x": null,
            "overflow_y": null,
            "padding": null,
            "right": null,
            "top": null,
            "visibility": null,
            "width": "20px"
          }
        },
        "9bf952349f8840de856d0fdbec06da90": {
          "model_module": "@jupyter-widgets/controls",
          "model_name": "ProgressStyleModel",
          "model_module_version": "1.5.0",
          "state": {
            "_model_module": "@jupyter-widgets/controls",
            "_model_module_version": "1.5.0",
            "_model_name": "ProgressStyleModel",
            "_view_count": null,
            "_view_module": "@jupyter-widgets/base",
            "_view_module_version": "1.2.0",
            "_view_name": "StyleView",
            "bar_color": null,
            "description_width": ""
          }
        },
        "9d7500484b224870a0f573bb2a46355f": {
          "model_module": "@jupyter-widgets/base",
          "model_name": "LayoutModel",
          "model_module_version": "1.2.0",
          "state": {
            "_model_module": "@jupyter-widgets/base",
            "_model_module_version": "1.2.0",
            "_model_name": "LayoutModel",
            "_view_count": null,
            "_view_module": "@jupyter-widgets/base",
            "_view_module_version": "1.2.0",
            "_view_name": "LayoutView",
            "align_content": null,
            "align_items": null,
            "align_self": null,
            "border": null,
            "bottom": null,
            "display": null,
            "flex": null,
            "flex_flow": null,
            "grid_area": null,
            "grid_auto_columns": null,
            "grid_auto_flow": null,
            "grid_auto_rows": null,
            "grid_column": null,
            "grid_gap": null,
            "grid_row": null,
            "grid_template_areas": null,
            "grid_template_columns": null,
            "grid_template_rows": null,
            "height": null,
            "justify_content": null,
            "justify_items": null,
            "left": null,
            "margin": null,
            "max_height": null,
            "max_width": null,
            "min_height": null,
            "min_width": null,
            "object_fit": null,
            "object_position": null,
            "order": null,
            "overflow": null,
            "overflow_x": null,
            "overflow_y": null,
            "padding": null,
            "right": null,
            "top": null,
            "visibility": null,
            "width": null
          }
        },
        "d8d8477db0e24349b8aa996050189bb0": {
          "model_module": "@jupyter-widgets/controls",
          "model_name": "DescriptionStyleModel",
          "model_module_version": "1.5.0",
          "state": {
            "_model_module": "@jupyter-widgets/controls",
            "_model_module_version": "1.5.0",
            "_model_name": "DescriptionStyleModel",
            "_view_count": null,
            "_view_module": "@jupyter-widgets/base",
            "_view_module_version": "1.2.0",
            "_view_name": "StyleView",
            "description_width": ""
          }
        },
        "de94aac8f6974b18bbbee4bbd0bb52f0": {
          "model_module": "@jupyter-widgets/controls",
          "model_name": "HBoxModel",
          "model_module_version": "1.5.0",
          "state": {
            "_dom_classes": [],
            "_model_module": "@jupyter-widgets/controls",
            "_model_module_version": "1.5.0",
            "_model_name": "HBoxModel",
            "_view_count": null,
            "_view_module": "@jupyter-widgets/controls",
            "_view_module_version": "1.5.0",
            "_view_name": "HBoxView",
            "box_style": "",
            "children": [
              "IPY_MODEL_bb23701feea448638cdc16330ffc8cc7",
              "IPY_MODEL_21f9d7072ead4f8b8d2acb3ca37d5d7f",
              "IPY_MODEL_e1774a789058466e90c35a8fd9e8ce89"
            ],
            "layout": "IPY_MODEL_6fe82559d700434a91ee415c8e1d59c1"
          }
        },
        "bb23701feea448638cdc16330ffc8cc7": {
          "model_module": "@jupyter-widgets/controls",
          "model_name": "HTMLModel",
          "model_module_version": "1.5.0",
          "state": {
            "_dom_classes": [],
            "_model_module": "@jupyter-widgets/controls",
            "_model_module_version": "1.5.0",
            "_model_name": "HTMLModel",
            "_view_count": null,
            "_view_module": "@jupyter-widgets/controls",
            "_view_module_version": "1.5.0",
            "_view_name": "HTMLView",
            "description": "",
            "description_tooltip": null,
            "layout": "IPY_MODEL_07aa1884910d4ecd93871989f409ab4e",
            "placeholder": "​",
            "style": "IPY_MODEL_82b186e805114b189c2717647707f57f",
            "value": ""
          }
        },
        "21f9d7072ead4f8b8d2acb3ca37d5d7f": {
          "model_module": "@jupyter-widgets/controls",
          "model_name": "FloatProgressModel",
          "model_module_version": "1.5.0",
          "state": {
            "_dom_classes": [],
            "_model_module": "@jupyter-widgets/controls",
            "_model_module_version": "1.5.0",
            "_model_name": "FloatProgressModel",
            "_view_count": null,
            "_view_module": "@jupyter-widgets/controls",
            "_view_module_version": "1.5.0",
            "_view_name": "ProgressView",
            "bar_style": "success",
            "description": "",
            "description_tooltip": null,
            "layout": "IPY_MODEL_08c7cdab88004ea987eef73d4805b807",
            "max": 1,
            "min": 0,
            "orientation": "horizontal",
            "style": "IPY_MODEL_edb4566d478e4b48b3fd76958665fe0b",
            "value": 1
          }
        },
        "e1774a789058466e90c35a8fd9e8ce89": {
          "model_module": "@jupyter-widgets/controls",
          "model_name": "HTMLModel",
          "model_module_version": "1.5.0",
          "state": {
            "_dom_classes": [],
            "_model_module": "@jupyter-widgets/controls",
            "_model_module_version": "1.5.0",
            "_model_name": "HTMLModel",
            "_view_count": null,
            "_view_module": "@jupyter-widgets/controls",
            "_view_module_version": "1.5.0",
            "_view_name": "HTMLView",
            "description": "",
            "description_tooltip": null,
            "layout": "IPY_MODEL_ed06f8cda7224645ac59c4e3843b309d",
            "placeholder": "​",
            "style": "IPY_MODEL_7a31a1cc9fe64bc59a23ec091152a49a",
            "value": " 10/? [00:00&lt;00:00, 19.20it/s]"
          }
        },
        "6fe82559d700434a91ee415c8e1d59c1": {
          "model_module": "@jupyter-widgets/base",
          "model_name": "LayoutModel",
          "model_module_version": "1.2.0",
          "state": {
            "_model_module": "@jupyter-widgets/base",
            "_model_module_version": "1.2.0",
            "_model_name": "LayoutModel",
            "_view_count": null,
            "_view_module": "@jupyter-widgets/base",
            "_view_module_version": "1.2.0",
            "_view_name": "LayoutView",
            "align_content": null,
            "align_items": null,
            "align_self": null,
            "border": null,
            "bottom": null,
            "display": null,
            "flex": null,
            "flex_flow": null,
            "grid_area": null,
            "grid_auto_columns": null,
            "grid_auto_flow": null,
            "grid_auto_rows": null,
            "grid_column": null,
            "grid_gap": null,
            "grid_row": null,
            "grid_template_areas": null,
            "grid_template_columns": null,
            "grid_template_rows": null,
            "height": null,
            "justify_content": null,
            "justify_items": null,
            "left": null,
            "margin": null,
            "max_height": null,
            "max_width": null,
            "min_height": null,
            "min_width": null,
            "object_fit": null,
            "object_position": null,
            "order": null,
            "overflow": null,
            "overflow_x": null,
            "overflow_y": null,
            "padding": null,
            "right": null,
            "top": null,
            "visibility": null,
            "width": null
          }
        },
        "07aa1884910d4ecd93871989f409ab4e": {
          "model_module": "@jupyter-widgets/base",
          "model_name": "LayoutModel",
          "model_module_version": "1.2.0",
          "state": {
            "_model_module": "@jupyter-widgets/base",
            "_model_module_version": "1.2.0",
            "_model_name": "LayoutModel",
            "_view_count": null,
            "_view_module": "@jupyter-widgets/base",
            "_view_module_version": "1.2.0",
            "_view_name": "LayoutView",
            "align_content": null,
            "align_items": null,
            "align_self": null,
            "border": null,
            "bottom": null,
            "display": null,
            "flex": null,
            "flex_flow": null,
            "grid_area": null,
            "grid_auto_columns": null,
            "grid_auto_flow": null,
            "grid_auto_rows": null,
            "grid_column": null,
            "grid_gap": null,
            "grid_row": null,
            "grid_template_areas": null,
            "grid_template_columns": null,
            "grid_template_rows": null,
            "height": null,
            "justify_content": null,
            "justify_items": null,
            "left": null,
            "margin": null,
            "max_height": null,
            "max_width": null,
            "min_height": null,
            "min_width": null,
            "object_fit": null,
            "object_position": null,
            "order": null,
            "overflow": null,
            "overflow_x": null,
            "overflow_y": null,
            "padding": null,
            "right": null,
            "top": null,
            "visibility": null,
            "width": null
          }
        },
        "82b186e805114b189c2717647707f57f": {
          "model_module": "@jupyter-widgets/controls",
          "model_name": "DescriptionStyleModel",
          "model_module_version": "1.5.0",
          "state": {
            "_model_module": "@jupyter-widgets/controls",
            "_model_module_version": "1.5.0",
            "_model_name": "DescriptionStyleModel",
            "_view_count": null,
            "_view_module": "@jupyter-widgets/base",
            "_view_module_version": "1.2.0",
            "_view_name": "StyleView",
            "description_width": ""
          }
        },
        "08c7cdab88004ea987eef73d4805b807": {
          "model_module": "@jupyter-widgets/base",
          "model_name": "LayoutModel",
          "model_module_version": "1.2.0",
          "state": {
            "_model_module": "@jupyter-widgets/base",
            "_model_module_version": "1.2.0",
            "_model_name": "LayoutModel",
            "_view_count": null,
            "_view_module": "@jupyter-widgets/base",
            "_view_module_version": "1.2.0",
            "_view_name": "LayoutView",
            "align_content": null,
            "align_items": null,
            "align_self": null,
            "border": null,
            "bottom": null,
            "display": null,
            "flex": null,
            "flex_flow": null,
            "grid_area": null,
            "grid_auto_columns": null,
            "grid_auto_flow": null,
            "grid_auto_rows": null,
            "grid_column": null,
            "grid_gap": null,
            "grid_row": null,
            "grid_template_areas": null,
            "grid_template_columns": null,
            "grid_template_rows": null,
            "height": null,
            "justify_content": null,
            "justify_items": null,
            "left": null,
            "margin": null,
            "max_height": null,
            "max_width": null,
            "min_height": null,
            "min_width": null,
            "object_fit": null,
            "object_position": null,
            "order": null,
            "overflow": null,
            "overflow_x": null,
            "overflow_y": null,
            "padding": null,
            "right": null,
            "top": null,
            "visibility": null,
            "width": "20px"
          }
        },
        "edb4566d478e4b48b3fd76958665fe0b": {
          "model_module": "@jupyter-widgets/controls",
          "model_name": "ProgressStyleModel",
          "model_module_version": "1.5.0",
          "state": {
            "_model_module": "@jupyter-widgets/controls",
            "_model_module_version": "1.5.0",
            "_model_name": "ProgressStyleModel",
            "_view_count": null,
            "_view_module": "@jupyter-widgets/base",
            "_view_module_version": "1.2.0",
            "_view_name": "StyleView",
            "bar_color": null,
            "description_width": ""
          }
        },
        "ed06f8cda7224645ac59c4e3843b309d": {
          "model_module": "@jupyter-widgets/base",
          "model_name": "LayoutModel",
          "model_module_version": "1.2.0",
          "state": {
            "_model_module": "@jupyter-widgets/base",
            "_model_module_version": "1.2.0",
            "_model_name": "LayoutModel",
            "_view_count": null,
            "_view_module": "@jupyter-widgets/base",
            "_view_module_version": "1.2.0",
            "_view_name": "LayoutView",
            "align_content": null,
            "align_items": null,
            "align_self": null,
            "border": null,
            "bottom": null,
            "display": null,
            "flex": null,
            "flex_flow": null,
            "grid_area": null,
            "grid_auto_columns": null,
            "grid_auto_flow": null,
            "grid_auto_rows": null,
            "grid_column": null,
            "grid_gap": null,
            "grid_row": null,
            "grid_template_areas": null,
            "grid_template_columns": null,
            "grid_template_rows": null,
            "height": null,
            "justify_content": null,
            "justify_items": null,
            "left": null,
            "margin": null,
            "max_height": null,
            "max_width": null,
            "min_height": null,
            "min_width": null,
            "object_fit": null,
            "object_position": null,
            "order": null,
            "overflow": null,
            "overflow_x": null,
            "overflow_y": null,
            "padding": null,
            "right": null,
            "top": null,
            "visibility": null,
            "width": null
          }
        },
        "7a31a1cc9fe64bc59a23ec091152a49a": {
          "model_module": "@jupyter-widgets/controls",
          "model_name": "DescriptionStyleModel",
          "model_module_version": "1.5.0",
          "state": {
            "_model_module": "@jupyter-widgets/controls",
            "_model_module_version": "1.5.0",
            "_model_name": "DescriptionStyleModel",
            "_view_count": null,
            "_view_module": "@jupyter-widgets/base",
            "_view_module_version": "1.2.0",
            "_view_name": "StyleView",
            "description_width": ""
          }
        },
        "14a07f38de754c82aaae16c65b13bc5d": {
          "model_module": "@jupyter-widgets/controls",
          "model_name": "HBoxModel",
          "model_module_version": "1.5.0",
          "state": {
            "_dom_classes": [],
            "_model_module": "@jupyter-widgets/controls",
            "_model_module_version": "1.5.0",
            "_model_name": "HBoxModel",
            "_view_count": null,
            "_view_module": "@jupyter-widgets/controls",
            "_view_module_version": "1.5.0",
            "_view_name": "HBoxView",
            "box_style": "",
            "children": [
              "IPY_MODEL_98635bbcff124609bfc27b0fdcc4f8d1",
              "IPY_MODEL_a2904c2f20df4e23b4f0a1996f470878",
              "IPY_MODEL_a5738b9ed438425f9b6210409301affd"
            ],
            "layout": "IPY_MODEL_2306f694cd1f4927862adfc0988720d1"
          }
        },
        "98635bbcff124609bfc27b0fdcc4f8d1": {
          "model_module": "@jupyter-widgets/controls",
          "model_name": "HTMLModel",
          "model_module_version": "1.5.0",
          "state": {
            "_dom_classes": [],
            "_model_module": "@jupyter-widgets/controls",
            "_model_module_version": "1.5.0",
            "_model_name": "HTMLModel",
            "_view_count": null,
            "_view_module": "@jupyter-widgets/controls",
            "_view_module_version": "1.5.0",
            "_view_name": "HTMLView",
            "description": "",
            "description_tooltip": null,
            "layout": "IPY_MODEL_97d3778e694b43e89563fe8dda55e432",
            "placeholder": "​",
            "style": "IPY_MODEL_5e121390f1d4436aaf9f86ea6e209735",
            "value": ""
          }
        },
        "a2904c2f20df4e23b4f0a1996f470878": {
          "model_module": "@jupyter-widgets/controls",
          "model_name": "FloatProgressModel",
          "model_module_version": "1.5.0",
          "state": {
            "_dom_classes": [],
            "_model_module": "@jupyter-widgets/controls",
            "_model_module_version": "1.5.0",
            "_model_name": "FloatProgressModel",
            "_view_count": null,
            "_view_module": "@jupyter-widgets/controls",
            "_view_module_version": "1.5.0",
            "_view_name": "ProgressView",
            "bar_style": "success",
            "description": "",
            "description_tooltip": null,
            "layout": "IPY_MODEL_f6e1b8327c534a2ea6afe3991bdde254",
            "max": 1,
            "min": 0,
            "orientation": "horizontal",
            "style": "IPY_MODEL_df5045269b6b49c996dfe05956ca589c",
            "value": 1
          }
        },
        "a5738b9ed438425f9b6210409301affd": {
          "model_module": "@jupyter-widgets/controls",
          "model_name": "HTMLModel",
          "model_module_version": "1.5.0",
          "state": {
            "_dom_classes": [],
            "_model_module": "@jupyter-widgets/controls",
            "_model_module_version": "1.5.0",
            "_model_name": "HTMLModel",
            "_view_count": null,
            "_view_module": "@jupyter-widgets/controls",
            "_view_module_version": "1.5.0",
            "_view_name": "HTMLView",
            "description": "",
            "description_tooltip": null,
            "layout": "IPY_MODEL_09aa9f33f18045f89f355dbe7c6c2712",
            "placeholder": "​",
            "style": "IPY_MODEL_b8f60fc2ddac49e7b34cdc7c44640487",
            "value": " 20/? [00:00&lt;00:00, 58.99it/s]"
          }
        },
        "2306f694cd1f4927862adfc0988720d1": {
          "model_module": "@jupyter-widgets/base",
          "model_name": "LayoutModel",
          "model_module_version": "1.2.0",
          "state": {
            "_model_module": "@jupyter-widgets/base",
            "_model_module_version": "1.2.0",
            "_model_name": "LayoutModel",
            "_view_count": null,
            "_view_module": "@jupyter-widgets/base",
            "_view_module_version": "1.2.0",
            "_view_name": "LayoutView",
            "align_content": null,
            "align_items": null,
            "align_self": null,
            "border": null,
            "bottom": null,
            "display": null,
            "flex": null,
            "flex_flow": null,
            "grid_area": null,
            "grid_auto_columns": null,
            "grid_auto_flow": null,
            "grid_auto_rows": null,
            "grid_column": null,
            "grid_gap": null,
            "grid_row": null,
            "grid_template_areas": null,
            "grid_template_columns": null,
            "grid_template_rows": null,
            "height": null,
            "justify_content": null,
            "justify_items": null,
            "left": null,
            "margin": null,
            "max_height": null,
            "max_width": null,
            "min_height": null,
            "min_width": null,
            "object_fit": null,
            "object_position": null,
            "order": null,
            "overflow": null,
            "overflow_x": null,
            "overflow_y": null,
            "padding": null,
            "right": null,
            "top": null,
            "visibility": null,
            "width": null
          }
        },
        "97d3778e694b43e89563fe8dda55e432": {
          "model_module": "@jupyter-widgets/base",
          "model_name": "LayoutModel",
          "model_module_version": "1.2.0",
          "state": {
            "_model_module": "@jupyter-widgets/base",
            "_model_module_version": "1.2.0",
            "_model_name": "LayoutModel",
            "_view_count": null,
            "_view_module": "@jupyter-widgets/base",
            "_view_module_version": "1.2.0",
            "_view_name": "LayoutView",
            "align_content": null,
            "align_items": null,
            "align_self": null,
            "border": null,
            "bottom": null,
            "display": null,
            "flex": null,
            "flex_flow": null,
            "grid_area": null,
            "grid_auto_columns": null,
            "grid_auto_flow": null,
            "grid_auto_rows": null,
            "grid_column": null,
            "grid_gap": null,
            "grid_row": null,
            "grid_template_areas": null,
            "grid_template_columns": null,
            "grid_template_rows": null,
            "height": null,
            "justify_content": null,
            "justify_items": null,
            "left": null,
            "margin": null,
            "max_height": null,
            "max_width": null,
            "min_height": null,
            "min_width": null,
            "object_fit": null,
            "object_position": null,
            "order": null,
            "overflow": null,
            "overflow_x": null,
            "overflow_y": null,
            "padding": null,
            "right": null,
            "top": null,
            "visibility": null,
            "width": null
          }
        },
        "5e121390f1d4436aaf9f86ea6e209735": {
          "model_module": "@jupyter-widgets/controls",
          "model_name": "DescriptionStyleModel",
          "model_module_version": "1.5.0",
          "state": {
            "_model_module": "@jupyter-widgets/controls",
            "_model_module_version": "1.5.0",
            "_model_name": "DescriptionStyleModel",
            "_view_count": null,
            "_view_module": "@jupyter-widgets/base",
            "_view_module_version": "1.2.0",
            "_view_name": "StyleView",
            "description_width": ""
          }
        },
        "f6e1b8327c534a2ea6afe3991bdde254": {
          "model_module": "@jupyter-widgets/base",
          "model_name": "LayoutModel",
          "model_module_version": "1.2.0",
          "state": {
            "_model_module": "@jupyter-widgets/base",
            "_model_module_version": "1.2.0",
            "_model_name": "LayoutModel",
            "_view_count": null,
            "_view_module": "@jupyter-widgets/base",
            "_view_module_version": "1.2.0",
            "_view_name": "LayoutView",
            "align_content": null,
            "align_items": null,
            "align_self": null,
            "border": null,
            "bottom": null,
            "display": null,
            "flex": null,
            "flex_flow": null,
            "grid_area": null,
            "grid_auto_columns": null,
            "grid_auto_flow": null,
            "grid_auto_rows": null,
            "grid_column": null,
            "grid_gap": null,
            "grid_row": null,
            "grid_template_areas": null,
            "grid_template_columns": null,
            "grid_template_rows": null,
            "height": null,
            "justify_content": null,
            "justify_items": null,
            "left": null,
            "margin": null,
            "max_height": null,
            "max_width": null,
            "min_height": null,
            "min_width": null,
            "object_fit": null,
            "object_position": null,
            "order": null,
            "overflow": null,
            "overflow_x": null,
            "overflow_y": null,
            "padding": null,
            "right": null,
            "top": null,
            "visibility": null,
            "width": "20px"
          }
        },
        "df5045269b6b49c996dfe05956ca589c": {
          "model_module": "@jupyter-widgets/controls",
          "model_name": "ProgressStyleModel",
          "model_module_version": "1.5.0",
          "state": {
            "_model_module": "@jupyter-widgets/controls",
            "_model_module_version": "1.5.0",
            "_model_name": "ProgressStyleModel",
            "_view_count": null,
            "_view_module": "@jupyter-widgets/base",
            "_view_module_version": "1.2.0",
            "_view_name": "StyleView",
            "bar_color": null,
            "description_width": ""
          }
        },
        "09aa9f33f18045f89f355dbe7c6c2712": {
          "model_module": "@jupyter-widgets/base",
          "model_name": "LayoutModel",
          "model_module_version": "1.2.0",
          "state": {
            "_model_module": "@jupyter-widgets/base",
            "_model_module_version": "1.2.0",
            "_model_name": "LayoutModel",
            "_view_count": null,
            "_view_module": "@jupyter-widgets/base",
            "_view_module_version": "1.2.0",
            "_view_name": "LayoutView",
            "align_content": null,
            "align_items": null,
            "align_self": null,
            "border": null,
            "bottom": null,
            "display": null,
            "flex": null,
            "flex_flow": null,
            "grid_area": null,
            "grid_auto_columns": null,
            "grid_auto_flow": null,
            "grid_auto_rows": null,
            "grid_column": null,
            "grid_gap": null,
            "grid_row": null,
            "grid_template_areas": null,
            "grid_template_columns": null,
            "grid_template_rows": null,
            "height": null,
            "justify_content": null,
            "justify_items": null,
            "left": null,
            "margin": null,
            "max_height": null,
            "max_width": null,
            "min_height": null,
            "min_width": null,
            "object_fit": null,
            "object_position": null,
            "order": null,
            "overflow": null,
            "overflow_x": null,
            "overflow_y": null,
            "padding": null,
            "right": null,
            "top": null,
            "visibility": null,
            "width": null
          }
        },
        "b8f60fc2ddac49e7b34cdc7c44640487": {
          "model_module": "@jupyter-widgets/controls",
          "model_name": "DescriptionStyleModel",
          "model_module_version": "1.5.0",
          "state": {
            "_model_module": "@jupyter-widgets/controls",
            "_model_module_version": "1.5.0",
            "_model_name": "DescriptionStyleModel",
            "_view_count": null,
            "_view_module": "@jupyter-widgets/base",
            "_view_module_version": "1.2.0",
            "_view_name": "StyleView",
            "description_width": ""
          }
        },
        "8006a69d7b3949ffbec974bfb996985d": {
          "model_module": "@jupyter-widgets/controls",
          "model_name": "HBoxModel",
          "model_module_version": "1.5.0",
          "state": {
            "_dom_classes": [],
            "_model_module": "@jupyter-widgets/controls",
            "_model_module_version": "1.5.0",
            "_model_name": "HBoxModel",
            "_view_count": null,
            "_view_module": "@jupyter-widgets/controls",
            "_view_module_version": "1.5.0",
            "_view_name": "HBoxView",
            "box_style": "",
            "children": [
              "IPY_MODEL_38d00afb87f24aa8a2ffcc42694ce7fb",
              "IPY_MODEL_3cac805c04874785a4a52261cc5c8891",
              "IPY_MODEL_980f10943cdd41bdbca2428f6d96b9ec"
            ],
            "layout": "IPY_MODEL_915b8874aad14e68915d92974b9a4ef2"
          }
        },
        "38d00afb87f24aa8a2ffcc42694ce7fb": {
          "model_module": "@jupyter-widgets/controls",
          "model_name": "HTMLModel",
          "model_module_version": "1.5.0",
          "state": {
            "_dom_classes": [],
            "_model_module": "@jupyter-widgets/controls",
            "_model_module_version": "1.5.0",
            "_model_name": "HTMLModel",
            "_view_count": null,
            "_view_module": "@jupyter-widgets/controls",
            "_view_module_version": "1.5.0",
            "_view_name": "HTMLView",
            "description": "",
            "description_tooltip": null,
            "layout": "IPY_MODEL_9d2c7ed601df46d385054ac0ebe0a395",
            "placeholder": "​",
            "style": "IPY_MODEL_757913ebe6294badb71918a7bcdf92dd",
            "value": ""
          }
        },
        "3cac805c04874785a4a52261cc5c8891": {
          "model_module": "@jupyter-widgets/controls",
          "model_name": "FloatProgressModel",
          "model_module_version": "1.5.0",
          "state": {
            "_dom_classes": [],
            "_model_module": "@jupyter-widgets/controls",
            "_model_module_version": "1.5.0",
            "_model_name": "FloatProgressModel",
            "_view_count": null,
            "_view_module": "@jupyter-widgets/controls",
            "_view_module_version": "1.5.0",
            "_view_name": "ProgressView",
            "bar_style": "success",
            "description": "",
            "description_tooltip": null,
            "layout": "IPY_MODEL_2ca9ee24d9b44698a01a8f87e6d47e32",
            "max": 1,
            "min": 0,
            "orientation": "horizontal",
            "style": "IPY_MODEL_0478db2982af4ac186bb2ee5914aac4e",
            "value": 1
          }
        },
        "980f10943cdd41bdbca2428f6d96b9ec": {
          "model_module": "@jupyter-widgets/controls",
          "model_name": "HTMLModel",
          "model_module_version": "1.5.0",
          "state": {
            "_dom_classes": [],
            "_model_module": "@jupyter-widgets/controls",
            "_model_module_version": "1.5.0",
            "_model_name": "HTMLModel",
            "_view_count": null,
            "_view_module": "@jupyter-widgets/controls",
            "_view_module_version": "1.5.0",
            "_view_name": "HTMLView",
            "description": "",
            "description_tooltip": null,
            "layout": "IPY_MODEL_7024240569624b9ca84d27a4ccc12291",
            "placeholder": "​",
            "style": "IPY_MODEL_c007bdf7f637497cbc0977024d215f1c",
            "value": " 20/? [00:00&lt;00:00, 89.31it/s]"
          }
        },
        "915b8874aad14e68915d92974b9a4ef2": {
          "model_module": "@jupyter-widgets/base",
          "model_name": "LayoutModel",
          "model_module_version": "1.2.0",
          "state": {
            "_model_module": "@jupyter-widgets/base",
            "_model_module_version": "1.2.0",
            "_model_name": "LayoutModel",
            "_view_count": null,
            "_view_module": "@jupyter-widgets/base",
            "_view_module_version": "1.2.0",
            "_view_name": "LayoutView",
            "align_content": null,
            "align_items": null,
            "align_self": null,
            "border": null,
            "bottom": null,
            "display": null,
            "flex": null,
            "flex_flow": null,
            "grid_area": null,
            "grid_auto_columns": null,
            "grid_auto_flow": null,
            "grid_auto_rows": null,
            "grid_column": null,
            "grid_gap": null,
            "grid_row": null,
            "grid_template_areas": null,
            "grid_template_columns": null,
            "grid_template_rows": null,
            "height": null,
            "justify_content": null,
            "justify_items": null,
            "left": null,
            "margin": null,
            "max_height": null,
            "max_width": null,
            "min_height": null,
            "min_width": null,
            "object_fit": null,
            "object_position": null,
            "order": null,
            "overflow": null,
            "overflow_x": null,
            "overflow_y": null,
            "padding": null,
            "right": null,
            "top": null,
            "visibility": null,
            "width": null
          }
        },
        "9d2c7ed601df46d385054ac0ebe0a395": {
          "model_module": "@jupyter-widgets/base",
          "model_name": "LayoutModel",
          "model_module_version": "1.2.0",
          "state": {
            "_model_module": "@jupyter-widgets/base",
            "_model_module_version": "1.2.0",
            "_model_name": "LayoutModel",
            "_view_count": null,
            "_view_module": "@jupyter-widgets/base",
            "_view_module_version": "1.2.0",
            "_view_name": "LayoutView",
            "align_content": null,
            "align_items": null,
            "align_self": null,
            "border": null,
            "bottom": null,
            "display": null,
            "flex": null,
            "flex_flow": null,
            "grid_area": null,
            "grid_auto_columns": null,
            "grid_auto_flow": null,
            "grid_auto_rows": null,
            "grid_column": null,
            "grid_gap": null,
            "grid_row": null,
            "grid_template_areas": null,
            "grid_template_columns": null,
            "grid_template_rows": null,
            "height": null,
            "justify_content": null,
            "justify_items": null,
            "left": null,
            "margin": null,
            "max_height": null,
            "max_width": null,
            "min_height": null,
            "min_width": null,
            "object_fit": null,
            "object_position": null,
            "order": null,
            "overflow": null,
            "overflow_x": null,
            "overflow_y": null,
            "padding": null,
            "right": null,
            "top": null,
            "visibility": null,
            "width": null
          }
        },
        "757913ebe6294badb71918a7bcdf92dd": {
          "model_module": "@jupyter-widgets/controls",
          "model_name": "DescriptionStyleModel",
          "model_module_version": "1.5.0",
          "state": {
            "_model_module": "@jupyter-widgets/controls",
            "_model_module_version": "1.5.0",
            "_model_name": "DescriptionStyleModel",
            "_view_count": null,
            "_view_module": "@jupyter-widgets/base",
            "_view_module_version": "1.2.0",
            "_view_name": "StyleView",
            "description_width": ""
          }
        },
        "2ca9ee24d9b44698a01a8f87e6d47e32": {
          "model_module": "@jupyter-widgets/base",
          "model_name": "LayoutModel",
          "model_module_version": "1.2.0",
          "state": {
            "_model_module": "@jupyter-widgets/base",
            "_model_module_version": "1.2.0",
            "_model_name": "LayoutModel",
            "_view_count": null,
            "_view_module": "@jupyter-widgets/base",
            "_view_module_version": "1.2.0",
            "_view_name": "LayoutView",
            "align_content": null,
            "align_items": null,
            "align_self": null,
            "border": null,
            "bottom": null,
            "display": null,
            "flex": null,
            "flex_flow": null,
            "grid_area": null,
            "grid_auto_columns": null,
            "grid_auto_flow": null,
            "grid_auto_rows": null,
            "grid_column": null,
            "grid_gap": null,
            "grid_row": null,
            "grid_template_areas": null,
            "grid_template_columns": null,
            "grid_template_rows": null,
            "height": null,
            "justify_content": null,
            "justify_items": null,
            "left": null,
            "margin": null,
            "max_height": null,
            "max_width": null,
            "min_height": null,
            "min_width": null,
            "object_fit": null,
            "object_position": null,
            "order": null,
            "overflow": null,
            "overflow_x": null,
            "overflow_y": null,
            "padding": null,
            "right": null,
            "top": null,
            "visibility": null,
            "width": "20px"
          }
        },
        "0478db2982af4ac186bb2ee5914aac4e": {
          "model_module": "@jupyter-widgets/controls",
          "model_name": "ProgressStyleModel",
          "model_module_version": "1.5.0",
          "state": {
            "_model_module": "@jupyter-widgets/controls",
            "_model_module_version": "1.5.0",
            "_model_name": "ProgressStyleModel",
            "_view_count": null,
            "_view_module": "@jupyter-widgets/base",
            "_view_module_version": "1.2.0",
            "_view_name": "StyleView",
            "bar_color": null,
            "description_width": ""
          }
        },
        "7024240569624b9ca84d27a4ccc12291": {
          "model_module": "@jupyter-widgets/base",
          "model_name": "LayoutModel",
          "model_module_version": "1.2.0",
          "state": {
            "_model_module": "@jupyter-widgets/base",
            "_model_module_version": "1.2.0",
            "_model_name": "LayoutModel",
            "_view_count": null,
            "_view_module": "@jupyter-widgets/base",
            "_view_module_version": "1.2.0",
            "_view_name": "LayoutView",
            "align_content": null,
            "align_items": null,
            "align_self": null,
            "border": null,
            "bottom": null,
            "display": null,
            "flex": null,
            "flex_flow": null,
            "grid_area": null,
            "grid_auto_columns": null,
            "grid_auto_flow": null,
            "grid_auto_rows": null,
            "grid_column": null,
            "grid_gap": null,
            "grid_row": null,
            "grid_template_areas": null,
            "grid_template_columns": null,
            "grid_template_rows": null,
            "height": null,
            "justify_content": null,
            "justify_items": null,
            "left": null,
            "margin": null,
            "max_height": null,
            "max_width": null,
            "min_height": null,
            "min_width": null,
            "object_fit": null,
            "object_position": null,
            "order": null,
            "overflow": null,
            "overflow_x": null,
            "overflow_y": null,
            "padding": null,
            "right": null,
            "top": null,
            "visibility": null,
            "width": null
          }
        },
        "c007bdf7f637497cbc0977024d215f1c": {
          "model_module": "@jupyter-widgets/controls",
          "model_name": "DescriptionStyleModel",
          "model_module_version": "1.5.0",
          "state": {
            "_model_module": "@jupyter-widgets/controls",
            "_model_module_version": "1.5.0",
            "_model_name": "DescriptionStyleModel",
            "_view_count": null,
            "_view_module": "@jupyter-widgets/base",
            "_view_module_version": "1.2.0",
            "_view_name": "StyleView",
            "description_width": ""
          }
        }
      }
    }
  },
  "cells": [
    {
      "cell_type": "markdown",
      "metadata": {
        "id": "elK2Q3YHALZc"
      },
      "source": [
        "# Практика №2\n",
        "\n",
        "На прошлой практике мы реализовали DTW алгоритм. Он очень хорош и вроде как даже где-то применяется. Но у него есть существенные недостатки:\n",
        "\n",
        "1) Для распознавания какого-либо слова необходимо иметь заранее подготовленные эталонные записи. Из этого вытекает проблема масштабирования системы с большим словарем.<br>\n",
        "2) Подобная система имеет плохую устойчивость к шумам.<br>\n",
        "3) По какому принципу вибирать нужные эталоны?<br>\n",
        "4) Сколько должно быть таких эталонов, чтобы покрыть всю вариативность произнесеней?<br>\n",
        "5) Чем больше эталонов, тем алгоритм вычислительнозатратен.<br>\n",
        "\n",
        "В этом уроке мы перейдем от DTW к распознаванию по эталонному словарю. \n",
        "\n",
        "Эталон в графе теперь будет задаваться как последовательность фонем из словаря. Словарь для YES_NO (data/lexicon_yes_no.txt) выглядит следующим образом:\n",
        "\n",
        "<b>YES</b>  SIL Y EH1 S SIL<br>\n",
        "<b>NO</b>  SIL N OW1 SIL<br>\n",
        "\n",
        "Словарь для цифр (data/lexicon_digits.txt):\n",
        "\n",
        "<b>ZERO</b>  SIL Z IH1 R OW0 SIL<br>\n",
        "<b>ZERO</b>  SIL Z IY1 R OW0 SIL<br>\n",
        "<b>ONE</b>  SIL W AH1 N SIL<br>\n",
        "<b>ONE</b>  SIL HH W AH1 N SIL<br>\n",
        "<b>TWO</b>  SIL T UW1 SIL<br>\n",
        "<b>THREE</b>  SIL TH R IY1 SIL<br>\n",
        "<b>FOUR</b>  SIL F AO1 R SIL<br>\n",
        "<b>FIVE</b>  SIL F AY1 V SIL<br>\n",
        "<b>SIX</b>  SIL S IH1 K S SIL<br>\n",
        "<b>SEVEN</b>  SIL S EH1 V AH0 N SIL<br>\n",
        "<b>EIGHT</b>  SIL EY1 T SIL<br>\n",
        "<b>NINE</b>  SIL N AY1 N SIL<br>\n",
        "\n",
        "SIL здесь – это фонема паузы.\n",
        "Как вы возможно заметили, для некторых слов имеется несколько вариантов фонемной транскрипции. Это позволяет лучше учесть фонетическое разнообразие в произнесении некоторых слов.\n",
        "\n",
        "Каждой фонеме будет сопоставлен наиболее типичный для нее вектор признаков. В данном случае мы будем использовать среднее значение вектора признаков фонем, взятых из обучающего набора. Будем называть это акустической моделью."
      ]
    },
    {
      "cell_type": "markdown",
      "metadata": {
        "id": "PjAjWp16ALjb"
      },
      "source": [
        "### Данные для обучения\n",
        "\n",
        "Наша задача собрать статистику акустических признаков по каждой фонеме, находящейся в графе распознавания. В качестве обучающей выборки мы будем использовать подмножество данных librispeech (аудиозаписи чтения книг на английском). Для этого предварительно мной была получена покадровая разметка этого подмножества на фонемы. Схематично данный процесс представлен на картинке ниже:\n",
        "\n",
        "![](https://drive.google.com/uc?export=view&id=16PdwggV_Cl6aaD4cu1MZ-fKzWzAvcFVw)\n",
        "\n",
        "Файл разметки (ali_phones.txt) представлен в формате:\n",
        "\n",
        "<b>filename1 phone_frame1 phone_frame2 phone_frame3 ...<br>\n",
        "   filename2 phone_frame1 phone_frame2 phone_frame3 ...</b> \n",
        "   \n",
        "Пример такой покадровой фонемной разметки одного файла с текстом \"<b>MUCH COULD BE DONE IN THREE YEARS</b>\" представлен ниже:\n",
        "\n",
        "<b>1183-124566-0003 SIL SIL SIL SIL SIL SIL SIL SIL SIL SIL SIL SIL SIL SIL SIL SIL M M M M M M M M M AH1 AH1 AH1 AH1 AH1 AH1 AH1 AH1 AH1 CH CH CH CH CH CH CH CH CH CH CH K K K K\n",
        "K K K K K UH1 UH1 UH1 UH1 D D D D D B B B B B B IY0 IY0 IY0 IY0 IY0 D D D D D D D D D D D D AH1 AH1 AH1 AH1 AH1 AH1 AH1 AH1 AH1 AH1 AH1 AH1 AH1 AH1 AH1 AH1 AH1 AH1 AH1 AH1 N N\n",
        "N N N N N N N N N N N N N SIL SIL SIL SIL SIL SIL SIL SIL SIL SIL SIL SIL SIL SIL SIL SIL SIL SIL SIL SIL SIL SIL SIL SIL SIL SIL SIL SIL SIL SIL SIL SIL SIL SIL SIL SIL SIL SI\n",
        "L SIL SIL SIL SIL SIL SIL SIL SIL IH1 IH1 IH1 IH1 IH1 IH1 IH1 IH1 IH1 IH1 IH1 N N N N N N N N N N SIL SIL SIL SIL SIL TH TH TH TH TH TH TH TH TH TH TH TH TH R R R R R R IY1 IY1\n",
        " IY1 IY1 IY1 IY1 IY1 Y Y Y Y Y Y Y Y Y Y Y Y Y Y Y Y Y Y IH1 IH1 IH1 IH1 IH1 IH1 IH1 IH1 R R R R R R R R R R R R R R R Z Z Z Z Z Z Z Z Z Z Z Z Z Z Z Z Z Z Z Z SIL SIL SIL SIL</b>\n",
        " \n",
        "Аудио файлы этих данных лежат в папке \"data/train_librispeech_10h/wav_dir\""
      ]
    },
    {
      "cell_type": "markdown",
      "metadata": {
        "id": "3aDoHq5vA3BE"
      },
      "source": [
        "### Bootstrap"
      ]
    },
    {
      "cell_type": "code",
      "metadata": {
        "id": "p-aUbl81_LC2",
        "colab": {
          "base_uri": "https://localhost:8080/"
        },
        "outputId": "9067561f-8cb5-4b81-fb55-ec0e82b8b3cc"
      },
      "source": [
        "!pip install --upgrade --no-cache-dir gdown\n",
        "\n",
        "!gdown --id '1meikF0XqBUnVZKoY3160MQ0R25lq-EMu'\n",
        "!gdown --id '1f0LkW6I3Q5CnOThuNFAJ9umgnb2eU4Ox'"
      ],
      "execution_count": 1,
      "outputs": [
        {
          "output_type": "stream",
          "name": "stdout",
          "text": [
            "Requirement already satisfied: gdown in /usr/local/lib/python3.7/dist-packages (4.4.0)\n",
            "Requirement already satisfied: requests[socks] in /usr/local/lib/python3.7/dist-packages (from gdown) (2.23.0)\n",
            "Requirement already satisfied: beautifulsoup4 in /usr/local/lib/python3.7/dist-packages (from gdown) (4.6.3)\n",
            "Requirement already satisfied: six in /usr/local/lib/python3.7/dist-packages (from gdown) (1.15.0)\n",
            "Requirement already satisfied: tqdm in /usr/local/lib/python3.7/dist-packages (from gdown) (4.64.0)\n",
            "Requirement already satisfied: filelock in /usr/local/lib/python3.7/dist-packages (from gdown) (3.6.0)\n",
            "Requirement already satisfied: certifi>=2017.4.17 in /usr/local/lib/python3.7/dist-packages (from requests[socks]->gdown) (2021.10.8)\n",
            "Requirement already satisfied: urllib3!=1.25.0,!=1.25.1,<1.26,>=1.21.1 in /usr/local/lib/python3.7/dist-packages (from requests[socks]->gdown) (1.24.3)\n",
            "Requirement already satisfied: chardet<4,>=3.0.2 in /usr/local/lib/python3.7/dist-packages (from requests[socks]->gdown) (3.0.4)\n",
            "Requirement already satisfied: idna<3,>=2.5 in /usr/local/lib/python3.7/dist-packages (from requests[socks]->gdown) (2.10)\n",
            "Requirement already satisfied: PySocks!=1.5.7,>=1.5.6 in /usr/local/lib/python3.7/dist-packages (from requests[socks]->gdown) (1.7.1)\n",
            "/usr/local/lib/python3.7/dist-packages/gdown/cli.py:131: FutureWarning: Option `--id` was deprecated in version 4.3.1 and will be removed in 5.0. You don't need to pass it anymore to use a file ID.\n",
            "  category=FutureWarning,\n",
            "Downloading...\n",
            "From: https://drive.google.com/uc?id=1meikF0XqBUnVZKoY3160MQ0R25lq-EMu\n",
            "To: /content/lab2.zip\n",
            "100% 1.66M/1.66M [00:00<00:00, 88.1MB/s]\n",
            "/usr/local/lib/python3.7/dist-packages/gdown/cli.py:131: FutureWarning: Option `--id` was deprecated in version 4.3.1 and will be removed in 5.0. You don't need to pass it anymore to use a file ID.\n",
            "  category=FutureWarning,\n",
            "Downloading...\n",
            "From: https://drive.google.com/uc?id=1f0LkW6I3Q5CnOThuNFAJ9umgnb2eU4Ox\n",
            "To: /content/train_librispeech_10h.zip\n",
            "100% 679M/679M [00:06<00:00, 105MB/s]\n"
          ]
        }
      ]
    },
    {
      "cell_type": "code",
      "metadata": {
        "id": "NT6a5YIEBD9Y",
        "colab": {
          "base_uri": "https://localhost:8080/"
        },
        "outputId": "79b586a6-93f4-467b-c0da-1c1f95386ced"
      },
      "source": [
        "!unzip -q lab2.zip\n",
        "!unzip -q train_librispeech_10h.zip\n",
        "!mv train_librispeech_10h lab2/data\n",
        "!rm -rf lab2.zip sample_data train_librispeech_10h.zip\n",
        "%cd lab2"
      ],
      "execution_count": 2,
      "outputs": [
        {
          "output_type": "stream",
          "name": "stdout",
          "text": [
            "/content/lab2\n"
          ]
        }
      ]
    },
    {
      "cell_type": "code",
      "metadata": {
        "id": "bbuT2aOeEnFP"
      },
      "source": [
        "import os\n",
        "import numpy as np\n",
        "import time\n",
        "from tqdm.notebook import tqdm\n",
        "import matplotlib.pyplot as plt\n",
        "import IPython.display as ipd\n",
        "import librosa, librosa.display\n",
        "\n",
        "from sklearn.mixture import GaussianMixture\n",
        "from sklearn.manifold import TSNE\n",
        "\n",
        "%matplotlib inline\n",
        "plt.rcParams['figure.figsize'] = (15.0, 5.0)\n",
        "plt.rcParams['image.interpolation'] = 'nearest'\n",
        "plt.rcParams['image.cmap'] = 'gray'"
      ],
      "execution_count": 3,
      "outputs": []
    },
    {
      "cell_type": "code",
      "metadata": {
        "id": "yK0OtyHPEoH_",
        "colab": {
          "base_uri": "https://localhost:8080/",
          "height": 127
        },
        "outputId": "94f63a23-ad28-49df-e004-2005f47333b1"
      },
      "source": [
        "# рассмотрим пример такой записи:\n",
        "wav_example = 'data/train_librispeech_10h/wav_dir/1183-124566-0003.flac'\n",
        "\n",
        "# чтение wav файла:\n",
        "x, sr = librosa.load(wav_example, sr=None)     # sr=None to preserve the native sampling rate\n",
        "\n",
        "print(f'Number of samples: {len(x)}')\n",
        "print(f'Sampling rate: {sr} Hz')\n",
        "print(f'Duration: {len(x)/sr:.2f} s')  # ~ librosa.get_duration(x, sr)\n",
        "\n",
        "# воспроизведение:\n",
        "ipd.Audio(x, rate=sr)"
      ],
      "execution_count": 4,
      "outputs": [
        {
          "output_type": "stream",
          "name": "stdout",
          "text": [
            "Number of samples: 45680\n",
            "Sampling rate: 16000 Hz\n",
            "Duration: 2.85 s\n"
          ]
        },
        {
          "output_type": "execute_result",
          "data": {
            "text/plain": [
              "<IPython.lib.display.Audio object>"
            ],
            "text/html": [
              "\n",
              "                <audio controls=\"controls\" >\n",
              "                    <source src=\"data:audio/wav;base64,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\" type=\"audio/wav\" />\n",
              "                    Your browser does not support the audio element.\n",
              "                </audio>\n",
              "              "
            ]
          },
          "metadata": {},
          "execution_count": 4
        }
      ]
    },
    {
      "cell_type": "code",
      "metadata": {
        "id": "C2tGLWBmEssy",
        "colab": {
          "base_uri": "https://localhost:8080/",
          "height": 367
        },
        "outputId": "2a6c32ba-9314-4fe6-983e-d5eaa1ebfdd1"
      },
      "source": [
        "# спектрограмма:\n",
        "D = librosa.amplitude_to_db(np.abs(librosa.stft(x)), ref=np.max)\n",
        "plt.figure(figsize=(15,5))\n",
        "librosa.display.specshow(D, sr=sr, y_axis='hz', x_axis='time')\n",
        "plt.colorbar(format='%+2.0f dB')\n",
        "plt.title('Log-frequency power spectrogram')"
      ],
      "execution_count": 5,
      "outputs": [
        {
          "output_type": "execute_result",
          "data": {
            "text/plain": [
              "Text(0.5, 1.0, 'Log-frequency power spectrogram')"
            ]
          },
          "metadata": {},
          "execution_count": 5
        },
        {
          "output_type": "display_data",
          "data": {
            "text/plain": [
              "<Figure size 1080x360 with 2 Axes>"
            ],
            "image/png": "[encoded data removed]"
          },
          "metadata": {
            "needs_background": "light"
          }
        }
      ]
    },
    {
      "cell_type": "markdown",
      "metadata": {
        "id": "JXFxvv-_E8t8"
      },
      "source": [
        "### Подготовка данных"
      ]
    },
    {
      "cell_type": "code",
      "metadata": {
        "id": "Ku1F2BULE6Xe"
      },
      "source": [
        "# загрузка покадровой фонемной разметки в словарь:\n",
        "def load_phone_aligment(aligment_file):\n",
        "    ali_dict = {}\n",
        "    with open(aligment_file, encoding='utf-8') as fn:\n",
        "        for line in fn:\n",
        "            line = line.strip().split()\n",
        "            ali_dict[line[0]] = line[1:]\n",
        "    return ali_dict\n",
        "\n",
        "ali_file = 'data/train_librispeech_10h/ali_phones.txt'\n",
        "ali_dict = load_phone_aligment(ali_file)"
      ],
      "execution_count": 6,
      "outputs": []
    },
    {
      "cell_type": "code",
      "metadata": {
        "id": "3uAVnRPDE_MS",
        "colab": {
          "base_uri": "https://localhost:8080/",
          "height": 66,
          "referenced_widgets": [
            "e29510ab35f046d7a6e87bf52d6683f0",
            "e4d39dc3c8a840e6be8ee8a5046292b0",
            "3a330197c4fe4f02bb8c96c06677018c",
            "33efdf88ce9344d2ab7e12cf0fa4899c",
            "daa8d0c67c034de5b6cca4a7466796ef",
            "e3c3490e16f8453da578a96e179c072e",
            "c46740159f2f4f198fa414e33aef9570",
            "b835a5b252c7457f8a5d2a0bc13d7293",
            "5af9cf577072403a8489d348908c721a",
            "36dc7867223f48949160b0f2b1eca1c6",
            "730b6a8c84b8474b8f0c8ca731f6a15f"
          ]
        },
        "outputId": "0a1be3f2-fe16-40cb-ad44-6cb3f42b4ad3"
      },
      "source": [
        "# подсчет акустиеских признаков для записей из папки:\n",
        "def load_data_dict(dir_path, count=None):\n",
        "    data_dict = {}\n",
        "    for step, wav_name in tqdm(enumerate(os.listdir(dir_path))):\n",
        "        x, sr = librosa.load(os.path.join(dir_path, wav_name), sr=None) \n",
        "        mfcc = librosa.feature.mfcc(x,\n",
        "                                    sr=sr,\n",
        "                                    n_mfcc=13, \n",
        "                                    n_fft=int(sr * 0.025),\n",
        "                                    hop_length=int(sr * 0.01))\n",
        "        if count and step == count:\n",
        "            print(f'Early stop at {step}th file..')\n",
        "            break\n",
        "        data_dict[wav_name.split('.')[0]] = mfcc.T  \n",
        "    return data_dict\n",
        "\n",
        "train_records_dir = 'data/train_librispeech_10h/wav_dir'\n",
        "train_data_dict = load_data_dict(train_records_dir, count=100)"
      ],
      "execution_count": 7,
      "outputs": [
        {
          "output_type": "display_data",
          "data": {
            "text/plain": [
              "0it [00:00, ?it/s]"
            ],
            "application/vnd.jupyter.widget-view+json": {
              "version_major": 2,
              "version_minor": 0,
              "model_id": "e29510ab35f046d7a6e87bf52d6683f0"
            }
          },
          "metadata": {}
        },
        {
          "output_type": "stream",
          "name": "stdout",
          "text": [
            "Early stop at 100th file..\n"
          ]
        }
      ]
    },
    {
      "cell_type": "code",
      "metadata": {
        "id": "CN2Q0wYTFMs5"
      },
      "source": [
        "# инициализация списка допустимых фонем из предустановленного файла\n",
        "def init_phones_dict(phones_file):\n",
        "    phones_dict = {}\n",
        "    with open(phones_file, encoding='utf-8') as fn:\n",
        "        for line in fn:\n",
        "            phones_dict[line.strip()] = []\n",
        "    return phones_dict\n",
        "\n",
        "phones_file = 'data/train_librispeech_10h/phones'\n",
        "phones_dict = init_phones_dict(phones_file)"
      ],
      "execution_count": 8,
      "outputs": []
    },
    {
      "cell_type": "code",
      "metadata": {
        "id": "1Yd0anSjFOr_",
        "colab": {
          "base_uri": "https://localhost:8080/"
        },
        "outputId": "686c73d5-9462-4d41-f626-4597009a7965"
      },
      "source": [
        "# присвоим каждой фонеме набор ее признаков в соответствии с фонемной разметкой обучающей выборки\n",
        "# количество кадров признаков может немного отличаться от количества размеченных фонем\n",
        "# это связано с особенностми построения разметки в Kaldi\n",
        "for file_name in train_data_dict.keys():\n",
        "    file_feats = train_data_dict[file_name]\n",
        "    file_ali = ali_dict[file_name]\n",
        "    for frame in range(min(len(file_feats), len(file_ali))):\n",
        "        phones_dict[file_ali[frame]].append(file_feats[frame])\n",
        "        \n",
        "# выведем статистику по кадой фонеме (некоторые фонемы вообще не используются, это особенности разметки в Kaldi):\n",
        "count = 0\n",
        "for phone in phones_dict.keys():\n",
        "    if len(phones_dict[phone]) == 0:\n",
        "        count +=1\n",
        "    print(f'{phone:<3}: {len(phones_dict[phone])}')\n",
        "print(f'Number of empty phones is: {count}')"
      ],
      "execution_count": 9,
      "outputs": [
        {
          "output_type": "stream",
          "name": "stdout",
          "text": [
            "SIL: 23073\n",
            "SPN: 955\n",
            "AA : 0\n",
            "AA0: 36\n",
            "AA1: 1551\n",
            "AA2: 91\n",
            "AE : 0\n",
            "AE0: 38\n",
            "AE1: 3343\n",
            "AE2: 73\n",
            "AH : 0\n",
            "AH0: 5196\n",
            "AH1: 1665\n",
            "AH2: 54\n",
            "AO : 0\n",
            "AO0: 16\n",
            "AO1: 1605\n",
            "AO2: 53\n",
            "AW : 0\n",
            "AW0: 0\n",
            "AW1: 1206\n",
            "AW2: 69\n",
            "AY : 0\n",
            "AY0: 12\n",
            "AY1: 3370\n",
            "AY2: 156\n",
            "B  : 1569\n",
            "CH : 944\n",
            "D  : 3601\n",
            "DH : 2010\n",
            "EH : 0\n",
            "EH0: 36\n",
            "EH1: 2726\n",
            "EH2: 79\n",
            "ER : 0\n",
            "ER0: 2363\n",
            "ER1: 868\n",
            "ER2: 9\n",
            "EY : 0\n",
            "EY0: 13\n",
            "EY1: 2501\n",
            "EY2: 107\n",
            "F  : 2232\n",
            "G  : 728\n",
            "HH : 2160\n",
            "IH : 0\n",
            "IH0: 2683\n",
            "IH1: 2185\n",
            "IH2: 106\n",
            "IY : 0\n",
            "IY0: 2207\n",
            "IY1: 2290\n",
            "IY2: 48\n",
            "JH : 625\n",
            "K  : 2770\n",
            "L  : 4089\n",
            "M  : 2733\n",
            "N  : 5605\n",
            "NG : 1458\n",
            "OW : 0\n",
            "OW0: 167\n",
            "OW1: 1875\n",
            "OW2: 275\n",
            "OY : 0\n",
            "OY0: 0\n",
            "OY1: 331\n",
            "OY2: 0\n",
            "P  : 2371\n",
            "R  : 3733\n",
            "S  : 6445\n",
            "SH : 1042\n",
            "T  : 5861\n",
            "TH : 756\n",
            "UH : 0\n",
            "UH0: 5\n",
            "UH1: 358\n",
            "UH2: 7\n",
            "UW : 0\n",
            "UW0: 75\n",
            "UW1: 1223\n",
            "UW2: 22\n",
            "V  : 1573\n",
            "W  : 2190\n",
            "Y  : 544\n",
            "Z  : 3307\n",
            "ZH : 47\n",
            "Number of empty phones is: 18\n"
          ]
        }
      ]
    },
    {
      "cell_type": "code",
      "metadata": {
        "id": "qVfBU-c0FXXO"
      },
      "source": [
        "# соберем статистику на основе среднего значения для каждой фонемы\n",
        "mean_phones_value = {}\n",
        "for phone in phones_dict.keys():\n",
        "    if phones_dict[phone]:\n",
        "        mean_phones_value[phone] = np.mean(phones_dict[phone], axis=0)"
      ],
      "execution_count": 10,
      "outputs": []
    },
    {
      "cell_type": "code",
      "metadata": {
        "id": "zZ4e9U_75jL3"
      },
      "source": [
        "#-----------------------------TODO №2-----------------------------------\n",
        "# построить GMM модель для каждой фонемы (смотри задание2)\n",
        "#-----------------------------------------------------------------------"
      ],
      "execution_count": 11,
      "outputs": []
    },
    {
      "cell_type": "markdown",
      "metadata": {
        "id": "P16k6UpnFX77"
      },
      "source": [
        "### Инициализация фонемного графа"
      ]
    },
    {
      "cell_type": "code",
      "metadata": {
        "id": "kNO5QhSRFai3"
      },
      "source": [
        "# теперь будем распознавать по словарю, состоящему из конечных слов\n",
        "# для этого нужно загрузить файл лексикона, который определяет из каких фонем состоят наши слова\n",
        "def load_lexicon_dict(lexicon_file):\n",
        "    lexicon_dict = {}\n",
        "    with open(lexicon_file, encoding='utf-8') as fn:\n",
        "        for line in fn:\n",
        "            line = line.strip().split()\n",
        "            lexicon_dict[line[0]] = line[1:]\n",
        "    return lexicon_dict\n",
        "\n",
        "lexicon_file = 'data/lexicon_yes_no.txt'\n",
        "lexicon_dict = load_lexicon_dict(lexicon_file)"
      ],
      "execution_count": 12,
      "outputs": []
    },
    {
      "cell_type": "markdown",
      "metadata": {
        "id": "Pxd1c2hQFhD6"
      },
      "source": [
        "Узлы графа теперь представляют собой отдельные фонемы с переходом только в себя и следующий узел (переходов через несколько узлов уже не будет, так как пропуск фонемы в слове нежелателен). Схема такого графа для да/нет (для цифр по аналогии) представлена ниже:\n",
        "\n",
        "![](https://drive.google.com/uc?export=view&id=1IJhR0l0YCPDge05ohigs0_P5gDX66fdM)\n",
        "\n",
        "В качестве <b>model</b> мы будем хранить простой класс <b>AcousticModel</b>, который хранит в себе имя фонемы и ее среднее значение. Также у этого класса есть метод вычисления евклидовой дистанции от хранящегося в нем среднего значения признака фонемы до текущего признака распознаваемой записи, который передается этому методу. "
      ]
    },
    {
      "cell_type": "code",
      "metadata": {
        "id": "h2YqXJzMFvCl"
      },
      "source": [
        "class AcousticModel:\n",
        "    def __init__(self, phone_name, phone_feats):\n",
        "        self.phone_name = phone_name\n",
        "        self.phone_feats = phone_feats\n",
        "    def distance(self, input_feats):\n",
        "        return float(np.sqrt(sum(pow(self.phone_feats - input_feats, 2))))\n",
        "\n",
        "#-----------------------------TODO №2--------------------------------------------\n",
        "# заменить акустическую модель на основе среднего значения признака на GMM модель\n",
        "class GmmAcousticModel:\n",
        "    def __init__(self, phone_name, phone_feats, covariance_type='full'):\n",
        "        self.phone_name = phone_name\n",
        "        if phone_feats is None:\n",
        "            self.phone_feats = None\n",
        "        else:\n",
        "            n_components = 1 if len(phone_feats) == 1 else 3\n",
        "            self.phone_feats = GaussianMixture(\n",
        "                n_components=n_components,\n",
        "                covariance_type=covariance_type,\n",
        "                random_state=42\n",
        "            ).fit(phone_feats)\n",
        "       \n",
        "    def distance(self, input_feats):\n",
        "        input_feats = np.asarray(input_feats).reshape(1, -1)\n",
        "        return -self.phone_feats.score(input_feats) # -Loglikelihood\n",
        "#--------------------------------------------------------------------------------\n",
        "\n",
        "class State:\n",
        "    def __init__(self, model, index):  \n",
        "        self.model = model                     # вектор признаков узла\n",
        "        self.is_final = False                  # является ли этот узел финальнвм в слове\n",
        "        self.word = None                       # слово эталона (назначается только для финального узла)\n",
        "        self.best_token = None                 # лучший токен (по минимуму дистанции) в узле\n",
        "        self.current_word = None               # текущее слово эталона\n",
        "        self.next_states = []                  # список следующих узлов\n",
        "        self.index = index                     # индекс узла \n",
        "\n",
        "        \n",
        "def load_graph(lexicon_dict, mean_phones_value):\n",
        "    start_state = State(AcousticModel(None, None), 0)\n",
        "    graph = [start_state, ]\n",
        "    state_index = 1\n",
        "    for word in lexicon_dict.keys():\n",
        "        previous_state = start_state\n",
        "        for phone in lexicon_dict[word]:\n",
        "            state = State(AcousticModel(phone, mean_phones_value[phone]), state_index)\n",
        "            state.current_word = word           # слово эталона теперь будет храниться в каждом узле\n",
        "            state.next_states.append(state)     # add loop\n",
        "            previous_state.next_states.append(state)\n",
        "            previous_state = state \n",
        "            graph.append(state)\n",
        "            state_index += 1\n",
        "        if state:\n",
        "            state.word = word\n",
        "            state.is_final = True\n",
        "    return graph\n",
        "\n",
        "def print_graph(graph):\n",
        "    if not os.path.exists('exp'):\n",
        "        os.mkdir('exp')\n",
        "    with open('exp/graph.txt', 'w') as fn:\n",
        "        np.set_printoptions(formatter={'float': '{: 0.1f}'.format})\n",
        "        for state in graph:\n",
        "            next_state_indexes = [s.index for s in state.next_states]\n",
        "            fn.write(\"State: index={} word={} is_final={} next_state_indexes={} phone={} \\n\".format(\n",
        "                state.index, state.word, state.is_final, next_state_indexes, state.model.phone_name))\n",
        "    print(\"*** SEE exp/graph.txt ***\")"
      ],
      "execution_count": 13,
      "outputs": []
    },
    {
      "cell_type": "code",
      "metadata": {
        "id": "8DOtPoIjFzYp",
        "colab": {
          "base_uri": "https://localhost:8080/"
        },
        "outputId": "77cb2c0b-ac71-40fe-ebee-5f901dc115fd"
      },
      "source": [
        "graph = load_graph(lexicon_dict, mean_phones_value)\n",
        "print_graph(graph)"
      ],
      "execution_count": 14,
      "outputs": [
        {
          "output_type": "stream",
          "name": "stdout",
          "text": [
            "*** SEE exp/graph.txt ***\n"
          ]
        }
      ]
    },
    {
      "cell_type": "code",
      "metadata": {
        "id": "cC28co6MF1G3"
      },
      "source": [
        "class Token:\n",
        "    def __init__(self, state, dist=0.0, word=\"\"):\n",
        "        self.state = state       # стейт графа, в котором токен находится в текущий момент\n",
        "        self.dist = dist         # общая накопленная дистанция пути, пройденного токеном\n",
        "        self.word = word         # слово, которое распозналось токеном\n",
        "        self.alive = True\n",
        "\n",
        "\n",
        "def beam_pruning(next_tokens, threshold):   \n",
        "    best_token = next_tokens[np.argmin([token.dist for token in next_tokens])]\n",
        "    for token in next_tokens:\n",
        "        if token.dist > best_token.dist + threshold:\n",
        "            token.alive = False\n",
        "    return next_tokens\n",
        "\n",
        "\n",
        "def state_pruning(next_tokens):\n",
        "    for token in next_tokens:  \n",
        "        if not token.state.best_token:\n",
        "            token.state.best_token = token\n",
        "        else:\n",
        "            if token.dist <= token.state.best_token.dist:\n",
        "                token.state.best_token.alive = False\n",
        "                token.state.best_token = token\n",
        "            else:\n",
        "                token.alive = False              \n",
        "    # сбрасываем best_token на None для всеx узлов графа:\n",
        "    for token in next_tokens:                                                   \n",
        "        if token.state.best_token:                     \n",
        "            token.state.best_token = None              \n",
        "    return next_tokens\n",
        "\n",
        "\n",
        "def recognize(filename, features, graph, recognition_results, beam_threshold):\n",
        "\n",
        "    start_state = graph[0]\n",
        "    active_tokens = [Token(start_state), ]\n",
        "    next_tokens = []\n",
        "\n",
        "    #for ftr_frame in tqdm(features, desc=\"recognition...\"):\n",
        "    for ftr_frame in features:\n",
        "        for token in active_tokens:\n",
        "            if token.alive:\n",
        "                for transition_state in token.state.next_states:\n",
        "                    new_token = Token(transition_state, token.dist, token.word)\n",
        "                    new_token.dist += transition_state.model.distance(ftr_frame)\n",
        "                    next_tokens.append(new_token)\n",
        "        # state and beam prunings:\n",
        "        next_tokens = state_pruning(next_tokens)         \n",
        "        next_tokens = beam_pruning(next_tokens, beam_threshold) \n",
        "\n",
        "        active_tokens = next_tokens\n",
        "        next_tokens = []                                    \n",
        "        \n",
        "    # поиск финальных токенов:\n",
        "    final_tokens = []\n",
        "    for token in active_tokens:\n",
        "        if token.state.is_final and token.alive:\n",
        "            final_tokens.append(token)\n",
        "\n",
        "    # если нет финальных, то берем лучший из выживших:\n",
        "    if len(final_tokens) != 0:\n",
        "        win_token = final_tokens[np.argmin([token.dist for token in final_tokens])]\n",
        "    else:\n",
        "        alive_tokens = [token for token in active_tokens if token.alive]\n",
        "        win_token = alive_tokens[np.argmin([token.dist for token in alive_tokens])]\n",
        "        win_token.state.word = win_token.state.current_word\n",
        "\n",
        "    # вывод результата\n",
        "    print(f\"result: {filename:<27} ==> {win_token.state.word}\")\n",
        "\n",
        "    # совпадает ли запись с полученным эталоном:  \n",
        "    record_word = filename.split('_')[0]\n",
        "    etalon_word = win_token.state.word.split('_')[0]\n",
        "    recognition_results.append(etalon_word.lower() == record_word)\n",
        "\n",
        "    return recognition_results"
      ],
      "execution_count": 15,
      "outputs": []
    },
    {
      "cell_type": "code",
      "metadata": {
        "id": "lK6AYxapF5lo"
      },
      "source": [
        "def run_recognizer(records_data_dict, graph, beam_threshold=10):\n",
        "    start_time = time.time()\n",
        "    recognition_results = []\n",
        "\n",
        "    for filename in records_data_dict.keys():    \n",
        "        recognition_results = recognize(filename, records_data_dict[filename], graph, recognition_results, beam_threshold)\n",
        "\n",
        "    print(\"-\" * 60)\n",
        "    print(f\"WER is: {(1 - sum(recognition_results)/len(recognition_results))*100:.2f}%\")\n",
        "    print(f\"Total time is: {time.time() - start_time:.2f} sec\")\n",
        "    print(\"-\" * 60)"
      ],
      "execution_count": 16,
      "outputs": []
    },
    {
      "cell_type": "code",
      "metadata": {
        "id": "SVElJh1zF5_E"
      },
      "source": [
        "#def load_data_dict(dir_path):\n",
        "#    data_dict = {}\n",
        "#    for wav_name in os.listdir(dir_path):\n",
        "#        x, sr = librosa.load(os.path.join(dir_path, wav_name), sr=None) \n",
        "#        mfcc = librosa.feature.mfcc(x, sr=sr, n_mfcc=13, \n",
        "#                                    n_fft=int(sr * 0.025),\n",
        "#                                    hop_length=int(sr * 0.01))\n",
        "#        data_dict[wav_name] = mfcc.T\n",
        "#    \n",
        "#    return data_dict"
      ],
      "execution_count": 17,
      "outputs": []
    },
    {
      "cell_type": "markdown",
      "metadata": {
        "id": "HDkx9xJbF8BF"
      },
      "source": [
        "### Запустим наше распознавание на базе YES_NO"
      ]
    },
    {
      "cell_type": "code",
      "metadata": {
        "id": "m1O-zUzmF-f6",
        "colab": {
          "base_uri": "https://localhost:8080/",
          "height": 292,
          "referenced_widgets": [
            "527c372afe044bddbec2ea1391c32272",
            "9c102618de6743a0ab4ba05c6c85574b",
            "990ea551deb342ac990382af2d04bb77",
            "40eb1dd338cc47498c1e959b1cfb1cf1",
            "76af17706fc64dfd9bab86e40faaaafa",
            "0930b9c8ffc14ee9a1413421676d3b6e",
            "5427f0e21e47485691ca1ab976c0edaa",
            "c5f8ce59f497410a9e552746faf39ea6",
            "2379da6a9ddd49a6888ae7c31c732497",
            "794847c678e44204b9b4d38e2ffe1150",
            "5546021615454b39a11c20cb1f850b29"
          ]
        },
        "outputId": "d5d9a6f8-0ec3-4a03-8c6b-eb2e1fec7843"
      },
      "source": [
        "lexicon_file = 'data/lexicon_yes_no.txt'\n",
        "lexicon_dict = load_lexicon_dict(lexicon_file)\n",
        "graph = load_graph(lexicon_dict, mean_phones_value)\n",
        "records_data_dict = load_data_dict(\"data/yes_no/records\")\n",
        "\n",
        "run_recognizer(records_data_dict, graph, beam_threshold=20)"
      ],
      "execution_count": 18,
      "outputs": [
        {
          "output_type": "display_data",
          "data": {
            "text/plain": [
              "0it [00:00, ?it/s]"
            ],
            "application/vnd.jupyter.widget-view+json": {
              "version_major": 2,
              "version_minor": 0,
              "model_id": "527c372afe044bddbec2ea1391c32272"
            }
          },
          "metadata": {}
        },
        {
          "output_type": "stream",
          "name": "stdout",
          "text": [
            "result: no_4abb2400_nohash_0        ==> NO\n",
            "result: yes_39a12648_nohash_0       ==> YES\n",
            "result: no_49af4432_nohash_0        ==> NO\n",
            "result: yes_fe1916ba_nohash_0       ==> NO\n",
            "result: no_41474817_nohash_0        ==> NO\n",
            "result: yes_39a6b995_nohash_0       ==> NO\n",
            "result: yes_ff63ab0b_nohash_0       ==> YES\n",
            "result: no_4394fc7c_nohash_0        ==> NO\n",
            "result: yes_fc94edb0_nohash_0       ==> YES\n",
            "result: no_ad89eb1e_nohash_0        ==> NO\n",
            "------------------------------------------------------------\n",
            "WER is: 20.00%\n",
            "Total time is: 0.12 sec\n",
            "------------------------------------------------------------\n"
          ]
        }
      ]
    },
    {
      "cell_type": "markdown",
      "metadata": {
        "id": "W-PcgsxRGBbO"
      },
      "source": [
        "### Запустим наше распознавание на базе Digits"
      ]
    },
    {
      "cell_type": "code",
      "metadata": {
        "id": "eFlTEI0EGD8L",
        "colab": {
          "base_uri": "https://localhost:8080/",
          "height": 466,
          "referenced_widgets": [
            "baa29a42ca12418aa041ca846eb19ba3",
            "9ced10c1a84d4989adaa32cea66c6eee",
            "46bb16ddb2394bbfaa8df86d93ad3991",
            "9ee0a044d0b24ed2b6bd99f9575f6a3d",
            "75057e2204e34b73aee905789f57b8f4",
            "621d1ede50934215b82f24df942c73a8",
            "ebd4f8ee44b042b7b4025097941cd730",
            "035f842c3a6743ffa20f33bf7f1ef70b",
            "ed55779be6d44702a2ff137f8d967c76",
            "6b0ab0de29374d94b6a283e70de52faf",
            "2def0711327746798643315c5e908f4f"
          ]
        },
        "outputId": "cbd6e59c-4483-4903-fa48-f75b6f9e6ddc"
      },
      "source": [
        "lexicon_file = 'data/lexicon_digits.txt'\n",
        "lexicon_dict = load_lexicon_dict(lexicon_file)\n",
        "graph = load_graph(lexicon_dict, mean_phones_value)\n",
        "records_data_dict = load_data_dict(\"data/digits/records\")\n",
        "\n",
        "run_recognizer(records_data_dict, graph, beam_threshold=2000)"
      ],
      "execution_count": 19,
      "outputs": [
        {
          "output_type": "display_data",
          "data": {
            "text/plain": [
              "0it [00:00, ?it/s]"
            ],
            "application/vnd.jupyter.widget-view+json": {
              "version_major": 2,
              "version_minor": 0,
              "model_id": "baa29a42ca12418aa041ca846eb19ba3"
            }
          },
          "metadata": {}
        },
        {
          "output_type": "stream",
          "name": "stdout",
          "text": [
            "result: five_ffd2ba2f_nohash_0      ==> FIVE\n",
            "result: two_fb2f3242_nohash_0       ==> ONE\n",
            "result: five_f852895b_nohash_0      ==> FIVE\n",
            "result: nine_ccea893d_nohash_0      ==> NINE\n",
            "result: four_ffbb695d_nohash_0      ==> FOUR\n",
            "result: seven_fe5c4a7a_nohash_0     ==> FIVE\n",
            "result: three_feb1d305_nohash_0     ==> SIX\n",
            "result: one_fc2411fe_nohash_0       ==> ONE\n",
            "result: seven_fd32732a_nohash_0     ==> SIX\n",
            "result: two_fce65496_nohash_0       ==> SEVEN\n",
            "result: eight_da584bc0_nohash_4     ==> SIX\n",
            "result: three_fce96bac_nohash_0     ==> FIVE\n",
            "result: one_ffa76c4a_nohash_0       ==> ONE\n",
            "result: four_fce65496_nohash_0      ==> ZERO\n",
            "result: six_ffd2ba2f_nohash_0       ==> SIX\n",
            "result: nine_fbe51750_nohash_0      ==> NINE\n",
            "result: eight_daf230ac_nohash_0     ==> SIX\n",
            "result: zero_f92e49f3_nohash_3      ==> SEVEN\n",
            "result: six_ffbb695d_nohash_0       ==> SIX\n",
            "result: zero_f852895b_nohash_0      ==> FIVE\n",
            "------------------------------------------------------------\n",
            "WER is: 55.00%\n",
            "Total time is: 1.69 sec\n",
            "------------------------------------------------------------\n"
          ]
        }
      ]
    },
    {
      "cell_type": "markdown",
      "metadata": {
        "id": "G95sGPm4GGRR"
      },
      "source": [
        "### <b>Задание №1</b> (5 баллов):\n",
        "Отрисовать кластеры признаков фонем \"Y EH1 S N OW1\" в двухмерном пространстве. Для понижения размерности можно воспользоваться алгоритмом t-SNE -- https://scikit-learn.org/stable/modules/generated/sklearn.manifold.TSNE.html. Все пять кластеров должны помещаться на один рисунок и иметь разные цвета. Также укажите на графике какой цвет какой фонеме соответствует.  "
      ]
    },
    {
      "cell_type": "markdown",
      "source": [
        "### **Ответ**:"
      ],
      "metadata": {
        "id": "0jW0HNtG9V3o"
      }
    },
    {
      "cell_type": "code",
      "source": [
        "CNT_FILES = 100\n",
        "CNT_FEATURES = 200\n",
        "PHONEMES = ('Y', 'EH1', 'S', 'N', 'OW1')\n",
        "RANDOM_STATE = 42\n",
        "LR = 300"
      ],
      "metadata": {
        "id": "5ffgAQO3WwfB"
      },
      "execution_count": 20,
      "outputs": []
    },
    {
      "cell_type": "code",
      "source": [
        "phones_dict = init_phones_dict(phones_file)\n",
        "train_data_dict = load_data_dict(train_records_dir, count=CNT_FILES)\n",
        "\n",
        "for file_name in train_data_dict.keys():\n",
        "    file_feats = train_data_dict[file_name]\n",
        "    file_ali = ali_dict[file_name]\n",
        "    for frame in range(min(len(file_feats), len(file_ali))):\n",
        "        phones_dict[file_ali[frame]].append(file_feats[frame])"
      ],
      "metadata": {
        "colab": {
          "base_uri": "https://localhost:8080/",
          "height": 66,
          "referenced_widgets": [
            "bb57ad5c54684cc0bb05bea6b16ffd1e",
            "cca416c844a3404490c1694278b8e3d9",
            "f394bb7a383b4b3a8a8c2fb8c330782a",
            "0e1fd36861c049e8ad9c6c4be606dfbb",
            "a6a874cfd99a40b1879aa2c43dd532c1",
            "0c98fd983606429d8bb538ea0f9de6cb",
            "c6af8764d258415592736457c287078f",
            "3e4e237da39a41b185336a389404316a",
            "9ebf68aff9224896bbf99b5090adb5e2",
            "2753694756344cefb8d9416c27ee650d",
            "0cd35107e7404c7994e5cb7747d96e5f"
          ]
        },
        "id": "VVMP6SVdQYUD",
        "outputId": "3a43b5ce-e3a0-4835-b4ac-6a3b83c6ca90"
      },
      "execution_count": 21,
      "outputs": [
        {
          "output_type": "display_data",
          "data": {
            "text/plain": [
              "0it [00:00, ?it/s]"
            ],
            "application/vnd.jupyter.widget-view+json": {
              "version_major": 2,
              "version_minor": 0,
              "model_id": "bb57ad5c54684cc0bb05bea6b16ffd1e"
            }
          },
          "metadata": {}
        },
        {
          "output_type": "stream",
          "name": "stdout",
          "text": [
            "Early stop at 100th file..\n"
          ]
        }
      ]
    },
    {
      "cell_type": "code",
      "source": [
        "features, labels = [], []\n",
        "\n",
        "for idx, label in enumerate(PHONEMES):\n",
        "    for feature in phones_dict[label][:CNT_FEATURES]:\n",
        "        features.append(feature)\n",
        "        labels.append(idx)"
      ],
      "metadata": {
        "id": "B-PhtyRfQY6K"
      },
      "execution_count": 22,
      "outputs": []
    },
    {
      "cell_type": "code",
      "source": [
        "points = TSNE(\n",
        "    n_components=2,\n",
        "    random_state=RANDOM_STATE,\n",
        "    learning_rate=LR,\n",
        "    init='random'\n",
        ").fit_transform(features)"
      ],
      "metadata": {
        "id": "-htZYzXgRkCS"
      },
      "execution_count": 23,
      "outputs": []
    },
    {
      "cell_type": "code",
      "source": [
        "plt.figure(figsize=(12, 12))\n",
        "scatter = plt.scatter(points[:, 0], points[:, 1], c=labels, cmap='gist_rainbow')\n",
        "plt.legend(handles=scatter.legend_elements()[0], labels=PHONEMES)\n",
        "plt.grid()\n",
        "plt.show()"
      ],
      "metadata": {
        "colab": {
          "base_uri": "https://localhost:8080/",
          "height": 700
        },
        "id": "3rKmvaIiQt0w",
        "outputId": "7316e555-12cd-4981-a067-43a5ae32bef7"
      },
      "execution_count": 24,
      "outputs": [
        {
          "output_type": "display_data",
          "data": {
            "text/plain": [
              "<Figure size 864x864 with 1 Axes>"
            ],
            "image/png": "[encoded data removed]"
          },
          "metadata": {
            "needs_background": "light"
          }
        }
      ]
    },
    {
      "cell_type": "markdown",
      "source": [
        "Действительно, фонемы делятся на некоторые кластеры, которые слегка пересекаются друг с другом"
      ],
      "metadata": {
        "id": "rHE1owcSWBqt"
      }
    },
    {
      "cell_type": "markdown",
      "metadata": {
        "id": "LMeiGWg7GIRR"
      },
      "source": [
        "### <b>Задание №2</b> (5 баллов):\n",
        "Заменить модель среднего значения фонемы на GMM. Количестов смесей для каждой фонемы можно выставить в 3. Теперь вместо расстояния мы будем измерять вероятность принадлежности кадра признаков к GMM модели фонемы, находящейся в конкретном узле графа. Чтобы использовать это значение в парадигме нашего алгоритма, в качестве дистанции нужно брать значение -log(x), где x -- предсказанная вероятность. Тогда чем выше вероятность, тем такая импровизированная дистанция будет меньше. Ссылка на питоновскую реализацию GMM -- https://scikit-learn.org/stable/modules/generated/sklearn.mixture.GaussianMixture.html.\n",
        "\n",
        "Что стало с качеством распознавания на двух тестах?"
      ]
    },
    {
      "cell_type": "markdown",
      "source": [
        "### **Ответ**:"
      ],
      "metadata": {
        "id": "d-O_qfru96jV"
      }
    },
    {
      "cell_type": "code",
      "source": [
        "def load_graph_gmm(lexicon_dict, gmm_phones_value, covariance_type='full'):\n",
        "    start_state = State(GmmAcousticModel(None, None, covariance_type), 0)\n",
        "    graph = [start_state,]\n",
        "    state_index = 1\n",
        "    for word in lexicon_dict.keys():\n",
        "        previous_state = start_state\n",
        "        for phone in lexicon_dict[word]:\n",
        "            state = State(GmmAcousticModel(phone, gmm_phones_value[phone], covariance_type), state_index)\n",
        "            state.current_word = word\n",
        "            state.next_states.append(state)\n",
        "            previous_state.next_states.append(state)\n",
        "            previous_state = state \n",
        "            graph.append(state)\n",
        "            state_index += 1\n",
        "        if state:\n",
        "            state.word = word\n",
        "            state.is_final = True\n",
        "    return graph"
      ],
      "metadata": {
        "id": "Is-xDkWCOG14"
      },
      "execution_count": 25,
      "outputs": []
    },
    {
      "cell_type": "code",
      "source": [
        "phones_dict = init_phones_dict(phones_file)\n",
        "train_data_dict = load_data_dict(train_records_dir, count=100)\n",
        "\n",
        "for file_name in train_data_dict.keys():\n",
        "    file_feats = train_data_dict[file_name]\n",
        "    file_ali = ali_dict[file_name]\n",
        "    for frame in range(min(len(file_feats), len(file_ali))):\n",
        "        phones_dict[file_ali[frame]].append(file_feats[frame])"
      ],
      "metadata": {
        "colab": {
          "base_uri": "https://localhost:8080/",
          "height": 66,
          "referenced_widgets": [
            "d060bce81dfc403e83361474762f02e4",
            "26135e16d67746eb9a45a98cb9e51eb6",
            "1e312035063c4a8296cfc53ae3dd9e77",
            "baf6c892f2f74fa3a282cd239e7424e6",
            "e8b2d2d6c39d4676b01a2180e5e9ff1d",
            "d876d360e0f543f99dada0ce3c9cea2c",
            "f33ca36c8ef44a6eac5d57b869460f74",
            "ebfcacaaea3946819b743811c41a2dc1",
            "9bb9c8904e8d4eaa873fde8803701395",
            "37c5893c5e9a46b2bf3fd534079a8be4",
            "e86cca984c084309b9315dcfff701a5d"
          ]
        },
        "id": "GUcjp14AOHaZ",
        "outputId": "e7119f6f-c04c-4c34-f431-33eb29baf3fa"
      },
      "execution_count": 26,
      "outputs": [
        {
          "output_type": "display_data",
          "data": {
            "text/plain": [
              "0it [00:00, ?it/s]"
            ],
            "application/vnd.jupyter.widget-view+json": {
              "version_major": 2,
              "version_minor": 0,
              "model_id": "d060bce81dfc403e83361474762f02e4"
            }
          },
          "metadata": {}
        },
        {
          "output_type": "stream",
          "name": "stdout",
          "text": [
            "Early stop at 100th file..\n"
          ]
        }
      ]
    },
    {
      "cell_type": "markdown",
      "source": [
        "Yes/No, GMM с обычной матрицей ковариации"
      ],
      "metadata": {
        "id": "6LNdrguOPixI"
      }
    },
    {
      "cell_type": "code",
      "source": [
        "lexicon_file = 'data/lexicon_yes_no.txt'\n",
        "lexicon_dict = load_lexicon_dict(lexicon_file)\n",
        "graph = load_graph_gmm(lexicon_dict, phones_dict, covariance_type='full')\n",
        "records_data_dict = load_data_dict(\"data/yes_no/records\")\n",
        "\n",
        "run_recognizer(records_data_dict, graph, beam_threshold=100)"
      ],
      "metadata": {
        "colab": {
          "base_uri": "https://localhost:8080/",
          "height": 292,
          "referenced_widgets": [
            "ecfe688ae5454107a0898fbc17ebfde0",
            "5dddfc79f7d148c3a92bf8e515cd6ef0",
            "828985c0cad44693bef0ea66a59f7736",
            "d7eb16c302b745479bf32dcf97a6dd82",
            "754f624530804dd0943787e0c9d0a903",
            "10119ca9b58e4faf90f4d61d76bc24d4",
            "7662305497b341b28e9c0559381ec585",
            "7dc7141a64554149bbd094dc52fd84ea",
            "9bf952349f8840de856d0fdbec06da90",
            "9d7500484b224870a0f573bb2a46355f",
            "d8d8477db0e24349b8aa996050189bb0"
          ]
        },
        "id": "V6betJRNOS-V",
        "outputId": "5c015e06-1f94-4190-ce85-afa81bb62e3b"
      },
      "execution_count": 27,
      "outputs": [
        {
          "output_type": "display_data",
          "data": {
            "text/plain": [
              "0it [00:00, ?it/s]"
            ],
            "application/vnd.jupyter.widget-view+json": {
              "version_major": 2,
              "version_minor": 0,
              "model_id": "ecfe688ae5454107a0898fbc17ebfde0"
            }
          },
          "metadata": {}
        },
        {
          "output_type": "stream",
          "name": "stdout",
          "text": [
            "result: no_4abb2400_nohash_0        ==> YES\n",
            "result: yes_39a12648_nohash_0       ==> NO\n",
            "result: no_49af4432_nohash_0        ==> NO\n",
            "result: yes_fe1916ba_nohash_0       ==> YES\n",
            "result: no_41474817_nohash_0        ==> YES\n",
            "result: yes_39a6b995_nohash_0       ==> YES\n",
            "result: yes_ff63ab0b_nohash_0       ==> YES\n",
            "result: no_4394fc7c_nohash_0        ==> NO\n",
            "result: yes_fc94edb0_nohash_0       ==> YES\n",
            "result: no_ad89eb1e_nohash_0        ==> NO\n",
            "------------------------------------------------------------\n",
            "WER is: 30.00%\n",
            "Total time is: 2.36 sec\n",
            "------------------------------------------------------------\n"
          ]
        }
      ]
    },
    {
      "cell_type": "markdown",
      "source": [
        "Yes/No, GMM с диагональной матрицей ковариации"
      ],
      "metadata": {
        "id": "9d5XvYhUPozo"
      }
    },
    {
      "cell_type": "code",
      "source": [
        "lexicon_file = 'data/lexicon_yes_no.txt'\n",
        "lexicon_dict = load_lexicon_dict(lexicon_file)\n",
        "graph = load_graph_gmm(lexicon_dict, phones_dict, covariance_type='diag')\n",
        "records_data_dict = load_data_dict(\"data/yes_no/records\")\n",
        "\n",
        "run_recognizer(records_data_dict, graph, beam_threshold=100)"
      ],
      "metadata": {
        "colab": {
          "base_uri": "https://localhost:8080/",
          "height": 292,
          "referenced_widgets": [
            "de94aac8f6974b18bbbee4bbd0bb52f0",
            "bb23701feea448638cdc16330ffc8cc7",
            "21f9d7072ead4f8b8d2acb3ca37d5d7f",
            "e1774a789058466e90c35a8fd9e8ce89",
            "6fe82559d700434a91ee415c8e1d59c1",
            "07aa1884910d4ecd93871989f409ab4e",
            "82b186e805114b189c2717647707f57f",
            "08c7cdab88004ea987eef73d4805b807",
            "edb4566d478e4b48b3fd76958665fe0b",
            "ed06f8cda7224645ac59c4e3843b309d",
            "7a31a1cc9fe64bc59a23ec091152a49a"
          ]
        },
        "id": "df7F0xRMPQoP",
        "outputId": "6d16ae2e-b203-4fd8-dbde-6f1149dc14fd"
      },
      "execution_count": 28,
      "outputs": [
        {
          "output_type": "display_data",
          "data": {
            "text/plain": [
              "0it [00:00, ?it/s]"
            ],
            "application/vnd.jupyter.widget-view+json": {
              "version_major": 2,
              "version_minor": 0,
              "model_id": "de94aac8f6974b18bbbee4bbd0bb52f0"
            }
          },
          "metadata": {}
        },
        {
          "output_type": "stream",
          "name": "stdout",
          "text": [
            "result: no_4abb2400_nohash_0        ==> NO\n",
            "result: yes_39a12648_nohash_0       ==> YES\n",
            "result: no_49af4432_nohash_0        ==> NO\n",
            "result: yes_fe1916ba_nohash_0       ==> YES\n",
            "result: no_41474817_nohash_0        ==> NO\n",
            "result: yes_39a6b995_nohash_0       ==> NO\n",
            "result: yes_ff63ab0b_nohash_0       ==> YES\n",
            "result: no_4394fc7c_nohash_0        ==> YES\n",
            "result: yes_fc94edb0_nohash_0       ==> YES\n",
            "result: no_ad89eb1e_nohash_0        ==> NO\n",
            "------------------------------------------------------------\n",
            "WER is: 20.00%\n",
            "Total time is: 2.04 sec\n",
            "------------------------------------------------------------\n"
          ]
        }
      ]
    },
    {
      "cell_type": "markdown",
      "source": [
        "Digits, GMM с обычной матрицей ковариации"
      ],
      "metadata": {
        "id": "l7XsB1YDPrhM"
      }
    },
    {
      "cell_type": "code",
      "source": [
        "lexicon_file = 'data/lexicon_digits.txt'\n",
        "lexicon_dict = load_lexicon_dict(lexicon_file)\n",
        "graph = load_graph_gmm(lexicon_dict, phones_dict, covariance_type='full')\n",
        "records_data_dict = load_data_dict(\"data/digits/records\")\n",
        "\n",
        "run_recognizer(records_data_dict, graph, beam_threshold=100)"
      ],
      "metadata": {
        "colab": {
          "base_uri": "https://localhost:8080/",
          "height": 466,
          "referenced_widgets": [
            "14a07f38de754c82aaae16c65b13bc5d",
            "98635bbcff124609bfc27b0fdcc4f8d1",
            "a2904c2f20df4e23b4f0a1996f470878",
            "a5738b9ed438425f9b6210409301affd",
            "2306f694cd1f4927862adfc0988720d1",
            "97d3778e694b43e89563fe8dda55e432",
            "5e121390f1d4436aaf9f86ea6e209735",
            "f6e1b8327c534a2ea6afe3991bdde254",
            "df5045269b6b49c996dfe05956ca589c",
            "09aa9f33f18045f89f355dbe7c6c2712",
            "b8f60fc2ddac49e7b34cdc7c44640487"
          ]
        },
        "id": "zqTokin1PTmm",
        "outputId": "9832dc83-bf3c-4165-82ab-426a666f4552"
      },
      "execution_count": 29,
      "outputs": [
        {
          "output_type": "display_data",
          "data": {
            "text/plain": [
              "0it [00:00, ?it/s]"
            ],
            "application/vnd.jupyter.widget-view+json": {
              "version_major": 2,
              "version_minor": 0,
              "model_id": "14a07f38de754c82aaae16c65b13bc5d"
            }
          },
          "metadata": {}
        },
        {
          "output_type": "stream",
          "name": "stdout",
          "text": [
            "result: five_ffd2ba2f_nohash_0      ==> FIVE\n",
            "result: two_fb2f3242_nohash_0       ==> TWO\n",
            "result: five_f852895b_nohash_0      ==> FIVE\n",
            "result: nine_ccea893d_nohash_0      ==> SEVEN\n",
            "result: four_ffbb695d_nohash_0      ==> FOUR\n",
            "result: seven_fe5c4a7a_nohash_0     ==> SEVEN\n",
            "result: three_feb1d305_nohash_0     ==> SIX\n",
            "result: one_fc2411fe_nohash_0       ==> NINE\n",
            "result: seven_fd32732a_nohash_0     ==> SEVEN\n",
            "result: two_fce65496_nohash_0       ==> SIX\n",
            "result: eight_da584bc0_nohash_4     ==> SIX\n",
            "result: three_fce96bac_nohash_0     ==> SIX\n",
            "result: one_ffa76c4a_nohash_0       ==> ONE\n",
            "result: four_fce65496_nohash_0      ==> FOUR\n",
            "result: six_ffd2ba2f_nohash_0       ==> SIX\n",
            "result: nine_fbe51750_nohash_0      ==> NINE\n",
            "result: eight_daf230ac_nohash_0     ==> SIX\n",
            "result: zero_f92e49f3_nohash_3      ==> SIX\n",
            "result: six_ffbb695d_nohash_0       ==> SIX\n",
            "result: zero_f852895b_nohash_0      ==> FIVE\n",
            "------------------------------------------------------------\n",
            "WER is: 45.00%\n",
            "Total time is: 24.03 sec\n",
            "------------------------------------------------------------\n"
          ]
        }
      ]
    },
    {
      "cell_type": "markdown",
      "source": [
        "Digits, GMM с диагональной матрицей ковариации"
      ],
      "metadata": {
        "id": "HVlVKVSiPtl7"
      }
    },
    {
      "cell_type": "code",
      "source": [
        "lexicon_file = 'data/lexicon_digits.txt'\n",
        "lexicon_dict = load_lexicon_dict(lexicon_file)\n",
        "graph = load_graph_gmm(lexicon_dict, phones_dict, covariance_type='diag')\n",
        "records_data_dict = load_data_dict(\"data/digits/records\")\n",
        "\n",
        "run_recognizer(records_data_dict, graph, beam_threshold=100)"
      ],
      "metadata": {
        "colab": {
          "base_uri": "https://localhost:8080/",
          "height": 466,
          "referenced_widgets": [
            "8006a69d7b3949ffbec974bfb996985d",
            "38d00afb87f24aa8a2ffcc42694ce7fb",
            "3cac805c04874785a4a52261cc5c8891",
            "980f10943cdd41bdbca2428f6d96b9ec",
            "915b8874aad14e68915d92974b9a4ef2",
            "9d2c7ed601df46d385054ac0ebe0a395",
            "757913ebe6294badb71918a7bcdf92dd",
            "2ca9ee24d9b44698a01a8f87e6d47e32",
            "0478db2982af4ac186bb2ee5914aac4e",
            "7024240569624b9ca84d27a4ccc12291",
            "c007bdf7f637497cbc0977024d215f1c"
          ]
        },
        "id": "xoC7U05POKf9",
        "outputId": "95beb8d4-84b2-4264-e265-4f471a226b3b"
      },
      "execution_count": 30,
      "outputs": [
        {
          "output_type": "display_data",
          "data": {
            "text/plain": [
              "0it [00:00, ?it/s]"
            ],
            "application/vnd.jupyter.widget-view+json": {
              "version_major": 2,
              "version_minor": 0,
              "model_id": "8006a69d7b3949ffbec974bfb996985d"
            }
          },
          "metadata": {}
        },
        {
          "output_type": "stream",
          "name": "stdout",
          "text": [
            "result: five_ffd2ba2f_nohash_0      ==> FIVE\n",
            "result: two_fb2f3242_nohash_0       ==> SIX\n",
            "result: five_f852895b_nohash_0      ==> FIVE\n",
            "result: nine_ccea893d_nohash_0      ==> NINE\n",
            "result: four_ffbb695d_nohash_0      ==> FOUR\n",
            "result: seven_fe5c4a7a_nohash_0     ==> SEVEN\n",
            "result: three_feb1d305_nohash_0     ==> THREE\n",
            "result: one_fc2411fe_nohash_0       ==> ONE\n",
            "result: seven_fd32732a_nohash_0     ==> SEVEN\n",
            "result: two_fce65496_nohash_0       ==> EIGHT\n",
            "result: eight_da584bc0_nohash_4     ==> EIGHT\n",
            "result: three_fce96bac_nohash_0     ==> THREE\n",
            "result: one_ffa76c4a_nohash_0       ==> ONE\n",
            "result: four_fce65496_nohash_0      ==> FOUR\n",
            "result: six_ffd2ba2f_nohash_0       ==> SIX\n",
            "result: nine_fbe51750_nohash_0      ==> NINE\n",
            "result: eight_daf230ac_nohash_0     ==> EIGHT\n",
            "result: zero_f92e49f3_nohash_3      ==> ZERO\n",
            "result: six_ffbb695d_nohash_0       ==> SIX\n",
            "result: zero_f852895b_nohash_0      ==> ZERO\n",
            "------------------------------------------------------------\n",
            "WER is: 10.00%\n",
            "Total time is: 20.18 sec\n",
            "------------------------------------------------------------\n"
          ]
        }
      ]
    },
    {
      "cell_type": "markdown",
      "source": [
        "При переходе на GMM с обычной матрицей ковариации качество незначительно выросло, при переходе на GMM с диагональной матрицей ковариации качество выросло значительно. Также GMM с диагональной матрицей ковариации работает быстрее, чем GMM с обычной"
      ],
      "metadata": {
        "id": "8r5eYplwQAFS"
      }
    }
  ]
}